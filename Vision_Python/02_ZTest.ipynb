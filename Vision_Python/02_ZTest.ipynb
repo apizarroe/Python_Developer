{
 "cells": [
  {
   "cell_type": "code",
   "execution_count": 14,
   "id": "354f2da4",
   "metadata": {},
   "outputs": [
    {
     "name": "stdout",
     "output_type": "stream",
     "text": [
      "[[16 69 48 83 43  1 87 56  2 39]\n",
      " [65 80 62 15  7 38 66 71 89 38]\n",
      " [97 96 29 87 57 83 23 41 71 80]\n",
      " [60 64 21 51 79  4 24 66 87 73]\n",
      " [70 66  4 10  7 62 27 92 80 73]]\n"
     ]
    }
   ],
   "source": [
    "import numpy as np\n",
    "\n",
    "def generar_matriz_aleatoria(num_elementos, dimensiones):\n",
    "    \"\"\"\n",
    "    Genera un array de números aleatorios enteros entre 1 y 100 y lo redimensiona a las dimensiones especificadas.\n",
    "    \n",
    "    Parámetros:\n",
    "        num_elementos (int): Número total de elementos aleatorios a generar. Ejemplo: 50\n",
    "        dimensiones (tuple): Dimensiones a las que se debe redimensionar el array. Ejemplo (5,10)\n",
    "    \n",
    "    Retorna:\n",
    "        numpy.ndarray: La matriz redimensionada si el número de elementos es compatible con las dimensiones especificadas.\n",
    "        str: Mensaje de error si el redimensionamiento no es posible.\n",
    "    \n",
    "    \"\"\"    \n",
    "\n",
    "    dimensiona = dimensiones[0]\n",
    "    dimensionb = dimensiones[1]\n",
    "\n",
    "    # Tambien se puede usar el metodo np.prod(tupla)\n",
    "    if num_elementos != dimensiona * dimensionb:\n",
    "        #print(\"Dimensionado no es posible\")\n",
    "        arrglo_aleatorio = \"Dimensionado no es posible\"\n",
    "    else:\n",
    "        arrglo_aleatorio = np.random.randint(1, 100, num_elementos)\n",
    "        arrglo_aleatorio = arrglo_aleatorio.reshape(dimensiones)\n",
    "\n",
    "    return arrglo_aleatorio\n",
    "\n",
    "arreglo = generar_matriz_aleatoria(50,(5,10))\n",
    "print(arreglo)"
   ]
  }
 ],
 "metadata": {
  "kernelspec": {
   "display_name": "Python 3",
   "language": "python",
   "name": "python3"
  },
  "language_info": {
   "codemirror_mode": {
    "name": "ipython",
    "version": 3
   },
   "file_extension": ".py",
   "mimetype": "text/x-python",
   "name": "python",
   "nbconvert_exporter": "python",
   "pygments_lexer": "ipython3",
   "version": "3.12.7"
  }
 },
 "nbformat": 4,
 "nbformat_minor": 5
}
