{
 "cells": [
  {
   "cell_type": "markdown",
   "metadata": {},
   "source": [
    "# NUMBERS   "
   ]
  },
  {
   "cell_type": "code",
   "execution_count": null,
   "metadata": {},
   "outputs": [],
   "source": [
    "# El uso de literales es comun para representar diversos tipos de valores\n",
    "# Dos tipos de literales\n",
    "# Enteros: Los cuales representan un valor numerico\n",
    "# String: Los cuales representan cadenas de texto\n",
    "print(\"2\") # Almacenado como un string\n",
    "print(2) # Almacenado como un set de bits"
   ]
  },
  {
   "cell_type": "code",
   "execution_count": null,
   "metadata": {},
   "outputs": [
    {
     "name": "stdout",
     "output_type": "stream",
     "text": [
      "11111111\n",
      "-11111111\n"
     ]
    }
   ],
   "source": [
    "# Usando valores numericos\n",
    "# Enteros: Sin parte decimal\n",
    "# Punto Flotante: Contienen parte decimal\n",
    "# Manejo de Enteros\n",
    "entero1 = 11111111\n",
    "entero2 = 11_111_111\n",
    "entero3 = -11_111_111\n",
    "print(entero2)\n",
    "print(entero3)"
   ]
  },
  {
   "cell_type": "code",
   "execution_count": 1,
   "metadata": {},
   "outputs": [
    {
     "name": "stdout",
     "output_type": "stream",
     "text": [
      "83\n",
      "291\n",
      "15\n"
     ]
    }
   ],
   "source": [
    "# Numeros Octales\n",
    "# Para representar numeros octales debemos usar el prefijo 0O o 0o\n",
    "octal1 = 0o123\n",
    "print(octal1)\n",
    "\n",
    "# Numeros Hexadecimales\n",
    "# Para representar numeros octales debemos usar el prefijo 0X o 0x\n",
    "exadecimal1 = 0x123\n",
    "print(exadecimal1)\n",
    "\n",
    "# Numeros Binarios\n",
    "# Para representar numeros binarios debemos usar el prefijo 0B o 0b\n",
    "binario = 0b1111\n",
    "print(binario)"
   ]
  },
  {
   "cell_type": "code",
   "execution_count": 6,
   "metadata": {},
   "outputs": [
    {
     "name": "stdout",
     "output_type": "stream",
     "text": [
      "2.5\n",
      "-0.4\n",
      "0.4\n",
      "4.0\n"
     ]
    }
   ],
   "source": [
    "# Números Flotantes\n",
    "flotante1 = 2.5\n",
    "flotante2 = -0.4\n",
    "flotante3 = .4\n",
    "flotante4 = 4.\n",
    "print(flotante1)\n",
    "print(flotante2)\n",
    "print(flotante3)\n",
    "print(flotante4)"
   ]
  },
  {
   "cell_type": "code",
   "execution_count": 3,
   "metadata": {},
   "outputs": [
    {
     "name": "stdout",
     "output_type": "stream",
     "text": [
      "30000000\n",
      "300000000.0\n",
      "6.62607e-34\n",
      "6.62607e-34\n"
     ]
    }
   ],
   "source": [
    "# Notacion Cientifica para numeracion\n",
    "# 'E' o 'e' representa la potencia de 10 elevado a un numero X\n",
    "velocidad1 = 30_000_000\n",
    "velocidad2 = 3E8\n",
    "print(velocidad1)\n",
    "print(velocidad2)\n",
    "ctate_plank1 = 6.62607*(10**-34)\n",
    "ctate_plank2 = 6.62607e-34\n",
    "print(ctate_plank1)\n",
    "print(ctate_plank2)"
   ]
  },
  {
   "cell_type": "code",
   "execution_count": 16,
   "metadata": {},
   "outputs": [
    {
     "name": "stdout",
     "output_type": "stream",
     "text": [
      "2999999999999999999999999999999\n",
      "1e-22\n"
     ]
    }
   ],
   "source": [
    "# Ejemplo de como operar numeros grandes sin perder precisión en las operaciones\n",
    "from decimal import Decimal\n",
    "\n",
    "variable = Decimal(\"3E30\")\n",
    "variable = int(variable)\n",
    "variable = variable - 1\n",
    "print(variable)\n",
    "\n",
    "# Python siempre busc al forma mas economica para representar un numero, esto imprime \"1e-22\"\n",
    "print(0.0000000000000000000001)"
   ]
  },
  {
   "cell_type": "markdown",
   "metadata": {},
   "source": [
    "# STRING"
   ]
  },
  {
   "cell_type": "code",
   "execution_count": 19,
   "metadata": {},
   "outputs": [
    {
     "name": "stdout",
     "output_type": "stream",
     "text": [
      "I like \"Monty Python\"\n"
     ]
    }
   ],
   "source": [
    "# Escape caracter en python para representar \"\n",
    "print(\"I like \\\"Monty Python\\\"\")"
   ]
  },
  {
   "cell_type": "code",
   "execution_count": 20,
   "metadata": {},
   "outputs": [
    {
     "name": "stdout",
     "output_type": "stream",
     "text": [
      "I like \"Monty Python\"\n",
      "I'm Monty Python.\n",
      "I'm Monty Python.\n",
      "The console says: \"This is a warning\"\n"
     ]
    }
   ],
   "source": [
    "# En String podemos usar ' o \"\n",
    "# Si iniciamos con ' cerramos con '\n",
    "# Si iniciamos con \" cerramos con \"\n",
    "print('I like \"Monty Python\"')\n",
    "\n",
    "# Podemos embeber apostrofes o comillas de la siguiente manera\n",
    "print(\"I'm Monty Python.\")\n",
    "print('I\\'m Monty Python.')\n",
    "print('The console says: \"This is a warning\"')"
   ]
  },
  {
   "cell_type": "code",
   "execution_count": null,
   "metadata": {},
   "outputs": [],
   "source": [
    "# Examples for empty string\n",
    "print(\"Ejemplo\")\n",
    "print('')\n",
    "print(\"\")"
   ]
  },
  {
   "cell_type": "markdown",
   "metadata": {},
   "source": [
    "# BOOLEAN"
   ]
  },
  {
   "cell_type": "code",
   "execution_count": 25,
   "metadata": {},
   "outputs": [
    {
     "name": "stdout",
     "output_type": "stream",
     "text": [
      "True\n",
      "False\n",
      "True\n",
      "False\n",
      "True\n",
      "True\n"
     ]
    }
   ],
   "source": [
    "# Usado para representar el valor de veracidad: True / False\n",
    "print(True)\n",
    "print(False)\n",
    "\n",
    "print(True > False)\n",
    "print(True < False)\n",
    "\n",
    "# Validando el valor de True y False\n",
    "print(True == 1)\n",
    "print(False == 0)"
   ]
  }
 ],
 "metadata": {
  "kernelspec": {
   "display_name": "Python 3",
   "language": "python",
   "name": "python3"
  },
  "language_info": {
   "codemirror_mode": {
    "name": "ipython",
    "version": 3
   },
   "file_extension": ".py",
   "mimetype": "text/x-python",
   "name": "python",
   "nbconvert_exporter": "python",
   "pygments_lexer": "ipython3",
   "version": "3.12.7"
  }
 },
 "nbformat": 4,
 "nbformat_minor": 2
}
