{
 "cells": [
  {
   "cell_type": "code",
   "execution_count": null,
   "id": "48a9ba57",
   "metadata": {},
   "outputs": [],
   "source": [
    "# Variables\n",
    "# Se usan para almacenar valores en espacios temporales y reutilizarlos\n",
    "# Tienen un nombre y un valor"
   ]
  },
  {
   "cell_type": "code",
   "execution_count": null,
   "id": "79fd5cd9",
   "metadata": {},
   "outputs": [],
   "source": [
    "# Nombres de variables\n",
    "# the name of the variable must be composed of upper-case or lower-case letters, digits, and the character _ (underscore)\n",
    "# the name of the variable must begin with a letter;\n",
    "# the underscore character is a letter;\n",
    "# upper- and lower-case letters are treated as different;\n",
    "# the name of the variable must not be any of Python's reserved words."
   ]
  },
  {
   "cell_type": "code",
   "execution_count": null,
   "id": "1df1b3b1",
   "metadata": {},
   "outputs": [],
   "source": [
    "# Ejemplos válidos:\n",
    "# MyVariable\n",
    "# i\n",
    "# l\n",
    "# t34\n",
    "# Exchange_Rate\n",
    "# counter\n",
    "# days_to_christmas\n",
    "# TheNameIsTooLongAndHardlyReadable\n",
    "# _\n",
    "# Adiós_Señora\n",
    "# sûr_la_mer\n",
    "# Einbahnstraße\n",
    "# переменная\n",
    "\n",
    "# Ejemplos inválidos:\n",
    "# 10t (does not begin with a letter)\n",
    "# !important (does not begin with a letter)\n",
    "# exchange rate (contains a space)."
   ]
  },
  {
   "cell_type": "code",
   "execution_count": null,
   "id": "3bd14bef",
   "metadata": {},
   "outputs": [],
   "source": [
    "# Reserved keywords\n",
    "['False', 'None', 'True', 'and', 'as', 'assert', 'break', 'class', 'continue', 'def', 'del', \n",
    " 'elif', 'else', 'except', 'finally', 'for', 'from', 'global', 'if', 'import', 'in', 'is', \n",
    " 'lambda', 'nonlocal', 'not', 'or', 'pass', 'raise', 'return', 'try', 'while', 'with', 'yield']\n",
    "# En caso de requerir algunas de esas palabras se puede cambiar por mayúscula\n",
    "# esto cambia el significado dejando de ser una palabra reservada\n",
    "# Ejemplo import a Import"
   ]
  },
  {
   "cell_type": "code",
   "execution_count": 3,
   "id": "67010afb",
   "metadata": {},
   "outputs": [
    {
     "name": "stdout",
     "output_type": "stream",
     "text": [
      "1\n"
     ]
    }
   ],
   "source": [
    "# Creacion de una variable\n",
    "# Una varaible puede almacenar cualquier tipo de variable\n",
    "# Puede cambiar en el tiempo según tus necesidades, un momento puede ser int, luego un float y después un string\n",
    "# No se requiere declarar la variable, esta se crea al asignarsele un valor\n",
    "# Ejemplo\n",
    "# Creación de variable y asignación de un valor a la variable\n",
    "var = 1\n",
    "print(var)\n"
   ]
  },
  {
   "cell_type": "code",
   "execution_count": 6,
   "id": "4b7f3a3a",
   "metadata": {},
   "outputs": [
    {
     "name": "stdout",
     "output_type": "stream",
     "text": [
      "1 1000.0 John Doe\n",
      "1\n"
     ]
    }
   ],
   "source": [
    "# Como usar una variable, solo se deben usar variables existentes\n",
    "var = 1\n",
    "account_balance = 1000.0\n",
    "client_name = 'John Doe'\n",
    "print(var, account_balance, client_name)\n",
    "print(var)\n",
    "# print(Var) # Mostrará una excepcion"
   ]
  },
  {
   "cell_type": "code",
   "execution_count": 7,
   "id": "7818f346",
   "metadata": {},
   "outputs": [
    {
     "name": "stdout",
     "output_type": "stream",
     "text": [
      "Python version: 3.8.5\n"
     ]
    }
   ],
   "source": [
    "# Se pueden combinar texto\n",
    "var = \"3.8.5\"\n",
    "print(\"Python version: \" + var)"
   ]
  },
  {
   "cell_type": "code",
   "execution_count": 9,
   "id": "6c25464b",
   "metadata": {},
   "outputs": [
    {
     "name": "stdout",
     "output_type": "stream",
     "text": [
      "1\n",
      "2\n",
      "500\n"
     ]
    }
   ],
   "source": [
    "# Asignacion de un nuevo valor a una variable ya existente\n",
    "# El signo \"=\" es el operador de asignación\n",
    "var = 1\n",
    "print(var)\n",
    "var = var + 1\n",
    "print(var)\n",
    "\n",
    "# Ejemplo de una reasignacion de valor en una variable\n",
    "var = 100\n",
    "var = 200 + 300\n",
    "print(var)"
   ]
  },
  {
   "cell_type": "code",
   "execution_count": null,
   "id": "582c9cb9",
   "metadata": {},
   "outputs": [
    {
     "name": "stdout",
     "output_type": "stream",
     "text": [
      "c = 5.0\n"
     ]
    }
   ],
   "source": [
    "# Resolviendo problemas matematicos\n",
    "a = 3.0\n",
    "b = 4.0\n",
    "c = (a ** 2 + b ** 2) ** 0.5\n",
    "# La raiz de un numero expresado como potencia es: El número elevado a la 0.5\n",
    "print(\"c =\", c)"
   ]
  },
  {
   "cell_type": "code",
   "execution_count": null,
   "id": "c93b68e5",
   "metadata": {},
   "outputs": [
    {
     "name": "stdout",
     "output_type": "stream",
     "text": [
      "4\n",
      "2\n"
     ]
    }
   ],
   "source": [
    "# Shortcut operators\n",
    "# Operador de asignación combinado\n",
    "x = 2\n",
    "x *= 2 # Esto es igual a x = x * 2\n",
    "print(x)\n",
    "sheep = 1 \n",
    "sheep += 1 # Esto es igual a sheep = sheep + 1\n",
    "print(sheep)\n",
    "\n",
    "# Ejemplo de forma generalizada\n",
    "# variable = variable op expression\n",
    "# variable op= expression\n",
    "\n",
    "# Ejemplos\n",
    "# i = i + 2 * j --> i += 2 * j\n",
    "# var = var / 2 --> var /= 2\n",
    "# j = j - (i + var + rem) --> j -= (i + var + rem)\n",
    "\n",
    "# Recordar ***\n",
    "# Al aplicar operadores de asignación combinados, \n",
    "# primero se resuelve lo que esta a la derecha del \"=\", \n",
    "# luego se aplica la operación a la variable\n",
    "# a /= 2 * b --> a = a / (2 * b)"
   ]
  }
 ],
 "metadata": {
  "kernelspec": {
   "display_name": "Python 3",
   "language": "python",
   "name": "python3"
  },
  "language_info": {
   "codemirror_mode": {
    "name": "ipython",
    "version": 3
   },
   "file_extension": ".py",
   "mimetype": "text/x-python",
   "name": "python",
   "nbconvert_exporter": "python",
   "pygments_lexer": "ipython3",
   "version": "3.12.2"
  }
 },
 "nbformat": 4,
 "nbformat_minor": 5
}
