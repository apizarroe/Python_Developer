{
 "cells": [
  {
   "cell_type": "code",
   "execution_count": 3,
   "id": "bc45b169",
   "metadata": {},
   "outputs": [
    {
     "name": "stdout",
     "output_type": "stream",
     "text": [
      "True\n",
      "True\n",
      "False\n"
     ]
    }
   ],
   "source": [
    "# Operador de Igualdad\n",
    "# = Operador de aginación => a = 15\n",
    "# == Operador de igualdad => a == b\n",
    "print(2 == 2)\n",
    "print(2. == 2) # Python convierte el entero en su real equivalente\n",
    "print(1 == 2)"
   ]
  },
  {
   "cell_type": "code",
   "execution_count": null,
   "id": "0586a03e",
   "metadata": {},
   "outputs": [
    {
     "name": "stdout",
     "output_type": "stream",
     "text": [
      "True\n",
      "False\n"
     ]
    }
   ],
   "source": [
    "# Operador de igualdad\n",
    "# El operador \"==\" compara los valores de dos operandos, el resultado es True si ambos son iguales\n",
    "# Para una variable que cambia constantemente o es ingresada por el metodo input()\n",
    "# el valor de verdad solo lo conoce el runtime de python\n",
    "\n",
    "var = 0  # Assigning 0 to var\n",
    "print(var == 0)\n",
    "\n",
    "var = 1  # Assigning 1 to var\n",
    "print(var == 0)"
   ]
  },
  {
   "cell_type": "code",
   "execution_count": 1,
   "id": "850ec289",
   "metadata": {},
   "outputs": [
    {
     "name": "stdout",
     "output_type": "stream",
     "text": [
      "False\n",
      "True\n"
     ]
    }
   ],
   "source": [
    "# Operador de Desigualdad\n",
    "# El operador \"!=\" realiza la comparación de dos operandos, sin embargo el resultado es True si ambos son diferentes\n",
    "\n",
    "var = 0  # Assigning 0 to var\n",
    "print(var != 0)\n",
    " \n",
    "var = 1  # Assigning 1 to var\n",
    "print(var != 0)"
   ]
  },
  {
   "cell_type": "code",
   "execution_count": null,
   "id": "5d3b75b8",
   "metadata": {},
   "outputs": [
    {
     "name": "stdout",
     "output_type": "stream",
     "text": [
      "True\n",
      "True\n",
      "True\n",
      "True\n"
     ]
    }
   ],
   "source": [
    "# Operadores de Comparacion\n",
    "# Estos operadores tienen mayor prioridad que los operadores de igualdad o desigualdad\n",
    "# Mayor que \">\"\n",
    "print(90 > 85)  # Greater than\n",
    "\n",
    "# Mayor o igual que \">\"\n",
    "print(85 >= 85)  # Greater than or equal to\n",
    "\n",
    "# Menor que \">\"\n",
    "print(80 < 85)  # Less than\n",
    "\n",
    "# Menor o igual que \">\"\n",
    "print(85 <= 85)  # Less than or equal to"
   ]
  },
  {
   "cell_type": "code",
   "execution_count": null,
   "id": "3525612b",
   "metadata": {},
   "outputs": [],
   "source": [
    "# Usando el resultado de las comparaciones\n",
    "# El resultado de una comparacion puede ser almacenada en una variable\n",
    "# Para mostrarla luego o para tomar decisiones sobre el comportamiento del programa"
   ]
  },
  {
   "cell_type": "markdown",
   "id": "d4a6157d",
   "metadata": {},
   "source": [
    "|Protiry|Operador|Type|\n",
    "|---|---|---|\n",
    "|1|**|\n",
    "|2|+ , -|unary|\n",
    "|3|* , / , // , %|\n",
    "|4|+ , -|binary|\n",
    "|5|<, <=, >, >=|\n",
    "|6|== , !=|"
   ]
  },
  {
   "cell_type": "code",
   "execution_count": 19,
   "id": "fa370a8b",
   "metadata": {},
   "outputs": [
    {
     "name": "stdout",
     "output_type": "stream",
     "text": [
      "False\n"
     ]
    }
   ],
   "source": [
    "# Ejemplo el cual imprime False si el valor es menor a 100 e imprime True si el valor es mayor o igual a 100\n",
    "value = int(input(\"Ingrese un valor entero:\"))\n",
    "print(value >= 100)"
   ]
  },
  {
   "cell_type": "code",
   "execution_count": null,
   "id": "dd84cd3b",
   "metadata": {},
   "outputs": [
    {
     "name": "stdout",
     "output_type": "stream",
     "text": [
      "True\n"
     ]
    }
   ],
   "source": [
    "# Condiciones y condicionales\n",
    "# Las instrucciones condicionales permiten al programa poder tomar decisiones \n",
    "# en caso una condicion se cumpla o no, bajo la siguiente estructura\n",
    "# if true_or_not:\n",
    "#    do_this_if_true\n",
    "weather = 22\n",
    "if weather >= 22:\n",
    "    caminar = True\n",
    "if weather < 22:\n",
    "    caminar = False\n",
    "print(caminar)"
   ]
  },
  {
   "cell_type": "code",
   "execution_count": null,
   "id": "5cb2a8a4",
   "metadata": {},
   "outputs": [],
   "source": [
    "# La sentencia if solo aplica para las lineas de codigo identadas, \n",
    "# para salir de la condicion se debe regresar al nivel de identacion original\n",
    "# Para identar una linea se recomienda el tab o cuatro espacios\n",
    "# No se permite combinar los tabs con los espacios para lograr el identado\n",
    "# if the_weather_is_good:\n",
    "#     go_for_a_walk()\n",
    "# have_lunch()\n",
    "# En este ejemplo have_lunch, se ejecutara siempre al terminar la condicional"
   ]
  },
  {
   "cell_type": "code",
   "execution_count": null,
   "id": "10b3cd93",
   "metadata": {},
   "outputs": [],
   "source": [
    "# La sentancia if-else es usada para indicar logica en caso la condicion del if no se cumpla\n",
    "# if true_or_false_condition:\n",
    "#     perform_if_condition_true\n",
    "# else:\n",
    "#     perform_if_condition_false\n",
    "#\n",
    "# Todas las condiciones de identado trabajan de la misma manera en el bloque else\n",
    "# if the_weather_is_good:\n",
    "#     go_for_a_walk()\n",
    "#     have_fun()\n",
    "# else:\n",
    "#     go_to_a_theater()\n",
    "#     enjoy_the_movie()\n",
    "# have_lunch()"
   ]
  },
  {
   "cell_type": "code",
   "execution_count": null,
   "id": "bb2c4666",
   "metadata": {},
   "outputs": [],
   "source": [
    "# Sentencias if-else anidadas\n",
    "# Se tienen dos casos donde existen sentencias if-else anidadas\n",
    "# El primero es cuando la instrucción if se encuentra dentro de otro if\n",
    "# if the_weather_is_good:\n",
    "#     if nice_restaurant_is_found:\n",
    "#         have_lunch()\n",
    "#     else:\n",
    "#         eat_a_sandwich()\n",
    "# else:\n",
    "#     if tickets_are_available:\n",
    "#         go_to_the_theater()\n",
    "#     else:\n",
    "#         go_shopping() \n",
    "#\n",
    "# Cada else refiere al if con el cual esta al mismo nivel de identación, \n",
    "# con esto consigues relacionar cada if con cada else"
   ]
  },
  {
   "cell_type": "code",
   "execution_count": 24,
   "id": "e3e70ba5",
   "metadata": {},
   "outputs": [],
   "source": [
    "# Sentencias elif\n",
    "# El siguiente caso es haciendo uso de la palabra elif, otra forma de decir else if\n",
    "# Con esto se realiza la validación de mas de una condición, \n",
    "# se detiene cuando se detecta una condición verdadera\n",
    "# if the_weather_is_good:\n",
    "#     go_for_a_walk()\n",
    "# elif tickets_are_available:\n",
    "#     go_to_the_theater()\n",
    "# elif table_is_available:\n",
    "#     go_for_lunch()\n",
    "# else:\n",
    "#     play_chess_at_home() \n",
    "#\n",
    "# Esta forma de implementar las condicionales se llaman cascada\n",
    "#\n",
    "# you mustn't use else without a preceding if;\n",
    "# else is always the last branch of the cascade, regardless of whether you've used elif or not;\n",
    "# else is an optional part of the cascade, and may be omitted;\n",
    "# if there is an else branch in the cascade, only one of all the branches is executed;\n",
    "# if there is no else branch, it's possible that none of the available branches is executed.\n"
   ]
  },
  {
   "cell_type": "code",
   "execution_count": null,
   "id": "a11c0e60",
   "metadata": {},
   "outputs": [],
   "source": [
    "# Considereaciones Adicionales\n",
    "# Si cualquiera de las ramas if-elifelse contiene solo una instrucción,\n",
    "# se puede codificar en la misma linea, despues de un signo \":\"\n",
    "# ejemplo:\n",
    "# Read two numbers\n",
    "# number1 = int(input(\"Enter the first number: \"))\n",
    "# number2 = int(input(\"Enter the second number: \"))\n",
    "#  \n",
    "# Choose the larger number\n",
    "# if number1 > number2: larger_number = number1\n",
    "# else: larger_number = number2\n",
    "#  \n",
    "# Print the result\n",
    "# print(\"The larger number is:\", larger_number)"
   ]
  },
  {
   "cell_type": "code",
   "execution_count": null,
   "id": "601e0e55",
   "metadata": {},
   "outputs": [
    {
     "name": "stdout",
     "output_type": "stream",
     "text": [
      "The largest number is: 12\n"
     ]
    }
   ],
   "source": [
    "# Este codigo permite identificar al numero mayor de un grupo de 3\n",
    "# Read three numbers\n",
    "number1 = int(input(\"Enter the first number: \"))\n",
    "number2 = int(input(\"Enter the second number: \"))\n",
    "number3 = int(input(\"Enter the third number: \"))\n",
    "\n",
    "# We temporarily assume that the first number\n",
    "# is the largest one.\n",
    "# We will verify this soon.\n",
    "largest_number = number1\n",
    "\n",
    "# We check if the second number is larger than the current largest_number\n",
    "# and update the largest_number if needed.\n",
    "if number2 > largest_number:\n",
    "    largest_number = number2\n",
    "\n",
    "# We check if the third number is larger than the current largest_number\n",
    "# and update the largest_number if needed.\n",
    "if number3 > largest_number:\n",
    "    largest_number = number3\n",
    "\n",
    "# Print the result\n",
    "print(\"The largest number is:\", largest_number)\n"
   ]
  },
  {
   "cell_type": "code",
   "execution_count": null,
   "id": "b578bf1b",
   "metadata": {},
   "outputs": [
    {
     "name": "stdout",
     "output_type": "stream",
     "text": [
      "5\n"
     ]
    }
   ],
   "source": [
    "# Peusocodigo\n",
    "largest_number = -999999999\n",
    "number = int(input())\n",
    "if number == -1:\n",
    "    print(largest_number)\n",
    "    exit()\n",
    "if number > largest_number:\n",
    "    largest_number = number\n",
    "# Go to line 02\n",
    "\n",
    "# En este bloque de código vemos que se asignamos un valor a la variable \"largest_number\", \n",
    "# la cual es mucho menor que los numeros ingresados. ejm \"-999999999\"\n",
    "# Esperamos que el usuario ingrese tantos numeros como necesita, no importa la cantidad\n",
    "# En caso que el valor ingresado sea -1 el programa se detiene asumiendo que no hay mas datos\n",
    "# En caso se ingrese un número diferente el programa leera otro numero y continuará\n",
    "# La idea es que se ejecute tantas veces como se necesita, esto es un loop\n",
    "# La linea 02 hasta la 08 del codigo hacen un loop.\n"
   ]
  },
  {
   "cell_type": "code",
   "execution_count": 35,
   "id": "2a244621",
   "metadata": {},
   "outputs": [
    {
     "name": "stdout",
     "output_type": "stream",
     "text": [
      "The largest number is: 7\n"
     ]
    }
   ],
   "source": [
    "# Read three numbers.\n",
    "number1 = int(input(\"Enter the first number: \"))\n",
    "number2 = int(input(\"Enter the second number: \"))\n",
    "number3 = int(input(\"Enter the third number: \"))\n",
    " \n",
    "# Check which one of the numbers is the greatest\n",
    "# and pass it to the largest_number variable.\n",
    "largest_number = max(number1, number2, number3)\n",
    " \n",
    "# Print the result.\n",
    "print(\"The largest number is:\", largest_number)\n",
    "\n",
    "# De la misma manera podemos hacer uso de la función min() para retornar el número menor."
   ]
  },
  {
   "cell_type": "code",
   "execution_count": null,
   "id": "3894227d",
   "metadata": {},
   "outputs": [
    {
     "name": "stdout",
     "output_type": "stream",
     "text": [
      "Yes - Spathiphyllum is the best plant ever!\n"
     ]
    }
   ],
   "source": [
    "# Ejercicio 1\n",
    "cadena_ingresada = input(\"Ingrese la cadena deseada: \")\n",
    "if cadena_ingresada == \"Spathiphyllum\":\n",
    "    print(\"Yes - Spathiphyllum is the best plant ever!\")\n",
    "elif cadena_ingresada == \"spathiphyllum\":\n",
    "    print(\"No, I want a big Spathiphyllum!\")\n",
    "else:\n",
    "    print(f\"Spathiphyllum! Not {cadena_ingresada}!\")"
   ]
  },
  {
   "cell_type": "code",
   "execution_count": 48,
   "id": "d83562ca",
   "metadata": {},
   "outputs": [
    {
     "name": "stdout",
     "output_type": "stream",
     "text": [
      "The tax is: 19470.0 thalers\n"
     ]
    }
   ],
   "source": [
    "# Ejercicio 2\n",
    "income = float(input(\"Enter the annual income: \"))\n",
    "\n",
    "if income < 85528:\n",
    "\ttax = income * 0.18 - 556.02\n",
    "\tif tax < 0:\n",
    "\t\ttax = 0.\n",
    "else:\n",
    "\ttax = 14839.02 + 0.32 * (income-85528)\n",
    "\n",
    "tax = round(tax, 0)\n",
    "print(\"The tax is:\", tax, \"thalers\")"
   ]
  },
  {
   "cell_type": "code",
   "execution_count": 53,
   "id": "6503bdca",
   "metadata": {},
   "outputs": [
    {
     "name": "stdout",
     "output_type": "stream",
     "text": [
      "Not within the Gregorian calendar period\n"
     ]
    }
   ],
   "source": [
    "# Ejercicio 3\n",
    "year = int(input(\"Ingrese el año a evaluar: \"))\n",
    "\n",
    "if year < 1582:\n",
    "    print(\"Not within the Gregorian calendar period\")\n",
    "else:\n",
    "    if year%4 != 0:\n",
    "        print(\"Common year\")\n",
    "    elif year%100 != 0:\n",
    "        print(\"Leap year\")\n",
    "    elif year%400 != 0:\n",
    "        print(\"Common year\")\n",
    "    else:\n",
    "        print(\"Leap year\")"
   ]
  }
 ],
 "metadata": {
  "kernelspec": {
   "display_name": "Python 3",
   "language": "python",
   "name": "python3"
  },
  "language_info": {
   "codemirror_mode": {
    "name": "ipython",
    "version": 3
   },
   "file_extension": ".py",
   "mimetype": "text/x-python",
   "name": "python",
   "nbconvert_exporter": "python",
   "pygments_lexer": "ipython3",
   "version": "3.12.2"
  }
 },
 "nbformat": 4,
 "nbformat_minor": 5
}
