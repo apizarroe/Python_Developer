{
 "cells": [
  {
   "cell_type": "code",
   "execution_count": null,
   "id": "66584925",
   "metadata": {},
   "outputs": [],
   "source": [
    "# Comentarios\n",
    "# Lineas son omitidas por el motor de ejecución\n",
    "# Son lineas que permiten a los desarrolladores entender el funcionamiento del codigo"
   ]
  },
  {
   "cell_type": "code",
   "execution_count": 1,
   "id": "e80a48de",
   "metadata": {},
   "outputs": [
    {
     "name": "stdout",
     "output_type": "stream",
     "text": [
      "c = 5.0\n"
     ]
    }
   ],
   "source": [
    "# This program evaluates the hypotenuse c.\n",
    "# a and b are the lengths of the legs.\n",
    "a = 3.0\n",
    "b = 4.0\n",
    "c = (a ** 2 + b ** 2) ** 0.5  # We use ** instead of a square root.\n",
    "print(\"c =\", c)"
   ]
  },
  {
   "cell_type": "code",
   "execution_count": null,
   "id": "b18f9873",
   "metadata": {},
   "outputs": [
    {
     "name": "stdout",
     "output_type": "stream",
     "text": [
      "4\n"
     ]
    }
   ],
   "source": [
    "# Marcando fragmentos de codigo\n",
    "# Se pueden marcar fragmentos de código innecesarios o que no se necesitan temporalmente\n",
    "# Al descomentar el fragmento de código, la lógica cambia completamente\n",
    "# This is a test program.\n",
    "x = 1\n",
    "y = 2\n",
    "# y = y + x\n",
    "print(x + y)"
   ]
  }
 ],
 "metadata": {
  "kernelspec": {
   "display_name": "Python 3",
   "language": "python",
   "name": "python3"
  },
  "language_info": {
   "codemirror_mode": {
    "name": "ipython",
    "version": 3
   },
   "file_extension": ".py",
   "mimetype": "text/x-python",
   "name": "python",
   "nbconvert_exporter": "python",
   "pygments_lexer": "ipython3",
   "version": "3.12.2"
  }
 },
 "nbformat": 4,
 "nbformat_minor": 5
}
