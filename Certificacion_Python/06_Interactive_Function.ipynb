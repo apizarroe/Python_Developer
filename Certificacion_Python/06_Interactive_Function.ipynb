{
 "cells": [
  {
   "cell_type": "code",
   "execution_count": null,
   "id": "573593e9",
   "metadata": {},
   "outputs": [],
   "source": [
    "# Input Function\n",
    "# Permite obtener valores ingresados por los usuarios y luego utilizarlos en el proceso de ejecución del programa\n",
    "# Esta función nos permite manipular la data, obteniendo un programa interactivo"
   ]
  },
  {
   "cell_type": "code",
   "execution_count": null,
   "id": "cbf9f326",
   "metadata": {},
   "outputs": [
    {
     "name": "stdout",
     "output_type": "stream",
     "text": [
      "Tell me anything...\n",
      "Hmm... flipendo ... Really?\n"
     ]
    }
   ],
   "source": [
    "# Es necesario asignar la función a una variable, para que el valor de la función no se pierda\n",
    "print(\"Tell me anything...\")\n",
    "anything = input()\n",
    "print(\"Hmm...\", anything, \"... Really?\")"
   ]
  },
  {
   "cell_type": "code",
   "execution_count": null,
   "id": "ae699d2a",
   "metadata": {},
   "outputs": [
    {
     "name": "stdout",
     "output_type": "stream",
     "text": [
      "Hmm... Prueba ...Really?\n"
     ]
    }
   ],
   "source": [
    "# Ingresando un argumento en la función\n",
    "# Esto permite que al ser usado el input, el prompt nos muestre un mensaje previo\n",
    "# Con esto no necesitamos imprimir una linea solicitando ingresar datos\n",
    "anything = input(\"Tell me anything...\")\n",
    "print(\"Hmm...\", anything, \"...Really?\")"
   ]
  },
  {
   "cell_type": "code",
   "execution_count": null,
   "id": "d3f24062",
   "metadata": {},
   "outputs": [
    {
     "ename": "TypeError",
     "evalue": "unsupported operand type(s) for ** or pow(): 'str' and 'float'",
     "output_type": "error",
     "traceback": [
      "\u001b[31m---------------------------------------------------------------------------\u001b[39m",
      "\u001b[31mTypeError\u001b[39m                                 Traceback (most recent call last)",
      "\u001b[36mCell\u001b[39m\u001b[36m \u001b[39m\u001b[32mIn[10]\u001b[39m\u001b[32m, line 6\u001b[39m\n\u001b[32m      3\u001b[39m anything = \u001b[38;5;28minput\u001b[39m(\u001b[33m\"\u001b[39m\u001b[33mEnter a number: \u001b[39m\u001b[33m\"\u001b[39m)\n\u001b[32m      4\u001b[39m \u001b[38;5;66;03m# Se castea a float para poder realizar calculos, si no muestra TypeError unsupported operand type(s)\u001b[39;00m\n\u001b[32m      5\u001b[39m \u001b[38;5;66;03m# anything = float(anything) \u001b[39;00m\n\u001b[32m----> \u001b[39m\u001b[32m6\u001b[39m something = \u001b[43manything\u001b[49m\u001b[43m \u001b[49m\u001b[43m*\u001b[49m\u001b[43m*\u001b[49m\u001b[43m \u001b[49m\u001b[32;43m2.0\u001b[39;49m\n\u001b[32m      7\u001b[39m \u001b[38;5;28mprint\u001b[39m(anything, \u001b[33m\"\u001b[39m\u001b[33mto the power of 2 is\u001b[39m\u001b[33m\"\u001b[39m, something)\n",
      "\u001b[31mTypeError\u001b[39m: unsupported operand type(s) for ** or pow(): 'str' and 'float'"
     ]
    }
   ],
   "source": [
    "# El valor obtenido por la funcion input sera siempre un string, \n",
    "# no puede ser usado para realizar calculos matematicos\n",
    "anything = input(\"Enter a number: \")\n",
    "# Se castea a float para poder realizar calculos, si no muestra TypeError unsupported operand type(s)\n",
    "# anything = float(anything) \n",
    "something = anything ** 2.0\n",
    "print(anything, \"to the power of 2 is\", something)"
   ]
  },
  {
   "cell_type": "code",
   "execution_count": 16,
   "id": "e34314df",
   "metadata": {},
   "outputs": [
    {
     "name": "stdout",
     "output_type": "stream",
     "text": [
      "10000000000000.0 to the power of 2 is 1e+26\n"
     ]
    }
   ],
   "source": [
    "# Casteo de Tipos\n",
    "# Python cuenta con estas funciones para el casteo de tipos:\n",
    "# the int() function takes one argument (e.g., a string: int(string)) and tries to convert it into an integer; \n",
    "# if it fails, the whole program will fail too (there is a workaround for this situation, but we'll show you this a little later);\n",
    "# the float() function takes one argument (e.g., a string: float(string)) and tries to convert it into a float (the rest is the same).\n",
    "anything = float(input(\"Enter a number: \"))\n",
    "something = anything ** 2.0\n",
    "print(anything, \"to the power of 2 is\", something)"
   ]
  },
  {
   "cell_type": "code",
   "execution_count": 18,
   "id": "fde62508",
   "metadata": {},
   "outputs": [
    {
     "name": "stdout",
     "output_type": "stream",
     "text": [
      "Hypotenuse length is 5.0\n"
     ]
    }
   ],
   "source": [
    "# Programa para el cálculo de la hipotenusa combinando los conceptos revisados\n",
    "leg_a = float(input(\"Input first leg length: \"))\n",
    "leg_b = float(input(\"Input second leg length: \"))\n",
    "hypo = (leg_a**2 + leg_b**2) ** .5\n",
    "print(\"Hypotenuse length is\", hypo)"
   ]
  },
  {
   "cell_type": "code",
   "execution_count": null,
   "id": "5ab2d034",
   "metadata": {},
   "outputs": [
    {
     "name": "stdout",
     "output_type": "stream",
     "text": [
      "Thank you.\n",
      "\n",
      "Your name is Aldo Pizarro.\n"
     ]
    }
   ],
   "source": [
    "# Operadores String\n",
    "# Se pueden usar los operadores + y *\n",
    "# El operador + se usa como un operador concatenador\n",
    "# La concatenación no tiene la propiedad conmutativa \"ab\"+\"ba\" no es igual a \"ba\"+\"ab\"\n",
    "# No se deben combinar lo tipos, todos deben ser string\n",
    "fnam = input(\"May I have your first name, please? \")\n",
    "lnam = input(\"May I have your last name, please? \")\n",
    "print(\"Thank you.\")\n",
    "print(\"\\nYour name is \" + fnam + \" \" + lnam + \".\")"
   ]
  },
  {
   "cell_type": "code",
   "execution_count": 2,
   "id": "91da0eb7",
   "metadata": {},
   "outputs": [
    {
     "name": "stdout",
     "output_type": "stream",
     "text": [
      "JamesJamesJames\n",
      "22222\n",
      "\n",
      "+----------+\n",
      "|          |\n",
      "|          |\n",
      "|          |\n",
      "|          |\n",
      "|          |\n",
      "+----------+\n"
     ]
    }
   ],
   "source": [
    "# Operadores String\n",
    "# El operador * se usa como un operador replicador\n",
    "# Si se usa un numero menor o igual a 0, se produce un string vacio\n",
    "# Ejemplos de replicacion:\n",
    "print(\"James\" * 3)\n",
    "print(5 * \"2\")\n",
    "print()\n",
    "print(\"+\" + 10 * \"-\" + \"+\")\n",
    "print((\"|\" + \" \" * 10 + \"|\\n\") * 5, end=\"\")\n",
    "print(\"+\" + 10 * \"-\" + \"+\")"
   ]
  },
  {
   "cell_type": "code",
   "execution_count": 5,
   "id": "5586a180",
   "metadata": {},
   "outputs": [
    {
     "name": "stdout",
     "output_type": "stream",
     "text": [
      "10\n",
      "Hypotenuse length is 5.0\n"
     ]
    }
   ],
   "source": [
    "# Casteo de Tipos (2)\n",
    "# Se puede convertir un valor numerico en un string, mediante la función str()\n",
    "print(str(10))\n",
    "\n",
    "leg_a = float(input(\"Input first leg length: \"))\n",
    "leg_b = float(input(\"Input second leg length: \"))\n",
    "print(\"Hypotenuse length is \" + str((leg_a**2 + leg_b**2) ** .5))"
   ]
  },
  {
   "cell_type": "code",
   "execution_count": 1,
   "id": "b936d1b3",
   "metadata": {},
   "outputs": [
    {
     "name": "stdout",
     "output_type": "stream",
     "text": [
      "2:0\n"
     ]
    }
   ],
   "source": [
    "# Ejercicio Recomendado\n",
    "hour = int(input(\"Starting time (hours): \"))\n",
    "mins = int(input(\"Starting time (minutes): \"))\n",
    "dura = int(input(\"Event duration (minutes): \"))\n",
    "mins = mins + dura # find a total of all minutes\n",
    "hour = hour + mins // 60 # find a number of hours hidden in minutes and update the hour\n",
    "mins = mins % 60 # correct minutes to fall in the (0..59) range\n",
    "hour = hour % 24 # correct hours to fall in the (0..23) range\n",
    "print(hour, \":\", mins, sep='')"
   ]
  },
  {
   "cell_type": "code",
   "execution_count": null,
   "id": "c07f73c0",
   "metadata": {},
   "outputs": [
    {
     "name": "stdout",
     "output_type": "stream",
     "text": [
      "Hello, Aldo. Nice to meet you!\n",
      "\n",
      "Press Enter to end the program.\n",
      "THE END.\n"
     ]
    }
   ],
   "source": [
    "# Ejemplo de uso de input\n",
    "name = input(\"Enter your name: \")\n",
    "print(\"Hello, \" + name + \". Nice to meet you!\")\n",
    " \n",
    "print(\"\\nPress Enter to end the program.\")\n",
    "input()\n",
    "print(\"THE END.\")"
   ]
  }
 ],
 "metadata": {
  "kernelspec": {
   "display_name": "Python 3",
   "language": "python",
   "name": "python3"
  },
  "language_info": {
   "codemirror_mode": {
    "name": "ipython",
    "version": 3
   },
   "file_extension": ".py",
   "mimetype": "text/x-python",
   "name": "python",
   "nbconvert_exporter": "python",
   "pygments_lexer": "ipython3",
   "version": "3.12.2"
  }
 },
 "nbformat": 4,
 "nbformat_minor": 5
}
