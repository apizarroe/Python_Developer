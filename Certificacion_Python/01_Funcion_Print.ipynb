{
 "cells": [
  {
   "cell_type": "code",
   "execution_count": 19,
   "metadata": {},
   "outputs": [
    {
     "name": "stdout",
     "output_type": "stream",
     "text": [
      "¡Hola, Mundo!\n"
     ]
    }
   ],
   "source": [
    "# Funcion de Metodo Print\n",
    "# Todo metodo puede tener: Un efecto / Un resultado\n",
    "# Efecto: Realizar alguna acción\n",
    "# Resultado: Evaluar un valor\n",
    "print(\"¡Hola, Mundo!\")"
   ]
  },
  {
   "cell_type": "code",
   "execution_count": 20,
   "metadata": {},
   "outputs": [
    {
     "name": "stdout",
     "output_type": "stream",
     "text": [
      "¡Hola, Mundo!\n"
     ]
    }
   ],
   "source": [
    "# Las funciones pueden tener argumentos (ninguno o varios)\n",
    "# Los métodos pueden retornar o no valores \n",
    "# Toda función requiere de un par de parentesis de forma obligatoria\n",
    "# Ejemplo de un metodo con un parametro 'string'\n",
    "print(\"¡Hola, Mundo!\")"
   ]
  },
  {
   "cell_type": "code",
   "execution_count": 21,
   "metadata": {},
   "outputs": [],
   "source": [
    "# Comportamiento de ejecución de un metodo\n",
    "# Valida si el nombre especificado es legal\n",
    "# Valida los argumentos entregados en la invocación\n",
    "# Ingresa al cuerpo de la función\n",
    "# Ejecuta el código y evalua si tiene el efecto deseado\n",
    "# Sale del método y continua la ejecución del código"
   ]
  },
  {
   "cell_type": "code",
   "execution_count": 22,
   "metadata": {},
   "outputs": [
    {
     "name": "stdout",
     "output_type": "stream",
     "text": [
      "\n",
      "La Witsi Witsi Araña subió a su telaraña.\n",
      "Vino la lluvia y se la llevó.\n"
     ]
    }
   ],
   "source": [
    "# Ejeución vacia de print: Genera solo un salto de linea\n",
    "print()\n",
    "\n",
    "# Ejecuciones de print con argumentos\n",
    "print(\"La Witsi Witsi Araña subió a su telaraña.\")\n",
    "print(\"Vino la lluvia y se la llevó.\")"
   ]
  },
  {
   "cell_type": "code",
   "execution_count": 23,
   "metadata": {},
   "outputs": [
    {
     "name": "stdout",
     "output_type": "stream",
     "text": [
      "La Witsi Witsi Araña\n",
      "subió a su telaraña.\n",
      "\n",
      "Vino la lluvia\n",
      "y se la llevó.\n",
      "\n",
      "\\\n",
      "Tabulamos\tcadenas\n"
     ]
    }
   ],
   "source": [
    "# Uso de caracteres de escape\n",
    "# Salto de línea \\n\n",
    "print(\"La Witsi Witsi Araña\\nsubió a su telaraña.\")\n",
    "print()\n",
    "print(\"Vino la lluvia\\ny se la llevó.\")\n",
    "print()\n",
    "\n",
    "# '\\' como valor literal\n",
    "print(\"\\\\\")\n",
    "\n",
    "# Tabulador \\t\n",
    "print(\"Tabulamos\\tcadenas\")"
   ]
  },
  {
   "cell_type": "code",
   "execution_count": 25,
   "metadata": {},
   "outputs": [
    {
     "name": "stdout",
     "output_type": "stream",
     "text": [
      "La Witsi Witsi Araña subió a su telaraña.\n"
     ]
    }
   ],
   "source": [
    "# Print con multiples argumentos\n",
    "# Los argumentos se transforman en una sola cadena\n",
    "# Las ',' se transforman en espacios entre los argumentos\n",
    "print(\"La Witsi Witsi Araña\" , \"subió\" , \"a su telaraña.\")"
   ]
  },
  {
   "cell_type": "code",
   "execution_count": null,
   "metadata": {},
   "outputs": [
    {
     "name": "stdout",
     "output_type": "stream",
     "text": [
      "My name is Python.\n",
      "Monty Python.\n"
     ]
    }
   ],
   "source": [
    "# Los argumntos posicionales (Positional Arguments), es la forma mas comun de invocar un método\n",
    "# El forma de usar los argumentos y su significado esta definido por su posición\n",
    "print(\"My name is\", \"Python.\")\n",
    "print(\"Monty Python.\")"
   ]
  },
  {
   "cell_type": "code",
   "execution_count": null,
   "metadata": {},
   "outputs": [
    {
     "name": "stdout",
     "output_type": "stream",
     "text": [
      "My name is Python. Monty Python.\n"
     ]
    }
   ],
   "source": [
    "# Los argumentos palabras clave (Keyword arguments)\n",
    "# El forma de usar los argumentos y su significado esta definido por el uso de palabras clave\n",
    "print(\"My name is\", \"Python.\", end=\" \")\n",
    "print(\"Monty Python.\")\n",
    "# ***Los argumentos palabras clave van siempre despues de los argumentos posicionales"
   ]
  },
  {
   "cell_type": "code",
   "execution_count": 3,
   "metadata": {},
   "outputs": [
    {
     "name": "stdout",
     "output_type": "stream",
     "text": [
      "My name is Monty Python.\n"
     ]
    }
   ],
   "source": [
    "# El comportamiento por defecto de \"end\" si no se define explicitamente es end=\"\\n\"\n",
    "# Definiendo end vacio\n",
    "print(\"My name is \", end=\"\")\n",
    "print(\"Monty Python.\")"
   ]
  },
  {
   "cell_type": "code",
   "execution_count": null,
   "metadata": {},
   "outputs": [
    {
     "name": "stdout",
     "output_type": "stream",
     "text": [
      "My-name-is-Monty-Python.\n"
     ]
    }
   ],
   "source": [
    "# Argumento palabra clave sep (separator), ejemplo usando como separador \"-\"\n",
    "print(\"My\", \"name\", \"is\", \"Monty\", \"Python.\", sep=\"-\")"
   ]
  },
  {
   "cell_type": "code",
   "execution_count": 2,
   "metadata": {},
   "outputs": [
    {
     "name": "stdout",
     "output_type": "stream",
     "text": [
      "My_name_is*Monty*Python.*\n",
      "Test\n"
     ]
    }
   ],
   "source": [
    "# Ejemplos de string cambiando el separador y el fin de linea por defecto\n",
    "print(\"My\", \"name\", \"is\", sep=\"_\", end=\"*\")\n",
    "print(\"Monty\", \"Python.\", sep=\"*\", end=\"*\\n\")\n",
    "print(\"Test\")"
   ]
  },
  {
   "cell_type": "code",
   "execution_count": 5,
   "metadata": {},
   "outputs": [],
   "source": [
    "# String son delimitados por '' o \"\"\n",
    "string1 = \"I am a string\"\n",
    "string2 = 'I am a string'"
   ]
  }
 ],
 "metadata": {
  "kernelspec": {
   "display_name": "Python 3",
   "language": "python",
   "name": "python3"
  },
  "language_info": {
   "codemirror_mode": {
    "name": "ipython",
    "version": 3
   },
   "file_extension": ".py",
   "mimetype": "text/x-python",
   "name": "python",
   "nbconvert_exporter": "python",
   "pygments_lexer": "ipython3",
   "version": "3.12.2"
  }
 },
 "nbformat": 4,
 "nbformat_minor": 2
}
