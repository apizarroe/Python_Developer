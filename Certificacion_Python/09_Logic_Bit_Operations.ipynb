{
 "cells": [
  {
   "cell_type": "code",
   "execution_count": null,
   "id": "af6f0e8e",
   "metadata": {},
   "outputs": [],
   "source": [
    "# Logica de Computo\n",
    "# Para realizar condicionales mas complejas podemos hacer uso de la combinacion de multiples condicionales\n",
    "# como son el uso de conjuncion (and) y la disyuncion (or)"
   ]
  },
  {
   "cell_type": "code",
   "execution_count": null,
   "id": "28d2991f",
   "metadata": {},
   "outputs": [],
   "source": [
    "# Operador and\n",
    "# Para la conjuncion se usa el operador binario \"and\", \n",
    "# En el caso de and todas las condiciones deben cumplirse para que el resultado sea verdadero\n",
    "# Su prioridad es menor que los operadores de comparacion\n",
    "# counter > 0 and value == 100"
   ]
  },
  {
   "cell_type": "code",
   "execution_count": null,
   "id": "ad7c2691",
   "metadata": {},
   "outputs": [],
   "source": [
    "# Operador or\n",
    "# Para la disjuncion se usa el operador binario \"or\",\n",
    "# En el caso de or al menos una de las condiciones deben cumplirse para que el resultado sea verdadero\n",
    "# Su prioridad es menor que and\n",
    "# counter > 0 or value == 100"
   ]
  },
  {
   "cell_type": "code",
   "execution_count": null,
   "id": "a838f106",
   "metadata": {},
   "outputs": [],
   "source": [
    "# Operador not\n",
    "# Este es el operador unario de negación \"not\"\n",
    "# Consiste en invertir el valor de verdad\n",
    "# Su prioridad es muy alta, similar a la de los operadores unarios (+ y -)\n",
    "# not value == 100"
   ]
  },
  {
   "cell_type": "code",
   "execution_count": 4,
   "id": "ba67dace",
   "metadata": {},
   "outputs": [
    {
     "name": "stdout",
     "output_type": "stream",
     "text": [
      "False\n",
      "False\n",
      "False\n",
      "False\n"
     ]
    }
   ],
   "source": [
    "# Expresiones Logicas\n",
    "var = 0\n",
    "\n",
    "# Example 1:\n",
    "print(var > 0)\n",
    "print(not (var <= 0))\n",
    " \n",
    "# Example 2:\n",
    "print(var != 0)\n",
    "print(not (var == 0))"
   ]
  },
  {
   "cell_type": "code",
   "execution_count": null,
   "id": "2e085907",
   "metadata": {},
   "outputs": [],
   "source": [
    "# De Morgan's laws. They say that:\n",
    "# The negation of a conjunction is the disjunction of the negations.\n",
    "# The negation of a disjunction is the conjunction of the negations.\n",
    "# not (p and q) == (not p) or (not q)\n",
    "# not (p or q) == (not p) and (not q)\n",
    "# Para estos operadores logicos no podemos usar la forma abreviada op="
   ]
  },
  {
   "cell_type": "code",
   "execution_count": 22,
   "id": "e25aedd6",
   "metadata": {},
   "outputs": [
    {
     "name": "stdout",
     "output_type": "stream",
     "text": [
      "42\n",
      "0\n",
      "1\n",
      "170\n"
     ]
    }
   ],
   "source": [
    "# Valores logico vs Bits individuales\n",
    "# Operadores logicos toman sus argumentos como un todo independiente de cuantos bit contienen.\n",
    "# Se espera el valor de cero (cuando todos los bits son reseteados), significa False;\n",
    "# no cero (cuando al menos un bit es seteado), significa True\n",
    "\n",
    "x = 0\n",
    "y = 42\n",
    "\n",
    "print(x or y) # 42, porque x es False y y es True\n",
    "print(x and y) # 0, porque x es False\n",
    "\n",
    "a = 0b00000000 # todos los bits en 0 → es 0 → False\n",
    "b = 0b00000001 # al menos un bit en 1 → es 1 → True\n",
    "c = 0b10101010 # varios bits en 1 → es 170 → True\n",
    "\n",
    "# Devuelve el primer valor que sea \"verdadero\" (truthy). Si ninguno lo es, devuelve el último.\n",
    "# Si a es truthy, devuelve a\n",
    "# Si a es falsy, devuelve b\n",
    "print(a or b) # b (1)\n",
    "# Devuelve el primer valor que sea \"falso\" (falsy). Si ninguno lo es, devuelve el último.\n",
    "# Si el primer operando (b) es falsy (como 0, None, False, etc.), devuelve ese primer operando.\n",
    "# Si el primer operando es truthy, devuelve el segundo operando.\n",
    "print(b and c) # c (170) \n"
   ]
  },
  {
   "cell_type": "code",
   "execution_count": null,
   "id": "5afabba5",
   "metadata": {},
   "outputs": [],
   "source": [
    "# Operaciones bit a bit (Bitwise Operators)\n",
    "# Existen operadores que tambien permiten manipular bits individuales de datos.\n",
    "# Estos tambien tienen los operadores vistos a nivel lógico\n",
    "# pero ademas cuentan con el operador xor (^)\n",
    "# & (ampersand) ‒ bitwise conjunction;\n",
    "# | (bar) ‒ bitwise disjunction;\n",
    "# ~ (tilde) ‒ bitwise negation;\n",
    "# ^ (caret) ‒ bitwise exclusive or (xor).\n"
   ]
  },
  {
   "cell_type": "markdown",
   "id": "9af8adbb",
   "metadata": {},
   "source": [
    "|Argument A|Argument B| A & B | A \\| B | A ^ B |\n",
    "|---|---|---|---|---|\n",
    "|0|0|0|0|0|\n",
    "|0|1|0|1|1|\n",
    "|1|0|0|1|1|\n",
    "|1|1|1|1|0|"
   ]
  },
  {
   "cell_type": "code",
   "execution_count": null,
   "id": "8a6b7b54",
   "metadata": {},
   "outputs": [],
   "source": [
    "# Los Argunmentos deben ser enteros no se deben usar valores del tipo float\n",
    "# La diferencia entre los operadores logicos y operadores de bit,\n",
    "# es que los operadores logicos no llegan al nivel de bit de sus argumentos\n",
    "# solo se limitan al valor entero final."
   ]
  },
  {
   "cell_type": "code",
   "execution_count": null,
   "id": "4db81a5c",
   "metadata": {},
   "outputs": [
    {
     "name": "stdout",
     "output_type": "stream",
     "text": [
      "22\n",
      "6\n",
      "False\n",
      "True\n",
      "-16\n"
     ]
    }
   ],
   "source": [
    "# Logical vs. bit operations\n",
    "\n",
    "# Logical operations\n",
    "# En este caso ambas variables son diferente de cero, entonces el resultado es True\n",
    "i = 15\n",
    "j = 22\n",
    "log = i and j\n",
    "print(log)\n",
    "\n",
    "# Bitwise operations\n",
    "# En este caso se hace la evaluacion a nivel de bits\n",
    "# Primer valor: 01111\n",
    "# Segundo valor: 10110\n",
    "bit = i & j\n",
    "print(bit) # Resultado: 00110 = (6)\n",
    "\n",
    "# En la negacion logica el valor se convierte en False\n",
    "ineg = not i\n",
    "print(ineg)\n",
    "\n",
    "# En la negacion a nivel de bit se convierte en su complemento\n",
    "# Basado en la formula complemento = -x-1, por lo tanto es -16\n",
    "bitineg = ~i\n",
    "print(bitineg)\n",
    "\n",
    "# En las operaciones bit a bit si se permite la asignacion op=\n",
    "# x = x & y --> x &= y\n",
    "# x = x | y --> x |= y\n",
    "# x = x ^ y --> x ^= y"
   ]
  },
  {
   "cell_type": "code",
   "execution_count": null,
   "id": "8cdbfa2d",
   "metadata": {},
   "outputs": [],
   "source": [
    "# Tratamiento de bits individuales\n",
    "# Tenemos la siguiente variable a tratar en el desarrollo de un modulo en un Sistema Operativo\n",
    "# flag_register = 0x1234\n",
    "# La variable almacena información de diversos aspectos del sistema operativo\n",
    "# Cada variable almacena valor de si/no y solo una de esas variables es nuestra (la tercera)\n",
    "# Considerar que las variables se enumeran desde 0, \n",
    "# donde 0 es el menos representativo y el 31 el mas representativo\n",
    "# flag_register = 0000000000000000000000000000x000\n",
    "# El bit a manipular esta marcado con x\n"
   ]
  },
  {
   "cell_type": "code",
   "execution_count": null,
   "id": "91e16ba9",
   "metadata": {},
   "outputs": [],
   "source": [
    "# Validar el estado del bit: \n",
    "# x & 1 = x\n",
    "# x & 0 = 0\n",
    "# Podemos usar la operacion & a la variable flag_register con la siguiente cadenad de bits\n",
    "# 00000000000000000000000000001000\n",
    "# Se obtendran los siguientes resultados\n",
    "# 00000000000000000000000000001000 si el bit esta fijado en 1\n",
    "# 00000000000000000000000000000000 si el bit esta fijado en 0\n",
    "# La secuencia usada para mantener o cambiar el valor de bits deseados se llama mascara de bits\n",
    "# Como el bit a manipular seré el tercero, el bit tiene el peso 2 ^ 3= 8\n",
    "# the_mask = 8\n",
    "# Tambien se puede instrucciones apartir de estado del bit.\n",
    "# if flag_register & the_mask:\n",
    "#     My bit is set.\n",
    "# else:\n",
    "#     My bit is reset.\n",
    "# El resultado debe sigue siguiente patron: 0000000000000000000000000000x000"
   ]
  },
  {
   "cell_type": "code",
   "execution_count": null,
   "id": "a601b9bc",
   "metadata": {},
   "outputs": [],
   "source": [
    "# Resetear el bit\n",
    "# Se debe asignar el valor de 0 al bit, mientras los otros permanecen sin cambiarse\n",
    "# se usa la conjuncion, pero con diferente mascara\n",
    "# 11111111111111111111111111110111\n",
    "# es la mascara aplicando la negacion\n",
    "# flag_register = flag_register & ~the_mask\n",
    "# flag_register &= ~the_mask\n",
    "# El resultado debe sigue siguiente patron: xxxxxxxxxxxxxxxxxxxxxxxxxxxx0xxx"
   ]
  },
  {
   "cell_type": "code",
   "execution_count": null,
   "id": "1370e9ec",
   "metadata": {},
   "outputs": [],
   "source": [
    "# Setear el bit\n",
    "# x | 1 = 1\n",
    "# x | 0 = x\n",
    "# Se asigna 1 la bit, mientras los demas bits se mantienen sin cambio\n",
    "# flag_register = flag_register | the_mask\n",
    "# flag_register |= the_mask\n",
    "# El resultado debe sigue siguiente patron: xxxxxxxxxxxxxxxxxxxxxxxxxxxx1xxx"
   ]
  },
  {
   "cell_type": "code",
   "execution_count": null,
   "id": "030fb047",
   "metadata": {},
   "outputs": [],
   "source": [
    "# Negar el bit\n",
    "# Se reemplazara el bit con el valor negado. \n",
    "# Para esto se puede usar el operador xor\n",
    "# x ^ 1 = ~x\n",
    "# x ^ 0 = x\n",
    "# la negacion se realizará de la siguiente manera\n",
    "# flag_register = flag_register ^ the_mask\n",
    "# flag_register ^= the_mask\n",
    "# El resultado debe sigue siguiente patron: xxxxxxxxxxxxxxxxxxxxxxxxxxxx(~x)xxx"
   ]
  },
  {
   "cell_type": "code",
   "execution_count": null,
   "id": "9ff4d527",
   "metadata": {},
   "outputs": [],
   "source": [
    "# Desplazamiento binario a la izquierda y a la derecha\n",
    "# Esta operacion solo se realiza con valores enteros\n",
    "# Dicha operacion ya ha sido aplicada de manera inconsciente al realizar la multiplicacion por 10\n",
    "# 12345 × 10 = 123450\n",
    "# Los digitos se mueven a la izquierda\n",
    "# Y cuando se hace la division por 10\n",
    "# 12340 ÷ 10 = 1234\n",
    "# Los digitos se mueven a la derecha\n",
    "# Sin embargo al trabajar los bits en base 2, la multiplicacion o division se hará con 2\n",
    "# La operacion shift en Python se realizará haciendo uso de >> y <<\n",
    "# value << bits\n",
    "# value >> bits\n",
    "# El argumento de la izquierda es el valor entero al que se aplica el shift\n",
    "# El argumento de la derecha es el numero de bits que desplazara"
   ]
  },
  {
   "cell_type": "code",
   "execution_count": null,
   "id": "f4307a33",
   "metadata": {},
   "outputs": [
    {
     "name": "stdout",
     "output_type": "stream",
     "text": [
      "17 68 8\n"
     ]
    }
   ],
   "source": [
    "var = 17\n",
    "var_left = var << 2\n",
    "var_right = var >> 1\n",
    "print(var, var_left, var_right)\n",
    "# 17 >> 1 -> es igual a 17 dividido por 2 = 8 (es la division entera del numero por 2)\n",
    "# 17 << 2 -> es igual a 17 multiplicado por 4 = 68 (es la division entera del numero por 4)"
   ]
  },
  {
   "cell_type": "markdown",
   "id": "cd0ff683",
   "metadata": {},
   "source": [
    "|Protiry|Operador|Type|\n",
    "|---|---|---|\n",
    "|1|**|\n",
    "|2|~, + , -|unary|\n",
    "|3|* , / , // , %|\n",
    "|4|+ , -|binary|\n",
    "|5|<< , >>|\n",
    "|6|&|\n",
    "|7|^|\n",
    "|8|\\||\n",
    "|9|<, <=, >, >=, !=, ==|\n",
    "|10|not|\n",
    "|11|and|\n",
    "|12|or|\n",
    "|13|=, +=, -=, *=, /=, %=, &=, ^=, \\|=, >>=, <<=|"
   ]
  }
 ],
 "metadata": {
  "kernelspec": {
   "display_name": "Python 3",
   "language": "python",
   "name": "python3"
  },
  "language_info": {
   "codemirror_mode": {
    "name": "ipython",
    "version": 3
   },
   "file_extension": ".py",
   "mimetype": "text/x-python",
   "name": "python",
   "nbconvert_exporter": "python",
   "pygments_lexer": "ipython3",
   "version": "3.12.7"
  }
 },
 "nbformat": 4,
 "nbformat_minor": 5
}
