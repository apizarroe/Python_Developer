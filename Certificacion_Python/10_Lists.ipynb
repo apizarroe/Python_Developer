{
 "cells": [
  {
   "cell_type": "code",
   "execution_count": 64,
   "id": "5b72fd80",
   "metadata": {},
   "outputs": [],
   "source": [
    "# Listas\n",
    "# Se define mediante el siguiente patron: var = [item1, item2, item3... itemn]\n",
    "# Puede contener diferentes tipos de datos\n",
    "# Las posiciones empiezan con el valor 0 y terminan en n-1, si la cantidad de valores es n\n",
    "# Es una coleccion de datos mutable\n",
    "# Las listas pueden contener otra lista como elemento\n",
    "numbers = [10, 5, 7, 2, 1] # Creacion de una lista con 5 valores enteros"
   ]
  },
  {
   "cell_type": "code",
   "execution_count": 65,
   "id": "6a7be8ff",
   "metadata": {},
   "outputs": [
    {
     "name": "stdout",
     "output_type": "stream",
     "text": [
      "Original list contents: [10, 5, 7, 2, 1]\n",
      "New list contents: [111, 5, 7, 2, 1]\n",
      "New list contents: [111, 1, 7, 2, 1]\n",
      "\n",
      "List length: 5\n"
     ]
    }
   ],
   "source": [
    "# Indexando listas\n",
    "# Para la asignacion de valores en la lista se indica la posicion donde el valor será almacenado\n",
    "# Recordemos que el primer elemento esta en la posicion 0\n",
    "print(\"Original list contents:\", numbers) # Printing original list contents.\n",
    "\n",
    "numbers[0] = 111\n",
    "print(\"New list contents:\", numbers) # Current list contents.\n",
    "\n",
    "numbers[1] = numbers[4]  # Copying value of the fifth element to the second.\n",
    "print(\"New list contents:\", numbers)  # Printing current list contents.\n",
    "\n",
    "# Los indices de los ejemplos son literales, pero tambien podrian ser expresiones,\n",
    "# con lo cual se permite tener un mayor control del manejo de datos.\n",
    "\n",
    "# La funcion len()\n",
    "# Permite obtener la cantidad de elementos en una lista, esto es un valor dinamico pues los elementos pueden ser eliminado o agregados en una lista\n",
    "print(\"\\nList length:\", len(numbers))  # Printing the list's length.\n"
   ]
  },
  {
   "cell_type": "code",
   "execution_count": null,
   "id": "f54b7934",
   "metadata": {},
   "outputs": [
    {
     "name": "stdout",
     "output_type": "stream",
     "text": [
      "4\n",
      "[111, 7, 2, 1]\n"
     ]
    }
   ],
   "source": [
    "# Removiendo elementos de Listas\n",
    "# Para remover elementos de una lista se usa la instruccion del ..., esto es una instruccion no una funcion.\n",
    "# Se apunta al elemento a eliminar y la lista queda reducida en uno.\n",
    "del numbers[1]\n",
    "print(len(numbers))\n",
    "print(numbers)\n",
    "# Con esta sentencia solo quedaran cuatro elementos, esto significa que el elemento nro cuatro no existe.\n",
    "# Con la sentencia del numbers se puede borrar la lista\n",
    "\n",
    "# No se puede eliminar elementos que no existen, tampoco no se puede asignar un valor, ambas acciones pueden causar error\n",
    "# print(numbers[4])\n",
    "# numbers[4] = 1\n"
   ]
  },
  {
   "cell_type": "code",
   "execution_count": 67,
   "id": "169b78a9",
   "metadata": {},
   "outputs": [
    {
     "name": "stdout",
     "output_type": "stream",
     "text": [
      "1\n",
      "2\n",
      "111\n"
     ]
    }
   ],
   "source": [
    "# Indices Negativos\n",
    "# Se puede hacer uso de los indices negativos, el ultimo elemento de una lista tiene la posición -1\n",
    "numbers = [111, 7, 2, 1]\n",
    "print(numbers[-1])\n",
    "print(numbers[-2])\n",
    "# En el ejemplo el primer elemento de la lista tendra el indice -4\n",
    "print(numbers[-4])"
   ]
  },
  {
   "cell_type": "code",
   "execution_count": 68,
   "id": "d2ba0f5f",
   "metadata": {},
   "outputs": [
    {
     "ename": "ValueError",
     "evalue": "invalid literal for int() with base 10: ''",
     "output_type": "error",
     "traceback": [
      "\u001b[31m---------------------------------------------------------------------------\u001b[39m",
      "\u001b[31mValueError\u001b[39m                                Traceback (most recent call last)",
      "\u001b[36mCell\u001b[39m\u001b[36m \u001b[39m\u001b[32mIn[68]\u001b[39m\u001b[32m, line 5\u001b[39m\n\u001b[32m      1\u001b[39m hat_list = [\u001b[32m1\u001b[39m, \u001b[32m2\u001b[39m, \u001b[32m3\u001b[39m, \u001b[32m4\u001b[39m, \u001b[32m5\u001b[39m]  \u001b[38;5;66;03m# This is an existing list of numbers hidden in the hat.\u001b[39;00m\n\u001b[32m      3\u001b[39m \u001b[38;5;66;03m# Step 1: write a line of code that prompts the user\u001b[39;00m\n\u001b[32m      4\u001b[39m \u001b[38;5;66;03m# to replace the middle number with an integer number entered by the user.\u001b[39;00m\n\u001b[32m----> \u001b[39m\u001b[32m5\u001b[39m number_user = \u001b[38;5;28;43mint\u001b[39;49m\u001b[43m(\u001b[49m\u001b[38;5;28;43minput\u001b[39;49m\u001b[43m(\u001b[49m\u001b[33;43m\"\u001b[39;49m\u001b[33;43mIngrese un numerom entero: \u001b[39;49m\u001b[33;43m\"\u001b[39;49m\u001b[43m)\u001b[49m\u001b[43m)\u001b[49m\n\u001b[32m      6\u001b[39m hat_list[\u001b[32m2\u001b[39m] = number_user\n\u001b[32m      8\u001b[39m \u001b[38;5;66;03m# Step 2: write a line of code that removes the last element from the list.\u001b[39;00m\n",
      "\u001b[31mValueError\u001b[39m: invalid literal for int() with base 10: ''"
     ]
    }
   ],
   "source": [
    "hat_list = [1, 2, 3, 4, 5]  # This is an existing list of numbers hidden in the hat.\n",
    "\n",
    "# Step 1: write a line of code that prompts the user\n",
    "# to replace the middle number with an integer number entered by the user.\n",
    "number_user = int(input(\"Ingrese un numerom entero: \"))\n",
    "hat_list[2] = number_user\n",
    "\n",
    "# Step 2: write a line of code that removes the last element from the list.\n",
    "del hat_list[4]\n",
    "\n",
    "# Step 3: write a line of code that prints the length of the existing list.\n",
    "print(len(hat_list))\n",
    "\n",
    "print(hat_list)\n"
   ]
  },
  {
   "cell_type": "code",
   "execution_count": null,
   "id": "9563ca35",
   "metadata": {},
   "outputs": [],
   "source": [
    "# Metodos vs funciones\n",
    "# Una funcion pertenece al codigo completo, mientra que un metodo pertenece a la data para la que está trabajando\n",
    "# La invocacion de una funcion es de la siguiente manera: result = function(arg)\n",
    "# Toma un argumento hace algo y retorna un resultado\n",
    "# La invocacion de un metodo es de la siguiente manera: result = data.method(arg)\n",
    "# El nombre del metodo es predecedido por el nombre de la data la cual es dueña del metodo, \n",
    "# seguida de un punto y luego el nombre del metodo y un par de parentesis encerrando el argumento.\n",
    "# Además de lo que hace una funcion un metodo puede camboar el estado interno de los datos desde el cual es invocado\n",
    "# Es importante saber la diferencia pues para agregar elementos a una lista se usaran los metodos correspondientes a listas, no funciones."
   ]
  },
  {
   "cell_type": "code",
   "execution_count": null,
   "id": "072030c4",
   "metadata": {},
   "outputs": [],
   "source": [
    "# Agregando elementos a la lista: append() and insert()\n",
    "# Se puede agregar un elemento al final de la lista, mediante list.append(value)\n",
    "# Esto ademas tiene como resultado el incremento del tamaño de la lista en una posicion.\n",
    "# Se puede tambien agregar un elemento en una posicion especifica, mediante list.insert(location, value)\n",
    "# Se recibe dos argumentos la posicion donde sera insertado el nuevo elemento,\n",
    "# ocasionando que los elementos a la derecha ademas del elemento de la posicion corran una posicion a la derecha,\n",
    "# el segundo argumento es el elemento a insertar.\n"
   ]
  },
  {
   "cell_type": "code",
   "execution_count": null,
   "id": "91b5d3b3",
   "metadata": {},
   "outputs": [
    {
     "name": "stdout",
     "output_type": "stream",
     "text": [
      "5\n",
      "[111, 7, 2, 1, 4]\n",
      "6\n",
      "[222, 111, 7, 2, 1, 4]\n",
      "[222, 333, 111, 7, 2, 1, 4]\n"
     ]
    }
   ],
   "source": [
    "numbers.append(4)\n",
    "print(len(numbers))\n",
    "print(numbers)\n",
    "\n",
    "numbers.insert(0, 222)\n",
    "print(len(numbers))\n",
    "print(numbers)\n",
    "\n",
    "numbers.insert(1, 333)\n",
    "print(numbers)"
   ]
  },
  {
   "cell_type": "code",
   "execution_count": null,
   "id": "5bb7402f",
   "metadata": {},
   "outputs": [
    {
     "name": "stdout",
     "output_type": "stream",
     "text": [
      "[1, 2, 3, 4, 5]\n"
     ]
    }
   ],
   "source": [
    "my_list = []  # Creating an empty list.\n",
    "\n",
    "for i in range(5):\n",
    "    my_list.append(i + 1)\n",
    "\n",
    "print(my_list)"
   ]
  },
  {
   "cell_type": "code",
   "execution_count": null,
   "id": "4b04ee5f",
   "metadata": {},
   "outputs": [
    {
     "name": "stdout",
     "output_type": "stream",
     "text": [
      "[5, 4, 3, 2, 1]\n"
     ]
    }
   ],
   "source": [
    "my_list = []  # Creating an empty list.\n",
    "\n",
    "for i in range(5):\n",
    "    my_list.insert(0, i + 1) # Se agregan siempre en la posicion 0\n",
    "\n",
    "# Se obtiene la lista en reversa\n",
    "print(my_list)\n",
    "\n"
   ]
  },
  {
   "cell_type": "code",
   "execution_count": null,
   "id": "d01e55a6",
   "metadata": {},
   "outputs": [
    {
     "name": "stdout",
     "output_type": "stream",
     "text": [
      "27\n"
     ]
    }
   ],
   "source": [
    "# Usando listas\n",
    "# Usando el loop for, el len() y el range(), para generar las iteraciones necesarias en la codificacion.\n",
    "my_list = [10, 1, 8, 3, 5]\n",
    "total = 0\n",
    "\n",
    "for i in range(len(my_list)):\n",
    "    total += my_list[i]\n",
    "\n",
    "print(total)"
   ]
  },
  {
   "cell_type": "code",
   "execution_count": null,
   "id": "81e45c71",
   "metadata": {},
   "outputs": [
    {
     "name": "stdout",
     "output_type": "stream",
     "text": [
      "27\n"
     ]
    }
   ],
   "source": [
    "# Usando el loop for y la lista para obtener cada uno de los elementos\n",
    "my_list = [10, 1, 8, 3, 5]\n",
    "total = 0\n",
    " \n",
    "for i in my_list:\n",
    "    total += i\n",
    " \n",
    "print(total)"
   ]
  },
  {
   "cell_type": "code",
   "execution_count": null,
   "id": "2244d68a",
   "metadata": {},
   "outputs": [
    {
     "name": "stdout",
     "output_type": "stream",
     "text": [
      "[5, 3, 8, 1, 10]\n"
     ]
    }
   ],
   "source": [
    "# Si se desea hacer el intercambio de valores para dos valores en dos, se hará lo siguiente:\n",
    "# variable_1 = 1\n",
    "# variable_2 = 2\n",
    "# auxiliary = variable_1\n",
    "# variable_1 = variable_2\n",
    "# variable_2 = auxiliary\n",
    "# Con el uso de variables intermedias se evita la perdida de datos.\n",
    "\n",
    "# Python ofrece una forma de hacer el intercambio\n",
    "variable_1 = 1\n",
    "variable_2 = 2\n",
    "variable_1, variable_2 = variable_2, variable_1\n",
    "# Esto permite hacer el cambio de forma rapida\n",
    "\n",
    "# Ejemplo\n",
    "my_list = [10, 1, 8, 3, 5]\n",
    "my_list[0], my_list[4] = my_list[4], my_list[0]\n",
    "my_list[1], my_list[3] = my_list[3], my_list[1]\n",
    "print(my_list)"
   ]
  },
  {
   "cell_type": "code",
   "execution_count": null,
   "id": "4f26f3fe",
   "metadata": {},
   "outputs": [
    {
     "name": "stdout",
     "output_type": "stream",
     "text": [
      "[14, 13, 12, 11, 10, 9, 8, 7, 6, 5, 4, 3, 2, 1]\n"
     ]
    }
   ],
   "source": [
    "# Sin embargo eso no es adecuado si se desea usar un arreglo un poco mas extenso, \n",
    "# para ello podemos usar el siguiente codigo:\n",
    "my_list = [1,2,3,4,5,6,7,8,9,10,11,12,13,14]\n",
    "length = len(my_list)\n",
    "for i in range(length // 2):\n",
    "    my_list[i], my_list[length - i - 1] = my_list[length - i - 1], my_list[i]\n",
    "print(my_list)"
   ]
  },
  {
   "cell_type": "code",
   "execution_count": null,
   "id": "8ab728ea",
   "metadata": {},
   "outputs": [
    {
     "name": "stdout",
     "output_type": "stream",
     "text": [
      "Step 1: []\n",
      "Step 2: ['John Lennon', 'Paul McCartney', 'George Harrison']\n",
      "Step 3: ['John Lennon', 'Paul McCartney', 'George Harrison', 'Stu Sutcliffe', 'Pete Best']\n",
      "Step 4: ['John Lennon', 'Paul McCartney', 'George Harrison']\n",
      "Step 5: ['Ringo Starr', 'John Lennon', 'Paul McCartney', 'George Harrison']\n",
      "The Fab 4\n"
     ]
    }
   ],
   "source": [
    "# LAB - The Beatles\n",
    "\n",
    "# step 1\n",
    "beatles = []\n",
    "print(\"Step 1:\", beatles)\n",
    "\n",
    "# step 2\n",
    "beatles.append(\"John Lennon\")\n",
    "beatles.append(\"Paul McCartney\")\n",
    "beatles.append(\"George Harrison\")\n",
    "print(\"Step 2:\", beatles)\n",
    "\n",
    "# step 3\n",
    "# Stu Sutcliffe\n",
    "# Pete Best\n",
    "for i in range(2):\n",
    "    singer = input(\"Ingrese el nombre del cantante: \")\n",
    "    beatles.append(singer)\n",
    "print(\"Step 3:\", beatles)\n",
    "\n",
    "# step 4\n",
    "del beatles[4]\n",
    "del beatles[3]\n",
    "print(\"Step 4:\", beatles)\n",
    "\n",
    "# step 5\n",
    "beatles.insert(0, \"Ringo Starr\")\n",
    "print(\"Step 5:\", beatles)\n",
    "\n",
    "# testing list legth\n",
    "print(\"The Fab\", len(beatles))"
   ]
  }
 ],
 "metadata": {
  "kernelspec": {
   "display_name": "Python 3",
   "language": "python",
   "name": "python3"
  },
  "language_info": {
   "codemirror_mode": {
    "name": "ipython",
    "version": 3
   },
   "file_extension": ".py",
   "mimetype": "text/x-python",
   "name": "python",
   "nbconvert_exporter": "python",
   "pygments_lexer": "ipython3",
   "version": "3.12.7"
  }
 },
 "nbformat": 4,
 "nbformat_minor": 5
}
