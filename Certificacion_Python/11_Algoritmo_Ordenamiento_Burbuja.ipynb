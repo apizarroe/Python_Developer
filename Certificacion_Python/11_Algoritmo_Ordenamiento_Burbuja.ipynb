{
 "cells": [
  {
   "cell_type": "code",
   "execution_count": null,
   "id": "7b7df129",
   "metadata": {},
   "outputs": [],
   "source": [
    "# Algoritmo para ordenamiento burbuja\n",
    "# Esta es un algorimo de ordenamiento poco usado y no muy eficiente para listas. Existen dos formas de ordenar los elementos\n",
    "# Incremento / Decremento\n",
    "# Se tiene la siguiente lista: 8, 10, 6, 2, 4\n",
    "# Tomamos el primer y el segundo elemento realizamos la comparación y si validamos que estan orden incorrecto, intercambiamos posiciones\n",
    "# si validamos que el orden es correcto no hacemos nada\n",
    "# Por ejemplo en nuestra lista el orden del primer y segundo elemento son correctos 8 < 10\n",
    "# Sin embargo el segundo y el tercer elemento estan en posiciones erradas por ello tienen que intercambiar\n",
    "# Quedando la siguiente lista: 8, 6, 10, 2, 4\n",
    "# De la misma manera analizamos los siguientes elementos\n",
    "# Quedando la siguiente lista: 8, 6, 2, 10, 4 y luego: 8, 6, 2, 4, 10\n",
    "# Con ello hemos logrado que el numero 10, el mayor este al final de la lista, ahora debemos trabajar en el segundo elemento\n",
    "# Realizando los intercambios necesarios para tener el siguiente resultado: 6, 2, 4, 8, 10\n",
    "# Luego 2, 4, 6, 8, 10, con ello tenemos la lista ordenada del menor al mayor valor.\n",
    "# La escencia de este algoritmo se encuentra en el intercambio de posición con el valor adyacente.\n"
   ]
  },
  {
   "cell_type": "code",
   "execution_count": null,
   "id": "8e3b0704",
   "metadata": {},
   "outputs": [
    {
     "data": {
      "text/plain": [
       "[8, 6, 2, 4, 10]"
      ]
     },
     "execution_count": 2,
     "metadata": {},
     "output_type": "execute_result"
    }
   ],
   "source": [
    "# Ordenando una lista\n",
    "# Mediante este codigo hacemos el ordenamiento para una primera iteración\n",
    "my_list = [8, 10, 6, 2, 4] # list ti sort\n",
    "\n",
    "for i in range(len(my_list) - 1): # we need (5 - 1) comparisons\n",
    "    if my_list[i] > my_list[i + 1]:  # compare adjacent elements\n",
    "        my_list[i], my_list[i + 1] = my_list[i + 1], my_list[i]  # If we end up here, we have to swap the elements.\n",
    "\n",
    "my_list"
   ]
  },
  {
   "cell_type": "code",
   "execution_count": null,
   "id": "495934fe",
   "metadata": {},
   "outputs": [
    {
     "data": {
      "text/plain": [
       "[2, 4, 6, 8, 10]"
      ]
     },
     "execution_count": 1,
     "metadata": {},
     "output_type": "execute_result"
    }
   ],
   "source": [
    "# Mediante este codigo realizamos el ordenamiento de arreglo completo,\n",
    "# para ello creamos una variable swapped y asignamos el valor de False para indicar que no hay intercambios\n",
    "# caso contrario asignamos True.\n",
    "my_list = [8, 10, 6, 2, 4]  # list to sort\n",
    "swapped = True  # It's a little fake, we need it to enter the while loop.\n",
    " \n",
    "while swapped:\n",
    "    swapped = False  # no swaps so far\n",
    "    for i in range(len(my_list) - 1):\n",
    "        if my_list[i] > my_list[i + 1]:\n",
    "            swapped = True  # a swap occurred!\n",
    "            my_list[i], my_list[i + 1] = my_list[i + 1], my_list[i]\n",
    "\n",
    "my_list"
   ]
  },
  {
   "cell_type": "code",
   "execution_count": 3,
   "id": "32d9968d",
   "metadata": {},
   "outputs": [
    {
     "name": "stdout",
     "output_type": "stream",
     "text": [
      "\n",
      "Sorted:\n",
      "[3.0, 4.0, 8.0, 10.0, 92.0]\n"
     ]
    }
   ],
   "source": [
    "my_list = []\n",
    "swapped = True\n",
    "num = int(input(\"How many elements do you want to sort: \"))\n",
    "\n",
    "for i in range(num):\n",
    "    val = float(input(\"Enter a list element: \"))\n",
    "    my_list.append(val)\n",
    "\n",
    "while swapped:\n",
    "    swapped = False\n",
    "    for i in range(len(my_list) - 1):\n",
    "        if my_list[i] > my_list[i + 1]:\n",
    "            swapped = True\n",
    "            my_list[i], my_list[i + 1] = my_list[i + 1], my_list[i]\n",
    "\n",
    "print(\"\\nSorted:\")\n",
    "print(my_list)"
   ]
  },
  {
   "cell_type": "code",
   "execution_count": 8,
   "id": "6c36127c",
   "metadata": {},
   "outputs": [
    {
     "name": "stdout",
     "output_type": "stream",
     "text": [
      "[2, 4, 6, 8, 10]\n",
      "[10, 8, 6, 4, 2]\n"
     ]
    }
   ],
   "source": [
    "# Python cuenta con su propio metodo de ordenar listas llamado sort(), el cual ordenara los objetos lo mas rapido posible.\n",
    "my_list = [8, 10, 6, 2, 4]\n",
    "# Ordena de forma ascendente\n",
    "my_list.sort()\n",
    "print(my_list)\n",
    "# Ordena de forma descendente\n",
    "my_list.sort(reverse=True)\n",
    "print(my_list)"
   ]
  },
  {
   "cell_type": "code",
   "execution_count": null,
   "id": "27a80d23",
   "metadata": {},
   "outputs": [
    {
     "name": "stdout",
     "output_type": "stream",
     "text": [
      "[5, 3, 1, 2, 4]\n",
      "[4, 2, 1, 3, 5]\n"
     ]
    }
   ],
   "source": [
    "# El metodo reverse() es usado para reorganizar la lista de forma inversa a la que se encuentra actualmente\n",
    "lst = [5, 3, 1, 2, 4]\n",
    "print(lst)\n",
    "lst.reverse()\n",
    "print(lst)  # outputs: [4, 2, 1, 3, 5]"
   ]
  }
 ],
 "metadata": {
  "kernelspec": {
   "display_name": "Python 3",
   "language": "python",
   "name": "python3"
  },
  "language_info": {
   "codemirror_mode": {
    "name": "ipython",
    "version": 3
   },
   "file_extension": ".py",
   "mimetype": "text/x-python",
   "name": "python",
   "nbconvert_exporter": "python",
   "pygments_lexer": "ipython3",
   "version": "3.12.7"
  }
 },
 "nbformat": 4,
 "nbformat_minor": 5
}
