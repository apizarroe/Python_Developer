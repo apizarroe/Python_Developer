{
 "cells": [
  {
   "cell_type": "code",
   "execution_count": null,
   "id": "b48f9383",
   "metadata": {},
   "outputs": [],
   "source": [
    "# Funciones Parametrizadas\n",
    "# parameters exist only inside functions in which they have been defined, \n",
    "# and the only place where the parameter can be defined is a space between \n",
    "# a pair of parentheses in the def statement;\n",
    "# assigning a value to the parameter is done at the time of the function's invocation, \n",
    "# by specifying the corresponding argument.\n",
    "# def function(parameter):\n",
    "#    ###\n",
    "\n",
    "# Nota:\n",
    "# parameters live inside functions (this is their natural environment)\n",
    "# arguments exist outside functions, and are carriers of values passed to corresponding parameters."
   ]
  },
  {
   "cell_type": "code",
   "execution_count": null,
   "id": "9b142a43",
   "metadata": {},
   "outputs": [],
   "source": [
    "# En esta definicion podemos ver que la funcion opera con un parametro llamado number\n",
    "# Esta variable solo puede ser usada dentro de la funcion.\n",
    "# Se hace uso del parametro, pero no se asigna valor alguno.\n",
    "def message(number):\n",
    "    print(\"Enter a number:\", number)"
   ]
  },
  {
   "cell_type": "code",
   "execution_count": null,
   "id": "77175ff5",
   "metadata": {},
   "outputs": [
    {
     "name": "stdout",
     "output_type": "stream",
     "text": [
      "Enter a number: 10\n"
     ]
    }
   ],
   "source": [
    "# Especificar uno o mas parametros en la definición de una función es tambien un requerimiento,\n",
    "# y tu debes llenarlos durante la invocación, se deben proveer tantos argumentos\n",
    "# como parametros que son definidos.\n",
    "def message(number):\n",
    "    print(\"Enter a number:\", number)\n",
    "\n",
    "# message()\n",
    "# TypeError: message() missing 1 required positional argument: 'number'\n",
    "\n",
    "# Aca realizamos la invocacion de la función pasando un parametro \"10\"\n",
    "message(10)"
   ]
  },
  {
   "cell_type": "code",
   "execution_count": null,
   "id": "01cc96cd",
   "metadata": {},
   "outputs": [
    {
     "name": "stdout",
     "output_type": "stream",
     "text": [
      "Enter a number: 1\n",
      "1234\n"
     ]
    }
   ],
   "source": [
    "# También es posible, tener una varbiable con el mismo nombre que el parametro de una funcion\n",
    "# Sin embargo el parametro solo tiene como ámbito, el contenido de la función\n",
    "# Este mecanismo se llama shadowing\n",
    "def message(number):\n",
    "    print(\"Enter a number:\", number)\n",
    " \n",
    "number = 1234\n",
    "message(1)\n",
    "print(number)"
   ]
  },
  {
   "cell_type": "code",
   "execution_count": 6,
   "id": "8d117a10",
   "metadata": {},
   "outputs": [
    {
     "name": "stdout",
     "output_type": "stream",
     "text": [
      "Enter telephone number 11\n",
      "Enter price number 5\n",
      "Enter number number number\n"
     ]
    }
   ],
   "source": [
    "# Una función puede tener tantos parametros como se deseee,\n",
    "# sin embargo a mas parametros se hace mas dificil memorizar su rol y propósito\n",
    "# En este caso para invocar a la función se requieren dos parámetros\n",
    "def message(what, number):\n",
    "    print(\"Enter\", what, \"number\", number)\n",
    " \n",
    "message(\"telephone\", 11)\n",
    "message(\"price\", 5)\n",
    "message(\"number\", \"number\")"
   ]
  },
  {
   "cell_type": "code",
   "execution_count": null,
   "id": "21c85011",
   "metadata": {},
   "outputs": [
    {
     "name": "stdout",
     "output_type": "stream",
     "text": [
      "1 2 3\n"
     ]
    }
   ],
   "source": [
    "# Pase de parametros posicionales\n",
    "# Esta es la tecnica donde se realiza la asignación de argumentos a los parametros segun posición\n",
    "# (Positional parameter passing)\n",
    "def my_function(a, b, c):\n",
    "    print(a, b, c)\n",
    " \n",
    "my_function(1, 2, 3)"
   ]
  },
  {
   "cell_type": "code",
   "execution_count": 8,
   "id": "838024dc",
   "metadata": {},
   "outputs": [
    {
     "name": "stdout",
     "output_type": "stream",
     "text": [
      "Hello, my name is Luke Skywalker\n",
      "Hello, my name is Jesse Quick\n",
      "Hello, my name is Clark Kent\n"
     ]
    }
   ],
   "source": [
    "# Se implementa una función para presentar a alguien\n",
    "def introduction(first_name, last_name):\n",
    "    print(\"Hello, my name is\", first_name, last_name)\n",
    " \n",
    "introduction(\"Luke\", \"Skywalker\")\n",
    "introduction(\"Jesse\", \"Quick\")\n",
    "introduction(\"Clark\", \"Kent\")"
   ]
  },
  {
   "cell_type": "code",
   "execution_count": 10,
   "id": "17d710eb",
   "metadata": {},
   "outputs": [
    {
     "name": "stdout",
     "output_type": "stream",
     "text": [
      "Hello, my name is Luke Skywalker\n",
      "Hello, my name is Jesse Quick\n",
      "Hello, my name is Clark Kent\n"
     ]
    }
   ],
   "source": [
    "def introduction(last_name, first_name):\n",
    "    print(\"Hello, my name is\", first_name, last_name)\n",
    " \n",
    "introduction(\"Skywalker\", \"Luke\")\n",
    "introduction(\"Quick\", \"Jesse\")\n",
    "introduction(\"Kent\", \"Clark\")"
   ]
  },
  {
   "cell_type": "code",
   "execution_count": null,
   "id": "25707e76",
   "metadata": {},
   "outputs": [
    {
     "name": "stdout",
     "output_type": "stream",
     "text": [
      "Hello, my name is James Bond\n",
      "Hello, my name is Luke Skywalker\n"
     ]
    }
   ],
   "source": [
    "# Pase de argumento por palabra clave\n",
    "# Python ofrece otra convención de pasar los argumentos cuando el significado es definido\n",
    "# por el nombre y no por la posicion (keyword argument passing)\n",
    "def introduction(first_name, last_name):\n",
    "    print(\"Hello, my name is\", first_name, last_name)\n",
    " \n",
    "introduction(first_name = \"James\", last_name = \"Bond\")\n",
    "introduction(last_name = \"Skywalker\", first_name = \"Luke\")\n",
    "\n",
    "# Los valores son precedidos por el nombre del parametro destino seguido por =\n",
    "# El orden no importa cada argumento conoce su destino por el nombre usado"
   ]
  },
  {
   "cell_type": "code",
   "execution_count": 13,
   "id": "b39583c7",
   "metadata": {},
   "outputs": [],
   "source": [
    "# Por su puesto se genera un error en caso se invoque a la función\n",
    "# con un parametro no definido\n",
    "def introduction(first_name, last_name):\n",
    "    print(\"Hello, my name is\", first_name, last_name)\n",
    " \n",
    "#introduction(surname=\"Skywalker\", first_name=\"Luke\")\n",
    "\n",
    "#TypeError: introduction() got an unexpected keyword argument 'surname'"
   ]
  },
  {
   "cell_type": "code",
   "execution_count": null,
   "id": "5e2110cb",
   "metadata": {},
   "outputs": [
    {
     "name": "stdout",
     "output_type": "stream",
     "text": [
      "3 + 2 + 1 = 6\n",
      "4 + 3 + 2 = 9\n"
     ]
    }
   ],
   "source": [
    "# Combinando argumentos posicionales y de palabra clave\n",
    "# Se puede combiar el uso de ambos tipos de argumentos\n",
    "# Se debe tener la siguiente consideración, los argumentos \n",
    "# posicionales van antes que los de palabra clave\n",
    "def adding(a, b, c):\n",
    "    print(a, \"+\", b, \"+\", c, \"=\", a + b + c)\n",
    "\n",
    "# Invocacion con argumentos posicionales\n",
    "adding(1, 2, 3)\n",
    "\n",
    "# Invocacion con argumentos palabra clave\n",
    "adding(c = 1, a = 2, b = 3)\n",
    "\n",
    "# Invocacion con argumentos combinados\n",
    "# El argumento \"3\" es el parametro \"a\"\n",
    "# Los argumentos \"b\" y \"c\", estan definidos de forma explicita\n",
    "adding(3, c = 1, b = 2)\n",
    "\n",
    "# adding(3, a = 1, b = 2)\n",
    "# TypeError: adding() got multiple values for argument 'a'\n",
    "\n",
    "adding(4, 3, c = 2)\n"
   ]
  },
  {
   "cell_type": "code",
   "execution_count": null,
   "id": "5868c746",
   "metadata": {},
   "outputs": [
    {
     "name": "stdout",
     "output_type": "stream",
     "text": [
      "Hello, my name is James Doe\n",
      "Hello, my name is Henry Smith\n",
      "Hello, my name is William Smith\n"
     ]
    }
   ],
   "source": [
    "# Funciones Parametrizadas\n",
    "# Podemos hacer que los parametros pueden tener un argumentos por defecto\n",
    "# Por ejemplo si decimos que el apellido mas común es Smith\n",
    "# Entonces hacemos que nuestra función tenga como apellido por defecto \"Smith\"\n",
    "def introduction(first_name, last_name=\"Smith\"):\n",
    "     print(\"Hello, my name is\", first_name, last_name)\n",
    "\n",
    "# Invocación fijandole valores de ambos argumento\n",
    "introduction(\"James\", \"Doe\")\n",
    "\n",
    "# Invocación fijandole valor al argumento \"first_name\"\n",
    "introduction(\"Henry\")\n",
    "# O tambien de esta manera\n",
    "introduction(first_name=\"William\")\n",
    "\n",
    "# def introduction(last_name=\"Smith\", first_name):\n",
    "#     print(\"Hello, my name is\", first_name, last_name)\n",
    "# SyntaxError: parameter without a default follows parameter with a default\n",
    "# Cuando se define una funcion los parametros con valores por defecto van al final\n",
    "\n",
    "def introduction(first_name, last_name=\"Smith\"):\n",
    "     print(\"Hello, my name is\", first_name, last_name)"
   ]
  },
  {
   "cell_type": "code",
   "execution_count": 23,
   "id": "4fcf3837",
   "metadata": {},
   "outputs": [
    {
     "name": "stdout",
     "output_type": "stream",
     "text": [
      "Hello, my name is John Smith\n",
      "Hello, my name is John Hopkins\n"
     ]
    }
   ],
   "source": [
    "# En este ejemplo ambos parametros tienen valores por defecto\n",
    "def introduction(first_name=\"John\", last_name=\"Smith\"):\n",
    "    print(\"Hello, my name is\", first_name, last_name)\n",
    "\n",
    "# Invocacion sin argumentos, tomará los valores por defecto\n",
    "introduction()\n",
    "\n",
    "# Invocaion con solo un argumento, el primero se mantendrá con valor por defecto\n",
    "introduction(last_name=\"Hopkins\")"
   ]
  }
 ],
 "metadata": {
  "kernelspec": {
   "display_name": "Python 3",
   "language": "python",
   "name": "python3"
  },
  "language_info": {
   "codemirror_mode": {
    "name": "ipython",
    "version": 3
   },
   "file_extension": ".py",
   "mimetype": "text/x-python",
   "name": "python",
   "nbconvert_exporter": "python",
   "pygments_lexer": "ipython3",
   "version": "3.12.7"
  }
 },
 "nbformat": 4,
 "nbformat_minor": 5
}
