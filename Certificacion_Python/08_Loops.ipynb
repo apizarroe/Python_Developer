{
 "cells": [
  {
   "cell_type": "code",
   "execution_count": null,
   "id": "a7f5014c",
   "metadata": {},
   "outputs": [],
   "source": [
    "# Iterando con while\n",
    "# while\n",
    "#     instruction\n",
    "# A diferencia de la sentencia if que solo ejecuta la sentencia una vez\n",
    "# la sentencia while se ejecuta tantas veces como sea necesaria, mientras la condición sea True.\n",
    "\n",
    "# if you want to execute more than one statement inside one while loop, \n",
    "# you must (as with if) indent all the instructions in the same way;\n",
    "# an instruction or set of instructions executed inside the while loop is called the loop's body;\n",
    "# if the condition is False (equal to zero) as early as when it is tested for the first time, \n",
    "# the body is not executed even once (note the analogy of not having to do anything if there is nothing to do);\n",
    "# the body should be able to change the condition's value, because if the condition is True at the beginning, \n",
    "# the body might run continuously to infinity – notice that doing a thing usually decreases the number of things to do)."
   ]
  },
  {
   "cell_type": "code",
   "execution_count": null,
   "id": "7292627e",
   "metadata": {},
   "outputs": [],
   "source": [
    "# Loop Infinito\n",
    "# Un loop infinito es aquel tipo de logica que se repite indefinidamente\n",
    "while True:\n",
    "    print(\"I'm stuck inside a loop.\")\n",
    "# Para detener la ejecución usar (\"ctrl+ c\") esto causará la excepción KeyboardInterrupt, lo cual terminaria el loop."
   ]
  },
  {
   "cell_type": "code",
   "execution_count": 1,
   "id": "5749321f",
   "metadata": {},
   "outputs": [
    {
     "name": "stdout",
     "output_type": "stream",
     "text": [
      "The largest number is: 131\n"
     ]
    }
   ],
   "source": [
    "# Store the current largest number here.\n",
    "largest_number = -999999999\n",
    "\n",
    "# Input the first value.\n",
    "number = int(input(\"Enter a number or type -1 to stop: \"))\n",
    "\n",
    "# If the number is not equal to -1, continue.\n",
    "while number != -1:\n",
    "    # Is number larger than largest_number?\n",
    "    if number > largest_number:\n",
    "        # Yes, update largest_number.\n",
    "        largest_number = number\n",
    "    # Input the next number.\n",
    "    number = int(input(\"Enter a number or type -1 to stop: \"))\n",
    "\n",
    "# Print the largest number.\n",
    "print(\"The largest number is:\", largest_number)"
   ]
  },
  {
   "cell_type": "code",
   "execution_count": null,
   "id": "8eff692d",
   "metadata": {},
   "outputs": [
    {
     "name": "stdout",
     "output_type": "stream",
     "text": [
      "Odd numbers count: 1\n",
      "Even numbers count: 3\n"
     ]
    }
   ],
   "source": [
    "# A program that reads a sequence of numbers\n",
    "# and counts how many numbers are even and how many are odd.\n",
    "# The program terminates when zero is entered.\n",
    "\n",
    "odd_numbers = 0\n",
    "even_numbers = 0\n",
    "\n",
    "# Read the first number.\n",
    "number = int(input(\"Enter a number or type 0 to stop: \"))\n",
    "\n",
    "# 0 terminates execution.\n",
    "while number != 0:\n",
    "    # Check if the number is odd.\n",
    "    if number % 2 == 1:\n",
    "        # Increase the odd_numbers counter.\n",
    "        odd_numbers += 1\n",
    "    else:\n",
    "        # Increase the even_numbers counter.\n",
    "        even_numbers += 1\n",
    "    # Read the next number.\n",
    "    number = int(input(\"Enter a number or type 0 to stop: \"))\n",
    "\n",
    "# Print results.\n",
    "print(\"Odd numbers count:\", odd_numbers)\n",
    "print(\"Even numbers count:\", even_numbers)\n",
    "\n",
    "# Se pueden realizar los siguientes reemplazos en el codigo\n",
    "# while number != 0: and while number:\n",
    "# if number % 2 == 1: and if number % 2:\n",
    "# Si usamos numeros para la ejecución de una sentencia if, \n",
    "# considerar que si el valor es >= 1 entonces será considerado True\n",
    "# si el valor es 0 entonces será considerado False"
   ]
  },
  {
   "cell_type": "code",
   "execution_count": 7,
   "id": "01b3b0a1",
   "metadata": {},
   "outputs": [
    {
     "name": "stdout",
     "output_type": "stream",
     "text": [
      "Inside the loop. 5\n",
      "Inside the loop. 4\n",
      "Inside the loop. 3\n",
      "Inside the loop. 2\n",
      "Inside the loop. 1\n",
      "Outside the loop. 0\n"
     ]
    }
   ],
   "source": [
    "# Otro ejemplo de loop\n",
    "counter = 5\n",
    "while counter != 0: \n",
    "# Esta linea podria ser reemplazada por while counter:\n",
    "    print(\"Inside the loop.\", counter)\n",
    "    counter -= 1\n",
    "print(\"Outside the loop.\", counter)"
   ]
  },
  {
   "cell_type": "code",
   "execution_count": 1,
   "id": "befc7999",
   "metadata": {},
   "outputs": [
    {
     "name": "stdout",
     "output_type": "stream",
     "text": [
      "\n",
      "+================================+\n",
      "| Welcome to my game, muggle!    |\n",
      "| Enter an integer number        |\n",
      "| and guess what number I've     |\n",
      "| picked for you.                |\n",
      "| So, what is the secret number? |\n",
      "+================================+\n",
      "\n",
      "Ha ha! You're stuck in my loop!\n",
      "Ha ha! You're stuck in my loop!\n",
      "Ha ha! You're stuck in my loop!\n",
      "Ha ha! You're stuck in my loop!\n",
      "Ha ha! You're stuck in my loop!\n",
      "Ha ha! You're stuck in my loop!\n",
      "Well done, muggle! You are free now.\n"
     ]
    }
   ],
   "source": [
    "# Task LAB\n",
    "secret_number = 777\n",
    "\n",
    "print(\n",
    "\"\"\"\n",
    "+================================+\n",
    "| Welcome to my game, muggle!    |\n",
    "| Enter an integer number        |\n",
    "| and guess what number I've     |\n",
    "| picked for you.                |\n",
    "| So, what is the secret number? |\n",
    "+================================+\n",
    "\"\"\")\n",
    "\n",
    "var_ingresado = int(input(\"Ingresa el valor deseado: \"))\n",
    "\n",
    "while (var_ingresado != secret_number):\n",
    "    print(\"Ha ha! You're stuck in my loop!\")\n",
    "    var_ingresado = int(input(\"Ingresa el valor deseado: \"))\n",
    "print(\"Well done, muggle! You are free now.\")\n",
    "\n",
    "\n"
   ]
  },
  {
   "cell_type": "code",
   "execution_count": null,
   "id": "1351d866",
   "metadata": {},
   "outputs": [],
   "source": [
    "# Loop con for\n",
    "# En este tipo de loop es mas importante contar el numero de iteraciones\n",
    "# Un ejemplo con la sentencia while\n",
    "# i = 0\n",
    "# while i < 100:\n",
    "#     # do_something()\n",
    "#     i += 1\n",
    "# Sin embargo se puede usar el for para hacer el conteo de las iteraciones de la siguiente manera:\n",
    "for i in range(100):\n",
    "    # do_something()\n",
    "    pass"
   ]
  },
  {
   "cell_type": "code",
   "execution_count": null,
   "id": "124c2836",
   "metadata": {},
   "outputs": [],
   "source": [
    "# Elementos a considerar:\n",
    "# the for keyword opens the for loop; there's no condition after it; \n",
    "# you don't have to think about conditions, as they're checked internally, without any intervention;\n",
    "# any variable after the for keyword is the control variable of the loop; \n",
    "# it counts the loop's turns, and does it automatically;\n",
    "# the in keyword introduces a syntax element describing the range of possible values \n",
    "# being assigned to the control variable;\n",
    "# the range() function (this is a very special function) is responsible for generating all the desired values \n",
    "# of the control variable; in our example, values from the following set: 0, 1, 2 .. 97, 98, 99; \n",
    "# note: in this case, the range() function starts its job from 0 and finishes it one step (one integer number) \n",
    "# before the value of its argument;\n",
    "# note the pass keyword inside the loop body – it does nothing at all; \n",
    "# it's an empty instruction – we put it here because the for loop's syntax demands at least one instruction \n",
    "# inside the body (by the way – if, elif, else and while express the same thing)"
   ]
  },
  {
   "cell_type": "code",
   "execution_count": null,
   "id": "50f25d95",
   "metadata": {},
   "outputs": [
    {
     "name": "stdout",
     "output_type": "stream",
     "text": [
      "The value of i is currently 0\n",
      "The value of i is currently 1\n",
      "The value of i is currently 2\n",
      "The value of i is currently 3\n",
      "The value of i is currently 4\n",
      "The value of i is currently 5\n",
      "The value of i is currently 6\n",
      "The value of i is currently 7\n",
      "The value of i is currently 8\n",
      "The value of i is currently 9\n"
     ]
    }
   ],
   "source": [
    "# La funcion range solo acepta valores enteros y genera una sequencia de enteros.\n",
    "for i in range(10):\n",
    "    print(\"The value of i is currently\", i)"
   ]
  },
  {
   "cell_type": "code",
   "execution_count": null,
   "id": "edd866d3",
   "metadata": {},
   "outputs": [
    {
     "name": "stdout",
     "output_type": "stream",
     "text": [
      "The value of i is currently 2\n",
      "The value of i is currently 3\n",
      "The value of i is currently 4\n",
      "The value of i is currently 5\n",
      "The value of i is currently 6\n",
      "The value of i is currently 7\n"
     ]
    }
   ],
   "source": [
    "# En este caso el valor inicial lo define el primer argumento \"2\"\n",
    "# Siempre el valor final es uno previo del limite superior\n",
    "for i in range(2, 8):\n",
    "    print(\"The value of i is currently\", i)\n"
   ]
  },
  {
   "cell_type": "code",
   "execution_count": null,
   "id": "075253bd",
   "metadata": {},
   "outputs": [],
   "source": [
    "# Range tambien puede recibir tres valores: limite inferior, limite superior, incremento\n",
    "# El valor por defecto del incremento es 1\n",
    "for i in range(2, 8, 3):\n",
    "    print(\"The value of i is currently\", i)"
   ]
  },
  {
   "cell_type": "code",
   "execution_count": null,
   "id": "e53b1b57",
   "metadata": {},
   "outputs": [],
   "source": [
    "# Si el producto del range es vacio, no se ejecutará iteracion alguna\n",
    "# Asi intentemos invertir el orden de los valores por ejemplo range(2,1),\n",
    "# el segundo argumento debe ser siempre mayor (porque el incremento default es 1)\n",
    "for i in range(1, 1):\n",
    "    print(\"The value of i is currently\", i)"
   ]
  },
  {
   "cell_type": "code",
   "execution_count": 65,
   "id": "f9302f51",
   "metadata": {},
   "outputs": [
    {
     "name": "stdout",
     "output_type": "stream",
     "text": [
      "6 4 2 "
     ]
    }
   ],
   "source": [
    "for i in range(6, 1, -2):\n",
    "    print(i, end=\" \")  # Outputs: 6, 4, 2"
   ]
  },
  {
   "cell_type": "code",
   "execution_count": 7,
   "id": "90945deb",
   "metadata": {},
   "outputs": [
    {
     "name": "stdout",
     "output_type": "stream",
     "text": [
      "2 to the power of 0 is 1\n",
      "2 to the power of 1 is 2\n",
      "2 to the power of 2 is 4\n",
      "2 to the power of 3 is 8\n",
      "2 to the power of 4 is 16\n",
      "2 to the power of 5 is 32\n",
      "2 to the power of 6 is 64\n",
      "2 to the power of 7 is 128\n",
      "2 to the power of 8 is 256\n",
      "2 to the power of 9 is 512\n",
      "2 to the power of 10 is 1024\n",
      "2 to the power of 11 is 2048\n",
      "2 to the power of 12 is 4096\n",
      "2 to the power of 13 is 8192\n",
      "2 to the power of 14 is 16384\n",
      "2 to the power of 15 is 32768\n"
     ]
    }
   ],
   "source": [
    "power = 1\n",
    "for expo in range(16):\n",
    "    print(\"2 to the power of\", expo, \"is\", power)\n",
    "    power *= 2"
   ]
  },
  {
   "cell_type": "code",
   "execution_count": 9,
   "id": "3c397759",
   "metadata": {},
   "outputs": [
    {
     "name": "stdout",
     "output_type": "stream",
     "text": [
      "1 Mississippi\n",
      "2 Mississippi\n",
      "3 Mississippi\n",
      "4 Mississippi\n",
      "5 Mississippi\n",
      "Ready or not, here I come!\n"
     ]
    }
   ],
   "source": [
    "# LAB FOR\n",
    "import time\n",
    "\n",
    "# Write a for loop that counts to five.\n",
    "    # Body of the loop - print the loop iteration number and the word \"Mississippi\".\n",
    "    # Body of the loop - use: time.sleep(1)\n",
    "\n",
    "# Write a print function with the final message.\n",
    "for i in range(1,6):\n",
    "    print(i, \"Mississippi\")\n",
    "    time.sleep(1)\n",
    "print(\"Ready or not, here I come!\")"
   ]
  },
  {
   "cell_type": "code",
   "execution_count": null,
   "id": "cbd73549",
   "metadata": {},
   "outputs": [],
   "source": [
    "# Sentencia Break y Continue\n",
    "# En ocasiones se tiene la necesidad de manipular el comportamiento de un loop,\n",
    "# nos podemos encontrar con las siguientes casuisticas:\n",
    "# Se requiere detener el loop por completo\n",
    "# Se requiere saltar a la siguiente iteración sin completar la iteración actual\n",
    "# break: termina del loop de manera inmediata y sin condiciones finaliza su operacion\n",
    "# continue: termina la iteracion actual como si hubiera llegado al final y se realiza la ejecucion de la siguiente iteracion"
   ]
  },
  {
   "cell_type": "code",
   "execution_count": null,
   "id": "9976e03a",
   "metadata": {},
   "outputs": [
    {
     "name": "stdout",
     "output_type": "stream",
     "text": [
      "The break instruction:\n",
      "Inside the loop. 1\n",
      "Inside the loop. 2\n",
      "Outside the loop.\n",
      "\n",
      "The continue instruction:\n",
      "Inside the loop. 1\n",
      "Inside the loop. 2\n",
      "Inside the loop. 4\n",
      "Inside the loop. 5\n",
      "Outside the loop.\n"
     ]
    }
   ],
   "source": [
    "# break - example\n",
    "print(\"The break instruction:\")\n",
    "for i in range(1, 6):\n",
    "    if i == 3:\n",
    "        break\n",
    "    print(\"Inside the loop.\", i)\n",
    "print(\"Outside the loop.\")\n",
    "\n",
    "\n",
    "# continue - example\n",
    "print(\"\\nThe continue instruction:\")\n",
    "for i in range(1, 6):\n",
    "    if i == 3:\n",
    "        continue\n",
    "    print(\"Inside the loop.\", i)\n",
    "print(\"Outside the loop.\")\n"
   ]
  },
  {
   "cell_type": "code",
   "execution_count": 13,
   "id": "d5fb67a4",
   "metadata": {},
   "outputs": [
    {
     "name": "stdout",
     "output_type": "stream",
     "text": [
      "You haven't entered any number.\n"
     ]
    }
   ],
   "source": [
    "# Mas ejemplos\n",
    "largest_number = -99999999\n",
    "counter = 0\n",
    "\n",
    "while True:\n",
    "    number = int(input(\"Enter a number or type -1 to end the program: \"))\n",
    "    if number == -1:\n",
    "        break\n",
    "    counter += 1\n",
    "    if number > largest_number:\n",
    "        largest_number = number\n",
    "\n",
    "if counter != 0:\n",
    "    print(\"The largest number is\", largest_number)\n",
    "else:\n",
    "    print(\"You haven't entered any number.\")\n"
   ]
  },
  {
   "cell_type": "code",
   "execution_count": 25,
   "id": "892a2b33",
   "metadata": {},
   "outputs": [
    {
     "name": "stdout",
     "output_type": "stream",
     "text": [
      "The largest number is 10\n"
     ]
    }
   ],
   "source": [
    "largest_number = -99999999\n",
    "counter = 0\n",
    "\n",
    "number = int(input(\"Enter a number or type -1 to end program: \"))\n",
    "\n",
    "while number != -1:\n",
    "    if number == -1:\n",
    "        continue\n",
    "    counter += 1\n",
    "\n",
    "    if number > largest_number:\n",
    "        largest_number = number\n",
    "    number = int(input(\"Enter a number or type -1 to end the program: \"))\n",
    "\n",
    "if counter:\n",
    "    print(\"The largest number is\", largest_number)\n",
    "else:\n",
    "    print(\"You haven't entered any number.\")"
   ]
  },
  {
   "cell_type": "code",
   "execution_count": null,
   "id": "b9fd6235",
   "metadata": {},
   "outputs": [
    {
     "name": "stdout",
     "output_type": "stream",
     "text": [
      "You've successfully left the loop.\n"
     ]
    }
   ],
   "source": [
    "# LAB BREAK\n",
    "secret_word = \"chupacabra\"\n",
    "resultado = True\n",
    "while(resultado):\n",
    "    cadena_user = input(\"Ingrese la palabra secreta: \")\n",
    "    if (cadena_user == secret_word):\n",
    "        print(\"You've successfully left the loop.\")\n",
    "        resultado = False\n",
    "        break"
   ]
  },
  {
   "cell_type": "code",
   "execution_count": 5,
   "id": "a01e7809",
   "metadata": {},
   "outputs": [],
   "source": [
    "# Prompt the user to enter a word\n",
    "# and assign it to the user_word variable.\n",
    "user_word = input(\"Ingrese una cadena: \")\n",
    "user_word = user_word.upper()\n",
    "\n",
    "# Complete the body of the for loop.\n",
    "for letter in user_word:\n",
    "    if letter == 'A':\n",
    "        continue\n",
    "    elif letter == 'E':\n",
    "        continue\n",
    "    elif letter == 'I':\n",
    "        continue\n",
    "    elif letter == 'O':\n",
    "        continue\n",
    "    elif letter == 'U':\n",
    "        continue\n",
    "    else:\n",
    "        print(letter)"
   ]
  },
  {
   "cell_type": "code",
   "execution_count": 9,
   "id": "da4c72e6",
   "metadata": {},
   "outputs": [
    {
     "name": "stdout",
     "output_type": "stream",
     "text": [
      "\n"
     ]
    }
   ],
   "source": [
    "word_without_vowels = \"\"\n",
    "\n",
    "# Prompt the user to enter a word\n",
    "# and assign it to the user_word variable.\n",
    "user_word = input(\"Ingrese una cadena: \")\n",
    "user_word = user_word.upper()\n",
    "\n",
    "# Complete the body of the loop.\n",
    "for letter in user_word:\n",
    "    if letter == 'A':\n",
    "        continue\n",
    "    elif letter == 'E':\n",
    "        continue\n",
    "    elif letter == 'I':\n",
    "        continue\n",
    "    elif letter == 'O':\n",
    "        continue\n",
    "    elif letter == 'U':\n",
    "        continue\n",
    "    else:\n",
    "        word_without_vowels = word_without_vowels + letter\n",
    "\n",
    "# Print the word assigned to word_without_vowels.\n",
    "print(word_without_vowels)"
   ]
  },
  {
   "cell_type": "code",
   "execution_count": 11,
   "id": "c4372a8b",
   "metadata": {},
   "outputs": [
    {
     "name": "stdout",
     "output_type": "stream",
     "text": [
      "1\n",
      "2\n",
      "3\n",
      "4\n",
      "else: 5\n"
     ]
    }
   ],
   "source": [
    "# Sentencia else para for y while\n",
    "# Esta sentencia es ejecutada solo una vez, no importando si se ha ingresado al loop o no\n",
    "i = 1\n",
    "while i < 5:\n",
    "    print(i)\n",
    "    i += 1\n",
    "else:\n",
    "    print(\"else:\", i)"
   ]
  },
  {
   "cell_type": "code",
   "execution_count": 12,
   "id": "4cdabedb",
   "metadata": {},
   "outputs": [
    {
     "name": "stdout",
     "output_type": "stream",
     "text": [
      "else: 5\n"
     ]
    }
   ],
   "source": [
    "i = 5\n",
    "while i < 5:\n",
    "    print(i)\n",
    "    i += 1\n",
    "else:\n",
    "    print(\"else:\", i)"
   ]
  },
  {
   "cell_type": "code",
   "execution_count": null,
   "id": "0f720973",
   "metadata": {},
   "outputs": [
    {
     "name": "stdout",
     "output_type": "stream",
     "text": [
      "0\n",
      "1\n",
      "2\n",
      "3\n",
      "4\n",
      "else: 4\n"
     ]
    }
   ],
   "source": [
    "# En el caso del for, para la seccion else, se retiene el ultimo valor de i\n",
    "for i in range(5):\n",
    "    print(i)\n",
    "else:\n",
    "    print(\"else:\", i)"
   ]
  },
  {
   "cell_type": "code",
   "execution_count": null,
   "id": "f87990f2",
   "metadata": {},
   "outputs": [
    {
     "name": "stdout",
     "output_type": "stream",
     "text": [
      "else: 100\n"
     ]
    }
   ],
   "source": [
    "# Si el loop no es ejecutado el else toma el valor de la variable antes del loop\n",
    "# Si la variable no existe antes del loop esta no será encontrada cuando se llegue al else\n",
    "i = 100\n",
    "for i in range(2, 1):\n",
    "    print(i)\n",
    "else:\n",
    "    print(\"else:\", i)"
   ]
  },
  {
   "cell_type": "code",
   "execution_count": null,
   "id": "41c98221",
   "metadata": {},
   "outputs": [
    {
     "name": "stdout",
     "output_type": "stream",
     "text": [
      "The height of the pyramid: 0\n"
     ]
    }
   ],
   "source": [
    "# LAB WHILE\n",
    "blocks = int(input(\"Enter the number of blocks: \"))\n",
    "height = 0\n",
    "current_level = 1\n",
    "\n",
    "#\n",
    "# Write your code here.\n",
    "#\t\n",
    "while (blocks >= current_level):\n",
    "    print(\"blocks\", blocks)\n",
    "    print(\"current\", current_level)\n",
    "    blocks -= current_level\n",
    "    height += 1\n",
    "    current_level += 1\n",
    "\n",
    "print(\"The height of the pyramid:\", height)"
   ]
  },
  {
   "cell_type": "code",
   "execution_count": 60,
   "id": "b4bacd3a",
   "metadata": {},
   "outputs": [
    {
     "name": "stdout",
     "output_type": "stream",
     "text": [
      "64\n",
      "32\n",
      "16\n",
      "8\n",
      "4\n",
      "2\n",
      "1\n",
      "steps 7\n"
     ]
    }
   ],
   "source": [
    "# LAB Collatz's hypothesis\n",
    "number = int(input(\"Ingrese el numero a evaluar: \"))\n",
    "resultado = 0\n",
    "nroimpar = False\n",
    "\n",
    "while (number != 1):\n",
    "    resultado += 1\n",
    "    nroimpar = number % 2\n",
    "    if (nroimpar):\n",
    "        number = 3 * number + 1\n",
    "    else:\n",
    "        number = number / 2\n",
    "    print(int(number))\n",
    "\n",
    "print(\"steps\",resultado)\n",
    "    \n"
   ]
  },
  {
   "cell_type": "code",
   "execution_count": 64,
   "id": "2174fca9",
   "metadata": {},
   "outputs": [
    {
     "name": "stdout",
     "output_type": "stream",
     "text": [
      "0\n",
      "1\n",
      "2\n",
      "3 else\n",
      "\n",
      "0\n",
      "1\n",
      "2\n",
      "2 else\n"
     ]
    }
   ],
   "source": [
    "n = 0\n",
    " \n",
    "while n != 3:\n",
    "    print(n)\n",
    "    n += 1\n",
    "else:\n",
    "    print(n, \"else\")\n",
    " \n",
    "print()\n",
    " \n",
    "for i in range(0, 3):\n",
    "    print(i)\n",
    "else:\n",
    "    print(i, \"else\")"
   ]
  },
  {
   "cell_type": "code",
   "execution_count": 85,
   "id": "fa7bcb49",
   "metadata": {},
   "outputs": [
    {
     "name": "stdout",
     "output_type": "stream",
     "text": [
      "x165x318x651x"
     ]
    }
   ],
   "source": [
    "for digit in \"0165031806510\":\n",
    "    if digit == \"0\":\n",
    "        digit = \"x\"\n",
    "        print(digit, end=\"\")\n",
    "    else:\n",
    "        print(digit, end=\"\")\n",
    "        continue\n",
    "    "
   ]
  }
 ],
 "metadata": {
  "kernelspec": {
   "display_name": "Python 3",
   "language": "python",
   "name": "python3"
  },
  "language_info": {
   "codemirror_mode": {
    "name": "ipython",
    "version": 3
   },
   "file_extension": ".py",
   "mimetype": "text/x-python",
   "name": "python",
   "nbconvert_exporter": "python",
   "pygments_lexer": "ipython3",
   "version": "3.12.7"
  }
 },
 "nbformat": 4,
 "nbformat_minor": 5
}
