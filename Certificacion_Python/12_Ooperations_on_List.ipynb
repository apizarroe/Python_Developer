{
 "cells": [
  {
   "cell_type": "code",
   "execution_count": 69,
   "id": "c38d127c",
   "metadata": {},
   "outputs": [],
   "source": [
    "# La forma de almacenamiento de las listas\n",
    "# En el codigo de ejemplo, mostrado a continuacion se puede visualizar\n",
    "# el comportamiento de las listas al almacenar valores\n",
    "# se puede ver en el ejemplo que si el valor de una lista es asignado a otra\n",
    "# haciendo referencia al nombre de variable, esta ultima ser afectada por cualquier\n",
    "# cambio realizada a la primera\n",
    "# Con esto concluimos que:\n",
    "# El nombre de una variable ordinaria es el nombre de su contenido\n",
    "# El nombre de una lista es el nombre de la localizacion en memoria donde se almacena"
   ]
  },
  {
   "cell_type": "code",
   "execution_count": 70,
   "id": "22db8853",
   "metadata": {},
   "outputs": [
    {
     "name": "stdout",
     "output_type": "stream",
     "text": [
      "[2, 3]\n"
     ]
    }
   ],
   "source": [
    "# se crea una nueva lista (lista1)\n",
    "list_1 = [1]\n",
    "# se asigna el valor de lista1 a lista2\n",
    "list_2 = list_1\n",
    "# se modifica el valor de lista1[0]\n",
    "list_1[0] = 2\n",
    "list_1.append(3)\n",
    "# se imprime el valor de lista2\n",
    "print(list_2)"
   ]
  },
  {
   "cell_type": "code",
   "execution_count": 71,
   "id": "f962da4a",
   "metadata": {},
   "outputs": [],
   "source": [
    "# Aplicando Slices\n",
    "# Una solucion para el copiado de informacion entre lista se llama slice\n",
    "# Esto permite copiar una lista o parte de una lista, esto copia el contenido no el nombre\n",
    "# mediante la siguiente forma: my_list[start:end]\n",
    "# El slice es una forma de crear una nueva lista destino\n",
    "# Los elementos de indice van de start a end-1, tambien es posible usar indices negativos\n"
   ]
  },
  {
   "cell_type": "code",
   "execution_count": 72,
   "id": "0b54c90b",
   "metadata": {},
   "outputs": [
    {
     "name": "stdout",
     "output_type": "stream",
     "text": [
      "[1]\n"
     ]
    }
   ],
   "source": [
    "list_1 = [1]\n",
    "list_2 = list_1[:]\n",
    "list_1[0] = 2\n",
    "print(list_2)"
   ]
  },
  {
   "cell_type": "code",
   "execution_count": 73,
   "id": "2aa10dc7",
   "metadata": {},
   "outputs": [
    {
     "name": "stdout",
     "output_type": "stream",
     "text": [
      "[8, 6]\n"
     ]
    }
   ],
   "source": [
    "my_list = [10, 8, 6, 4, 2]\n",
    "new_list = my_list[1:3]\n",
    "print(new_list)"
   ]
  },
  {
   "cell_type": "code",
   "execution_count": 74,
   "id": "b41dd1e3",
   "metadata": {},
   "outputs": [
    {
     "name": "stdout",
     "output_type": "stream",
     "text": [
      "[10, 8, 6, 4, 2]\n"
     ]
    }
   ],
   "source": [
    "my_list = [10, 8, 6, 4, 2]\n",
    "new_list = my_list[0:6]\n",
    "print(new_list)"
   ]
  },
  {
   "cell_type": "code",
   "execution_count": 75,
   "id": "c8de2af3",
   "metadata": {},
   "outputs": [
    {
     "name": "stdout",
     "output_type": "stream",
     "text": [
      "[8, 6, 4, 2]\n"
     ]
    }
   ],
   "source": [
    "my_list = [10, 8, 6, 4, 2]\n",
    "new_list = my_list[1:]\n",
    "print(new_list)"
   ]
  },
  {
   "cell_type": "code",
   "execution_count": 76,
   "id": "c1855362",
   "metadata": {},
   "outputs": [],
   "source": [
    "# Slice - indices negativos\n",
    "# my_list[start:end]\n",
    "# start, es el indice del primer indice incluido en el slice\n",
    "# end, es el indice del primer elemento no inluido en el slice"
   ]
  },
  {
   "cell_type": "code",
   "execution_count": 77,
   "id": "adf8df69",
   "metadata": {},
   "outputs": [
    {
     "name": "stdout",
     "output_type": "stream",
     "text": [
      "[8, 6, 4]\n"
     ]
    }
   ],
   "source": [
    "my_list = [10, 8, 6, 4, 2]\n",
    "new_list = my_list[1:-1]\n",
    "print(new_list)"
   ]
  },
  {
   "cell_type": "code",
   "execution_count": 78,
   "id": "70a01e60",
   "metadata": {},
   "outputs": [
    {
     "name": "stdout",
     "output_type": "stream",
     "text": [
      "[]\n"
     ]
    }
   ],
   "source": [
    "# Si el indice de inicio se encuentra despues del indice final\n",
    "# el slice sera vacio, considerando que el salto por defecto es 1\n",
    "my_list = [10, 8, 6, 4, 2]\n",
    "new_list = my_list[-1:1]\n",
    "print(new_list)"
   ]
  },
  {
   "cell_type": "code",
   "execution_count": 79,
   "id": "315b7846",
   "metadata": {},
   "outputs": [
    {
     "name": "stdout",
     "output_type": "stream",
     "text": [
      "[2, 4, 6]\n"
     ]
    }
   ],
   "source": [
    "# En este ejemplo el indice start es mayor que el indice end,\n",
    "# sin embargo el salto es -1 con lo cual se puede obtener un slice con datos\n",
    "my_list = [10, 8, 6, 4, 2]\n",
    "new_list = my_list[-1:1:-1]\n",
    "print(new_list)"
   ]
  },
  {
   "cell_type": "code",
   "execution_count": 80,
   "id": "38bb3c54",
   "metadata": {},
   "outputs": [],
   "source": [
    "# Si no se define el indice start o asume un valor por defecto\n",
    "# para start el valor 0 y para end el valor igual a la longitud de la lista\n",
    "# my_list[:end]\n",
    "# my_list[start:]"
   ]
  },
  {
   "cell_type": "code",
   "execution_count": 81,
   "id": "6019c2f8",
   "metadata": {},
   "outputs": [
    {
     "name": "stdout",
     "output_type": "stream",
     "text": [
      "[10, 8, 6]\n"
     ]
    }
   ],
   "source": [
    "my_list = [10, 8, 6, 4, 2]\n",
    "new_list = my_list[:3]\n",
    "print(new_list)"
   ]
  },
  {
   "cell_type": "code",
   "execution_count": 82,
   "id": "2129a0f0",
   "metadata": {},
   "outputs": [
    {
     "name": "stdout",
     "output_type": "stream",
     "text": [
      "[8, 6, 4, 2]\n"
     ]
    }
   ],
   "source": [
    "my_list = [10, 8, 6, 4, 2]\n",
    "new_list = my_list[1:]\n",
    "print(new_list)"
   ]
  },
  {
   "cell_type": "code",
   "execution_count": 83,
   "id": "5da68f66",
   "metadata": {},
   "outputs": [
    {
     "name": "stdout",
     "output_type": "stream",
     "text": [
      "[10, 8, 6, 4, 2]\n"
     ]
    }
   ],
   "source": [
    "my_list = [10, 8, 6, 4, 2]\n",
    "new_list = my_list[:]\n",
    "print(new_list)"
   ]
  },
  {
   "cell_type": "code",
   "execution_count": 84,
   "id": "9e7fe44a",
   "metadata": {},
   "outputs": [
    {
     "name": "stdout",
     "output_type": "stream",
     "text": [
      "[10, 4, 2]\n"
     ]
    }
   ],
   "source": [
    "# Mas sobre la instruccion del\n",
    "# La instruccion del tambien esta habilitadad para borrar mas que solo un elemento una vez, \n",
    "# tambien puede eliminar slices\n",
    "my_list = [10, 8, 6, 4, 2]\n",
    "del my_list[1:3]\n",
    "print(my_list)\n",
    "# Nota: No se crea una nueva lista"
   ]
  },
  {
   "cell_type": "code",
   "execution_count": 85,
   "id": "7336782a",
   "metadata": {},
   "outputs": [
    {
     "name": "stdout",
     "output_type": "stream",
     "text": [
      "[]\n"
     ]
    }
   ],
   "source": [
    "# Borrando todos los elementos en una vez, \n",
    "# la lista estará vacia pero seguirá existiendo\n",
    "my_list = [10, 8, 6, 4, 2]\n",
    "del my_list[:]\n",
    "print(my_list)"
   ]
  },
  {
   "cell_type": "code",
   "execution_count": 86,
   "id": "58f2409f",
   "metadata": {},
   "outputs": [],
   "source": [
    "# Del tambien puede ser usado para eliminar la lista por si misma\n",
    "# Al intentar ver el contenido de la lista, mostrará un mensaje de error\n",
    "my_list = [10, 8, 6, 4, 2]\n",
    "del my_list\n",
    "#print(my_list)"
   ]
  },
  {
   "cell_type": "code",
   "execution_count": null,
   "id": "e46f5628",
   "metadata": {},
   "outputs": [],
   "source": [
    "# El operador in y not in\n",
    "# Hay dos operadores que permiten ver dentro de las listas en orden para chequear\n",
    "# si un valor se encuentra dentro de la lista o no\n",
    "# elem in my_list\n",
    "# elem not in my_list\n",
    "# El operador in permite validar si el objeto se encuentra en la lista, en ese caso devuelve True\n",
    "# El operador not in permite validar si el objeto no se encuentra en la lista, en ese caso devuelve True"
   ]
  },
  {
   "cell_type": "code",
   "execution_count": 88,
   "id": "71aca155",
   "metadata": {},
   "outputs": [
    {
     "name": "stdout",
     "output_type": "stream",
     "text": [
      "False\n",
      "True\n",
      "True\n"
     ]
    }
   ],
   "source": [
    "my_list = [0, 3, 12, 8, 2]\n",
    "\n",
    "print(5 in my_list)\n",
    "print(5 not in my_list)\n",
    "print(12 in my_list)"
   ]
  },
  {
   "cell_type": "code",
   "execution_count": null,
   "id": "409b1d80",
   "metadata": {},
   "outputs": [
    {
     "name": "stdout",
     "output_type": "stream",
     "text": [
      "17\n"
     ]
    }
   ],
   "source": [
    "# Listas (Algunas aplicaciones)\n",
    "# Buscando el valor mas alto en una lista\n",
    "# Para ello consideramos que el primer elemento es el mayor\n",
    "# luego hacemos la comparacion con cada elemento del arreglo\n",
    "my_list = [17, 3, 11, 5, 1, 9, 7, 15, 13]\n",
    "largest = my_list[0]\n",
    "\n",
    "for i in range(1, len(my_list)):\n",
    "    if my_list[i] > largest:\n",
    "        largest = my_list[i]\n",
    "\n",
    "print(largest)\n"
   ]
  },
  {
   "cell_type": "code",
   "execution_count": null,
   "id": "228ba8c2",
   "metadata": {},
   "outputs": [
    {
     "name": "stdout",
     "output_type": "stream",
     "text": [
      "20\n"
     ]
    }
   ],
   "source": [
    "# Esta es una aplicacion parecida, donde se tome el primer elemento\n",
    "# y se compara contra todos los valores del arreglo incluyendolo.\n",
    "my_list = [17, 3, 11, 5, 1, 9, 7, 15, 13]\n",
    "largest = my_list[0]\n",
    " \n",
    "for i in my_list:\n",
    "    if i > largest:\n",
    "        largest = i\n",
    " \n",
    "print(largest)"
   ]
  },
  {
   "cell_type": "code",
   "execution_count": null,
   "id": "6f0c7f73",
   "metadata": {},
   "outputs": [],
   "source": [
    "# Con un slice reducimos la cantidad de procesamiento que usamos para realizar la tarea\n",
    "my_list = [17, 3, 11, 5, 1, 9, 7, 15, 13]\n",
    "largest = my_list[0]\n",
    " \n",
    "for i in my_list[1:]:\n",
    "    if i > largest:\n",
    "        largest = i\n",
    " \n",
    "print(largest)"
   ]
  },
  {
   "cell_type": "code",
   "execution_count": 97,
   "id": "5361ccd7",
   "metadata": {},
   "outputs": [
    {
     "name": "stdout",
     "output_type": "stream",
     "text": [
      "Element found at index 4\n"
     ]
    }
   ],
   "source": [
    "# Buscar un elemento en una lista\n",
    "my_list = [1, 2, 3, 4, 5, 6, 7, 8, 9, 10]\n",
    "to_find = 5\n",
    "found = False\n",
    " \n",
    "for i in range(len(my_list)):\n",
    "    found = my_list[i] == to_find\n",
    "    if found:\n",
    "        break\n",
    " \n",
    "if found:\n",
    "    print(\"Element found at index\", i)\n",
    "else:\n",
    "    print(\"absent\")"
   ]
  },
  {
   "cell_type": "code",
   "execution_count": null,
   "id": "69e2e7e4",
   "metadata": {},
   "outputs": [
    {
     "name": "stdout",
     "output_type": "stream",
     "text": [
      "4\n"
     ]
    }
   ],
   "source": [
    "# La lista de numeros de la loteria (drawn)\n",
    "# La lista de numeros seleccionados (bets)\n",
    "# Cuantos numeros fueron acertados?\n",
    "drawn = [5, 11, 9, 42, 3, 49]\n",
    "bets = [3, 7, 11, 42, 34, 49]\n",
    "hits = 0\n",
    " \n",
    "for number in bets:\n",
    "    if number in drawn:\n",
    "        hits += 1\n",
    " \n",
    "print(hits)"
   ]
  },
  {
   "cell_type": "code",
   "execution_count": null,
   "id": "0c68cf6b",
   "metadata": {},
   "outputs": [
    {
     "name": "stdout",
     "output_type": "stream",
     "text": [
      "The list with unique elements only:\n",
      "[1, 2, 4, 6, 9]\n"
     ]
    }
   ],
   "source": [
    "# LAB - LISTS\n",
    "my_list = [1, 2, 4, 4, 1, 4, 2, 6, 2, 9]\n",
    "#\n",
    "# Write your code here.\n",
    "#\n",
    "\n",
    "temp_list = []\n",
    "temp_list.append(my_list[0])\n",
    "\n",
    "for nro in range(1, len(my_list)):\n",
    "    if my_list[nro] not in temp_list:\n",
    "        temp_list.append(my_list[nro])\n",
    "\n",
    "my_list = temp_list\n",
    "\n",
    "print(\"The list with unique elements only:\")\n",
    "print(my_list)\n"
   ]
  }
 ],
 "metadata": {
  "kernelspec": {
   "display_name": "Python 3",
   "language": "python",
   "name": "python3"
  },
  "language_info": {
   "codemirror_mode": {
    "name": "ipython",
    "version": 3
   },
   "file_extension": ".py",
   "mimetype": "text/x-python",
   "name": "python",
   "nbconvert_exporter": "python",
   "pygments_lexer": "ipython3",
   "version": "3.12.7"
  }
 },
 "nbformat": 4,
 "nbformat_minor": 5
}
