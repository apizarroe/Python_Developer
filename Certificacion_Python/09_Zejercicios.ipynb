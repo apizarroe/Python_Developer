{
 "cells": [
  {
   "cell_type": "markdown",
   "id": "f3a0a7aa",
   "metadata": {},
   "source": [
    "Nivel Básico:\n",
    "\n",
    "Verificar si un número es par o impar usando bitwise\n",
    "Usa el operador & para determinar si un número es par."
   ]
  },
  {
   "cell_type": "code",
   "execution_count": 4,
   "id": "cdea121a",
   "metadata": {},
   "outputs": [
    {
     "name": "stdout",
     "output_type": "stream",
     "text": [
      "Es un valor par\n"
     ]
    }
   ],
   "source": [
    "numero = int(input(\"Ingrese el valor a evaluar: \"))\n",
    "bitmask = 1\n",
    "resultado = numero & bitmask\n",
    "if (resultado == 0):\n",
    "    print(\"Es un valor par\")\n",
    "else:\n",
    "    print(\"Es un valor impar\")"
   ]
  },
  {
   "cell_type": "markdown",
   "id": "f7159e62",
   "metadata": {},
   "source": [
    "Intercambiar dos números sin usar una variable temporal\n",
    "Utiliza operadores XOR (^) para hacer el intercambio."
   ]
  },
  {
   "cell_type": "code",
   "execution_count": 5,
   "id": "dc6f1591",
   "metadata": {},
   "outputs": [
    {
     "name": "stdout",
     "output_type": "stream",
     "text": [
      "18\n",
      "23\n"
     ]
    }
   ],
   "source": [
    "x = 23\n",
    "y = 18\n",
    "\n",
    "y = x ^ y\n",
    "x = x ^ y\n",
    "y = x ^ y\n",
    "\n",
    "print(x)\n",
    "print(y)"
   ]
  },
  {
   "cell_type": "markdown",
   "id": "86703e6d",
   "metadata": {},
   "source": [
    "Comprobar si un número es potencia de 2\n",
    "Usa la propiedad: n & (n - 1) == 0 para n > 0."
   ]
  },
  {
   "cell_type": "code",
   "execution_count": 19,
   "id": "705944a5",
   "metadata": {},
   "outputs": [
    {
     "name": "stdout",
     "output_type": "stream",
     "text": [
      "El numero es potencia de 2\n"
     ]
    }
   ],
   "source": [
    "nroingresado = int(input(\"Ingrese el nro a evaluar: \"))\n",
    "resulado = nroingresado & (nroingresado - 1)\n",
    "if resulado == 0:\n",
    "    print(\"El numero es potencia de 2\")\n",
    "else:\n",
    "    print(\"El numero no es potencia de 2\")"
   ]
  },
  {
   "cell_type": "markdown",
   "id": "665446e6",
   "metadata": {},
   "source": [
    "\n",
    "Contar los bits en 1 de un número entero\n",
    "Escribe una función que cuente cuántos bits están en 1 en la representación binaria de un número."
   ]
  },
  {
   "cell_type": "code",
   "execution_count": 26,
   "id": "ebd0103e",
   "metadata": {},
   "outputs": [
    {
     "name": "stdout",
     "output_type": "stream",
     "text": [
      "0b1010\n",
      "El numero de bits en 1 es:  2\n"
     ]
    }
   ],
   "source": [
    "val_bin = 10\n",
    "conteo = 0\n",
    "cadena_bin = bin(val_bin)\n",
    "print(cadena_bin)\n",
    "\n",
    "for dig in cadena_bin:\n",
    "    if dig == '1':\n",
    "        conteo += 1\n",
    "\n",
    "print(\"El numero de bits en 1 es: \", conteo)"
   ]
  },
  {
   "cell_type": "markdown",
   "id": "e956cd17",
   "metadata": {},
   "source": [
    "Nivel Intermedio\n",
    "\n",
    "Invertir los bits de un número de 8 bits\n",
    "Por ejemplo, 00001101 → 11110010.\n",
    "\n",
    "Obtener el valor absoluto de un número usando operaciones bitwise\n",
    "Sin usar abs(), implementa una función que devuelva el valor absoluto.\n",
    "\n",
    "Implementar una función XOR sin usar el operador ^\n",
    "Usa solo &, |, y ~.\n",
    "\n",
    "Determinar si dos números tienen signos opuestos\n",
    "Usa el operador ^ y verifica el bit de signo."
   ]
  },
  {
   "cell_type": "code",
   "execution_count": null,
   "id": "fb944d3d",
   "metadata": {},
   "outputs": [],
   "source": []
  },
  {
   "cell_type": "markdown",
   "id": "d9af4858",
   "metadata": {},
   "source": [
    "Nivel Avanzado\n",
    "\n",
    "Implementar una suma de dos enteros sin usar el operador +\n",
    "Usa operadores bitwise (^, &, <<) para simular la suma.\n",
    "\n",
    "Rotar bits a la izquierda o derecha\n",
    "Implementa funciones para rotar los bits de un número n a la izquierda o derecha k veces.\n",
    "\n",
    "Encontrar el único número que no se repite en una lista\n",
    "Dada una lista donde todos los números aparecen dos veces excepto uno, encuentra ese número usando XOR.\n",
    "\n",
    "Contar el número de bits diferentes entre dos números\n",
    "Usa XOR para encontrar los bits diferentes y cuenta los 1s."
   ]
  }
 ],
 "metadata": {
  "kernelspec": {
   "display_name": "Python 3",
   "language": "python",
   "name": "python3"
  },
  "language_info": {
   "codemirror_mode": {
    "name": "ipython",
    "version": 3
   },
   "file_extension": ".py",
   "mimetype": "text/x-python",
   "name": "python",
   "nbconvert_exporter": "python",
   "pygments_lexer": "ipython3",
   "version": "3.12.7"
  }
 },
 "nbformat": 4,
 "nbformat_minor": 5
}
