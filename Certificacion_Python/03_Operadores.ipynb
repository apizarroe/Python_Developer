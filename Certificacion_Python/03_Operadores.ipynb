{
 "cells": [
  {
   "cell_type": "code",
   "execution_count": 1,
   "metadata": {},
   "outputs": [
    {
     "name": "stdout",
     "output_type": "stream",
     "text": [
      "4\n"
     ]
    }
   ],
   "source": [
    "# Python puede ser usado como una calculadora\n",
    "print(2+2)"
   ]
  },
  {
   "cell_type": "code",
   "execution_count": null,
   "metadata": {},
   "outputs": [
    {
     "name": "stdout",
     "output_type": "stream",
     "text": [
      "8\n",
      "8.0\n",
      "8.0\n",
      "8.0\n"
     ]
    }
   ],
   "source": [
    "# Lista de algunos operadores\n",
    "# +\n",
    "# -\n",
    "# *\n",
    "# /\n",
    "# //\n",
    "# %\n",
    "# **\n"
   ]
  },
  {
   "cell_type": "code",
   "execution_count": 6,
   "metadata": {},
   "outputs": [
    {
     "name": "stdout",
     "output_type": "stream",
     "text": [
      "8\n",
      "8.0\n",
      "8.0\n",
      "8.0\n"
     ]
    }
   ],
   "source": [
    "# Potencia\n",
    "# Cuando ambos argumentos son enteros, el resultado es entero\n",
    "# Si algun argumento es decimal, el resultado es decimal\n",
    "print(2 ** 3)\n",
    "print(2 ** 3.)\n",
    "print(2. ** 3)\n",
    "print(2. ** 3.)"
   ]
  },
  {
   "cell_type": "code",
   "execution_count": null,
   "metadata": {},
   "outputs": [
    {
     "name": "stdout",
     "output_type": "stream",
     "text": [
      "6\n",
      "6.0\n",
      "6.0\n",
      "6.0\n"
     ]
    }
   ],
   "source": [
    "# Multiplicacion\n",
    "# Cuando ambos argumentos son enteros, el resultado es entero\n",
    "# Si algun argumento es decimal, el resultado es decimal\n",
    "print(2 * 3)\n",
    "print(2 * 3.)\n",
    "print(2. * 3)\n",
    "print(2. * 3.)\n"
   ]
  },
  {
   "cell_type": "code",
   "execution_count": 9,
   "metadata": {},
   "outputs": [
    {
     "name": "stdout",
     "output_type": "stream",
     "text": [
      "2.0\n",
      "2.0\n",
      "2.0\n",
      "2.0\n"
     ]
    }
   ],
   "source": [
    "# Division\n",
    "# El resultado siempre es float\n",
    "print(6 / 3)\n",
    "print(6 / 3.)\n",
    "print(6. / 3)\n",
    "print(6. / 3.)"
   ]
  },
  {
   "cell_type": "code",
   "execution_count": null,
   "metadata": {},
   "outputs": [
    {
     "name": "stdout",
     "output_type": "stream",
     "text": [
      "2\n",
      "2.0\n",
      "2.0\n",
      "2.0\n",
      "-2\n",
      "-2.0\n"
     ]
    }
   ],
   "source": [
    "# Division Entera\n",
    "# El valor siempre es truncado al valor entero previo, \n",
    "# sin embargo quien define el tipo del resultado (int/float) son los agumentos\n",
    "print(6 // 3)\n",
    "print(6 // 3.)\n",
    "print(6. // 3)\n",
    "print(6. // 3.)\n",
    "\n",
    "# En el caso de valores negativos considerar los valores menores\n",
    "# El valor resultante de la división es -1.5 y lo redondea al valor menor previo -2\n",
    "# La division de enteros tambien es llamada floor division\n",
    "print(-6 // 4)\n",
    "print(6. // -4)"
   ]
  },
  {
   "cell_type": "code",
   "execution_count": null,
   "metadata": {},
   "outputs": [
    {
     "name": "stdout",
     "output_type": "stream",
     "text": [
      "2\n",
      "3.0\n",
      "0.0\n"
     ]
    }
   ],
   "source": [
    "# Módulo\n",
    "# Devuelve el residuo de la division entera, si uno de los argumentos es decimal el resultado es decimal\n",
    "print(14 % 4)\n",
    "print(12 % 4.5)\n",
    "print(12.0 % 4)\n"
   ]
  },
  {
   "cell_type": "code",
   "execution_count": null,
   "metadata": {},
   "outputs": [],
   "source": [
    "# As you probably know, division by zero doesn't work.\n",
    "# Do not try to:\n",
    "# perform a division by zero;\n",
    "# perform an integer division by zero;\n",
    "# find a remainder of a division by zero."
   ]
  },
  {
   "cell_type": "code",
   "execution_count": null,
   "metadata": {},
   "outputs": [
    {
     "name": "stdout",
     "output_type": "stream",
     "text": [
      "0\n",
      "4.0\n",
      "2\n",
      "-8\n",
      "-4.0\n",
      "-1.1\n"
     ]
    }
   ],
   "source": [
    "# Suma\n",
    "print(-4 + 4) # Operador Binario\n",
    "print(-4.+ 8)\n",
    "print(+2) # Operador Unario\n",
    "\n",
    "# Resta\n",
    "print(-4 - 4) # Operador Binario\n",
    "print(4. - 8)\n",
    "print(-1.1) # Operador Unario\n"
   ]
  },
  {
   "cell_type": "code",
   "execution_count": null,
   "metadata": {},
   "outputs": [
    {
     "name": "stdout",
     "output_type": "stream",
     "text": [
      "17\n"
     ]
    }
   ],
   "source": [
    "# Operadores y prioridades\n",
    "# Primero ejecuta la multiplicacion y luego la suma\n",
    "print(2 + 3 * 5)\n",
    "\n",
    "# La jerarquia de prioridades causa que algunos operadores actuen antes que otros"
   ]
  },
  {
   "cell_type": "code",
   "execution_count": 14,
   "metadata": {},
   "outputs": [
    {
     "name": "stdout",
     "output_type": "stream",
     "text": [
      "1\n",
      "256\n",
      "-9\n",
      "-8\n",
      "-9\n",
      "9\n"
     ]
    }
   ],
   "source": [
    "# En operadores de igual prioridad, la operación se realiza de izquierda a derecha\n",
    "print(9 % 6 % 2)\n",
    "# Sin embargo hay una excepcion a la regla en el uso del exponente\n",
    "# En ese caso las operaciones se realizan de derecha a izquierda\n",
    "print(2 ** 2 ** 3)\n",
    "print(-3 ** 2)\n",
    "print(-2 ** 3)\n",
    "print(-(3 ** 2))\n",
    "print((-3) ** 2)"
   ]
  },
  {
   "cell_type": "markdown",
   "metadata": {},
   "source": [
    "|Protiry|Operador|Type|\n",
    "|---|---|---|\n",
    "|1|**|\n",
    "|2|+ , -|unary|\n",
    "|3|* , / , // , %|\n",
    "|4|+ , -|binary|"
   ]
  },
  {
   "cell_type": "code",
   "execution_count": 18,
   "metadata": {},
   "outputs": [
    {
     "name": "stdout",
     "output_type": "stream",
     "text": [
      "1\n"
     ]
    }
   ],
   "source": [
    "# Ejemplo de combinacion de operadores\n",
    "print(2 * 3 % 5)"
   ]
  },
  {
   "cell_type": "code",
   "execution_count": 20,
   "metadata": {},
   "outputs": [
    {
     "name": "stdout",
     "output_type": "stream",
     "text": [
      "10.0\n"
     ]
    }
   ],
   "source": [
    "# Operadores y parentesis\n",
    "# Se puede hacer uso de los parentesis para cambiar el orden natural del calculo.\n",
    "# Expresiones entre parentesis son calculadas primero\n",
    "print((5 * ((25 % 13) + 100) / (2 * 13)) // 2)"
   ]
  }
 ],
 "metadata": {
  "kernelspec": {
   "display_name": "Python 3",
   "language": "python",
   "name": "python3"
  },
  "language_info": {
   "codemirror_mode": {
    "name": "ipython",
    "version": 3
   },
   "file_extension": ".py",
   "mimetype": "text/x-python",
   "name": "python",
   "nbconvert_exporter": "python",
   "pygments_lexer": "ipython3",
   "version": "3.12.2"
  }
 },
 "nbformat": 4,
 "nbformat_minor": 2
}
