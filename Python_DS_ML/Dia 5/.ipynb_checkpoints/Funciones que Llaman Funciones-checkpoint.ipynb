{
 "cells": [
  {
   "attachments": {},
   "cell_type": "markdown",
   "id": "965eea54",
   "metadata": {},
   "source": [
    "# Funciones que Llaman Funciones\n",
    "\n",
    "Es importante entender que las funciones son casi el corazón lógico de la programación, porque son las **encargadas de organizar y estructurar** el funcionamiento de tu programa. Mientras más puedas **dividir tu código en funciones separadas**, más eficiente y ordenado será tu código, y además más facil de mantener.\n",
    "\n",
    "Puede que con lo que vimos hasta ahora, esto no haya sido tan evidente, pero en esta lección te voy a enseñar a **llamar a funciones desde las funciones**, y esto va a hacer que puedas ver con más claridad cómo esto ayuda a que nuestros programas se parezcan más a eso, a verdaderos programas.\n",
    "\n",
    "Veamos un pequeño ejemplo de cómo implementarlo. Voy a crear **dos funciones** que se encarguen de preguntar el **nombre** y el **apellido** del usuario."
   ]
  },
  {
   "cell_type": "code",
   "execution_count": null,
   "id": "c9591b2f",
   "metadata": {},
   "outputs": [],
   "source": [
    "def pedir_nombre():\n",
    "    nombre = input(\"Dime tu nombre: \")\n",
    "    return nombre"
   ]
  },
  {
   "cell_type": "code",
   "execution_count": null,
   "id": "0fca784e",
   "metadata": {},
   "outputs": [],
   "source": [
    "def pedir_apellido():\n",
    "    apellido = input(\"Dime tu apellido: \")\n",
    "    return apellido"
   ]
  },
  {
   "attachments": {},
   "cell_type": "markdown",
   "id": "a41600ed",
   "metadata": {},
   "source": [
    "Ahora voy a crear una función que se encargue de saludar al usuario, pero que, en vez de preguntar los datos por su cuenta, lo que haga sea llamar a las funciones que se encargan de esa tarea."
   ]
  },
  {
   "cell_type": "code",
   "execution_count": null,
   "id": "31a07781",
   "metadata": {},
   "outputs": [],
   "source": [
    "def saludar():\n",
    "    saludo = f\"Hola {pedir_nombre()} {pedir_apellido()}\"\n",
    "    print(saludo)"
   ]
  },
  {
   "cell_type": "code",
   "execution_count": null,
   "id": "9d7d19bd",
   "metadata": {},
   "outputs": [],
   "source": [
    "saludar()"
   ]
  },
  {
   "attachments": {},
   "cell_type": "markdown",
   "id": "34411b18",
   "metadata": {},
   "source": [
    "Ahora tengo **una función que se encarga de llamar a otras funciones**, y que recibe lo que esas funciones devuelven, y lo usa en su código.\n",
    "\n",
    "Si bien este ejemplo no es de lo más eficiente, porque las funciones *pedir_nombre()* y *pedir_apellido()* son tan simples, que tal vez me convenía eliminarlas y escribir los inputs en la función *saludar()*, de todos modos es un buen ejemplo para que comprendas la lógica de **dividir tu código en diferentes bloques operativos**, para poder identificar mejor las partes de tu programa, lo que facilita muchísimo la administración y el mantenimiento de tu código.\n",
    "\n",
    "Ahora veamos otro ejemplo, en el que la función principal llame a otra función **desde adentro de un loop**, lo que permite reutilizar su código muchas veces.\n",
    "\n",
    "Voy a crear un pequeño código que se encargue de pedir al usuario una lista de números, y que devuelva el cálculo del cuadrado de cada número."
   ]
  },
  {
   "cell_type": "code",
   "execution_count": null,
   "id": "539c963b",
   "metadata": {},
   "outputs": [],
   "source": [
    "mi_lista = [1, 2, 3, 4, 5]\n",
    "\n",
    "def cuadrado(n):\n",
    "    return n * n\n",
    "\n",
    "def calcular_lista(numeros):\n",
    "    for numero in numeros:\n",
    "        resultado = cuadrado(numero)\n",
    "        print(f\"El cuadrado de {numero} es {resultado}\")"
   ]
  },
  {
   "cell_type": "code",
   "execution_count": null,
   "id": "861be95f",
   "metadata": {},
   "outputs": [],
   "source": [
    "calcular_lista(mi_lista)"
   ]
  },
  {
   "attachments": {},
   "cell_type": "markdown",
   "id": "be89a67c",
   "metadata": {},
   "source": [
    "Con este aprendizaje, estamos en condiciones de **estructurar programas complejos** de una manera más limpia y entendible, mejor organizada en bloques separados, en vez de tener una lista interminable de código donde no podemos encontrar con facilidad los segmentos que nos interesan."
   ]
  }
 ],
 "metadata": {
  "kernelspec": {
   "display_name": "Python 3 (ipykernel)",
   "language": "python",
   "name": "python3"
  },
  "language_info": {
   "codemirror_mode": {
    "name": "ipython",
    "version": 3
   },
   "file_extension": ".py",
   "mimetype": "text/x-python",
   "name": "python",
   "nbconvert_exporter": "python",
   "pygments_lexer": "ipython3",
   "version": "3.11.5"
  }
 },
 "nbformat": 4,
 "nbformat_minor": 5
}
