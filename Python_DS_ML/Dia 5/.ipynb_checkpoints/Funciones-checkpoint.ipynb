{
 "cells": [
  {
   "attachments": {},
   "cell_type": "markdown",
   "id": "bea8b759",
   "metadata": {},
   "source": [
    "# Funciones\n",
    "\n",
    "Vamos a conocer en profundidad las funciones en python. Hasta el momento has conocido algunas funciones\n",
    "\n",
    "### Algunas funciones que ya hemos conocido"
   ]
  },
  {
   "cell_type": "code",
   "execution_count": null,
   "id": "1eb08c7b",
   "metadata": {},
   "outputs": [],
   "source": [
    "range()\n",
    "type()\n",
    "len()"
   ]
  },
  {
   "attachments": {},
   "cell_type": "markdown",
   "id": "6cc6d319",
   "metadata": {},
   "source": [
    "Tambien conociste muchas funciones como métodos de los objetos.\n",
    "\n",
    "### Algunos métodos (funciones) que ya hemos conocido"
   ]
  },
  {
   "cell_type": "code",
   "execution_count": null,
   "id": "506d6962",
   "metadata": {},
   "outputs": [],
   "source": [
    "\"Hola\".upper()\n",
    "[1, 2, 3].sort()\n",
    "(1, 2, 3).count()"
   ]
  },
  {
   "attachments": {},
   "cell_type": "markdown",
   "id": "26612546",
   "metadata": {},
   "source": [
    "Como habrás notado, la **sintaxis** de cada función consiste en el *nombre* de la función, seguido de un juego de *paréntesis* que puede quedar vacío, o bien puede requerir que ingreses *parámetros* para especificar mejor el comportamiento de la función.\n",
    "\n",
    "```\n",
    "nombre_funcion(parámetros)\n",
    "```\n",
    "\n",
    "Todas las funciones que vimos hasta ahora son funciones que **ya vienen incorporadas a python**, y como te dije hay muchísimas que ni siquiera hemos visto, pero que están a tu disposición para encontrarlas usando **type**, **dir** y **help** en cada caso.\n",
    "\n",
    "Pero lo que veremos en esta lección, es que no solamente podemos usar las funciones incorporadas en python, sino también **crear nuestras propias funciones** ¿suena bien, verdad?\n",
    "\n",
    "¿Para qué queremos crear funciones?\n",
    "- Organizar nuestro código\n",
    "- Reutilizarlo cada vez que necesitemos\n",
    "- Dividir programas complejos en tareas más pequeñas y manejables\n",
    "\n",
    "Vamos a crear nuestra primera función usando la palabra **def**, que significa *definición*:"
   ]
  },
  {
   "cell_type": "code",
   "execution_count": 1,
   "id": "0fe8a8ff",
   "metadata": {},
   "outputs": [],
   "source": [
    "def saludo():\n",
    "    print(\"Hola mundo\")"
   ]
  },
  {
   "cell_type": "markdown",
   "id": "612b0e17",
   "metadata": {},
   "source": [
    "En la celda anterior hemos definido nuestra función, pero aún **no se ha ejecutado ninguna instrucción**, porque la definición de una función sólo establece lo que va a hacer esa función cuando la llamemos, pero aún **no la hemos llamado**.\n",
    "\n",
    "En la siguiente celda voy a llamar a mi función *saludo*:"
   ]
  },
  {
   "cell_type": "code",
   "execution_count": 2,
   "id": "6e8d3fd8",
   "metadata": {},
   "outputs": [
    {
     "name": "stdout",
     "output_type": "stream",
     "text": [
      "Hola mundo\n"
     ]
    }
   ],
   "source": [
    "saludo()"
   ]
  },
  {
   "cell_type": "markdown",
   "id": "741d8f92",
   "metadata": {},
   "source": [
    "Una vez que has definido una función, esta ya existe en el contexto de tu programa (este cuaderno), y puedes llamarla tantas veces como quieras, sin tener que escribir su código otra vez."
   ]
  },
  {
   "cell_type": "code",
   "execution_count": 3,
   "id": "f1931836",
   "metadata": {},
   "outputs": [
    {
     "name": "stdout",
     "output_type": "stream",
     "text": [
      "Hola mundo\n"
     ]
    }
   ],
   "source": [
    "saludo()"
   ]
  },
  {
   "cell_type": "markdown",
   "id": "0d7be401",
   "metadata": {},
   "source": [
    "La definición de la función saludo tiene sus **paréntesis vacíos**, por lo tanto esa función no espera que le pasemos ningún parámetro al momento de llamarla.\n",
    "\n",
    "Pero si colocamos una o más **variables dentro de los paréntesis** al momento de definirla, eso significa que cuando la llamemos, tengamos que pasar **valores (parámetros)** dentro de los paréntesis. Estos valores pueden ser usados por el código interno de la función."
   ]
  },
  {
   "cell_type": "code",
   "execution_count": 4,
   "id": "3223619a",
   "metadata": {},
   "outputs": [],
   "source": [
    "def tu_saludo(nombre):\n",
    "    print(f\"Hola {nombre}\")"
   ]
  },
  {
   "cell_type": "code",
   "execution_count": 5,
   "id": "5a37e5cb",
   "metadata": {},
   "outputs": [
    {
     "name": "stdout",
     "output_type": "stream",
     "text": [
      "Hola federico\n"
     ]
    }
   ],
   "source": [
    "tu_saludo(\"federico\")"
   ]
  },
  {
   "cell_type": "code",
   "execution_count": 6,
   "id": "6ed7cbd5",
   "metadata": {
    "scrolled": true
   },
   "outputs": [
    {
     "name": "stdout",
     "output_type": "stream",
     "text": [
      "Hola Juana\n"
     ]
    }
   ],
   "source": [
    "tu_saludo(\"Juana\")"
   ]
  },
  {
   "attachments": {},
   "cell_type": "markdown",
   "id": "3303d8cb",
   "metadata": {},
   "source": [
    "La mayoría de las veces vamos a querer que nuestras funciones, al terminar, hagan una de estas dos cosas:\n",
    "- mostrar algo en pantalla\n",
    "- devolverle algo al código\n",
    "\n",
    "Las funciones que hicimos hasta ahora solo han mostrado algo en pantalla, pero no han devuelto nada que podamos seguir utilizando en el código siguiente.\n",
    "\n",
    "Para lograr que nuestras funciones nos devuelvan nueva información que podamos seguir manipulando, usamos la palabra **return**:"
   ]
  },
  {
   "cell_type": "code",
   "execution_count": 7,
   "id": "6c73fda2",
   "metadata": {},
   "outputs": [],
   "source": [
    "def sumar(a, b):\n",
    "    resultado = a + b\n",
    "    return resultado"
   ]
  },
  {
   "cell_type": "markdown",
   "id": "251a6cee",
   "metadata": {},
   "source": [
    "Ahora al llamar a la función *sumar()*, el resultado no va a ser una impresión en pantalla, sino una **salida de celda (Out[n])**, es decir, un valor devuelto por la función."
   ]
  },
  {
   "cell_type": "code",
   "execution_count": 8,
   "id": "8b7ea503",
   "metadata": {},
   "outputs": [
    {
     "data": {
      "text/plain": [
       "5"
      ]
     },
     "execution_count": 8,
     "metadata": {},
     "output_type": "execute_result"
    }
   ],
   "source": [
    "sumar(2, 3)"
   ]
  },
  {
   "cell_type": "markdown",
   "id": "c057a073",
   "metadata": {},
   "source": [
    "¿Y cuál es la diferencia? Que si colocamos a nuestra función dentro de una variable, podemos capturar el valor devuelto dentro de la variable."
   ]
  },
  {
   "cell_type": "code",
   "execution_count": 9,
   "id": "606a2c95",
   "metadata": {},
   "outputs": [],
   "source": [
    "numero = sumar(2, 3)"
   ]
  },
  {
   "cell_type": "markdown",
   "id": "b2d18d36",
   "metadata": {},
   "source": [
    "Ahora dispongo de una variable llamada *numero* que contiene el valor devuelto por la función *sumar()*, y puedo disponer de él para hacer nuevas cosas en mi código."
   ]
  },
  {
   "cell_type": "code",
   "execution_count": 10,
   "id": "bbbab397",
   "metadata": {},
   "outputs": [
    {
     "data": {
      "text/plain": [
       "5"
      ]
     },
     "execution_count": 10,
     "metadata": {},
     "output_type": "execute_result"
    }
   ],
   "source": [
    "numero"
   ]
  },
  {
   "cell_type": "code",
   "execution_count": 11,
   "id": "ca7821e5",
   "metadata": {},
   "outputs": [
    {
     "data": {
      "text/plain": [
       "10"
      ]
     },
     "execution_count": 11,
     "metadata": {},
     "output_type": "execute_result"
    }
   ],
   "source": [
    "numero * 2"
   ]
  },
  {
   "attachments": {},
   "cell_type": "markdown",
   "id": "af3ef8e6",
   "metadata": {},
   "source": [
    "Dentro de nuestras funciones podemos poner cualquier tipo de código, como **loops** o **estructuras de control**.\n",
    "\n",
    "En el siguiente ejemplo, voy a crear una función que pida un número, y que imprima todos los número pares que hay desde 1 hasta el número ingresado."
   ]
  },
  {
   "cell_type": "code",
   "execution_count": 12,
   "id": "d07c77f5",
   "metadata": {},
   "outputs": [],
   "source": [
    "def imprimir_pares_hasta(n):\n",
    "    for numero in range(1, n + 1):\n",
    "        if numero % 2 == 0:\n",
    "            print(numero)"
   ]
  },
  {
   "cell_type": "code",
   "execution_count": 13,
   "id": "9301152e",
   "metadata": {},
   "outputs": [
    {
     "name": "stdout",
     "output_type": "stream",
     "text": [
      "2\n",
      "4\n",
      "6\n"
     ]
    }
   ],
   "source": [
    "imprimir_pares_hasta(6)"
   ]
  },
  {
   "attachments": {},
   "cell_type": "markdown",
   "id": "2d11fce4",
   "metadata": {},
   "source": [
    "Las funciones van a tener un peso crítico en tu desarrollo como programador, así que permítete el tiempo para practicar, y de a poco ir tomándoles la mano."
   ]
  }
 ],
 "metadata": {
  "kernelspec": {
   "display_name": "Python 3 (ipykernel)",
   "language": "python",
   "name": "python3"
  },
  "language_info": {
   "codemirror_mode": {
    "name": "ipython",
    "version": 3
   },
   "file_extension": ".py",
   "mimetype": "text/x-python",
   "name": "python",
   "nbconvert_exporter": "python",
   "pygments_lexer": "ipython3",
   "version": "3.11.5"
  }
 },
 "nbformat": 4,
 "nbformat_minor": 5
}
