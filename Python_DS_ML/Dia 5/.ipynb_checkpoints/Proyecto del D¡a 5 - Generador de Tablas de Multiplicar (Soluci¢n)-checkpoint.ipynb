{
 "cells": [
  {
   "cell_type": "markdown",
   "id": "a948c51c",
   "metadata": {},
   "source": [
    "# Proyecto del Día 5: Generador de Tablas de Multiplicar (Solución)"
   ]
  },
  {
   "cell_type": "markdown",
   "id": "e8159936",
   "metadata": {},
   "source": [
    "\n",
    "Este proyecto de Python permite al usuario generar tablas de multiplicar para cualquier número y hasta un límite específico de multiplicación.\n",
    "\n",
    "## Consigna\n",
    "Vas a crear un código que le pida al usuario un **número para multiplicar**, y un **número límite** para establecer hasta cuánto lo vamos a multiplicar.\n",
    "\n",
    "Por ejemplo, si el usuario elige:\n",
    "- Número: 5\n",
    "- Límite: 3\n",
    "\n",
    "El programa le devolverá:\n",
    "```\n",
    "5 x 1 = 5\n",
    "5 x 2 = 10\n",
    "5 x 3 = 15\n",
    "````\n",
    "\n",
    "Cuando el programa termine de mostrar los resultados, debe preguntarle al usuario si desea calcular otra tabla, o finalizar el programa.\n",
    "\n",
    "**Recomendaciones**:\n",
    "- Crear una función que se encargue de calcular las tablas\n",
    "- Crear una función global que se encargue de:\n",
    "    - Solicitar al usuario un número para generar su tabla de multiplicar.\n",
    "    - Pedir el límite hasta donde se quiere llegar en la multiplicación.\n",
    "    - Llamar a la función que crea las tablas\n",
    "    \n",
    "- Emplear bucles `for` y la función `range` para la lógica de la tabla.\n",
    "- Implementar un bucle `while` para que el usuario pueda generar múltiples tablas o salir del programa.\n"
   ]
  },
  {
   "cell_type": "code",
   "execution_count": null,
   "id": "39ac3e8e",
   "metadata": {},
   "outputs": [],
   "source": [
    "def generar_tablas(numero, limite):\n",
    "    for n in range(1, limite+ 1):\n",
    "        print(f\"{numero} X {n} = {numero * n}\")"
   ]
  },
  {
   "cell_type": "code",
   "execution_count": null,
   "id": "2a5934d5",
   "metadata": {},
   "outputs": [],
   "source": [
    "def inicio():\n",
    "    while True:\n",
    "        print(\"\\nGenerador de Tablas de Multiplicar\\n\")\n",
    "        num = int(input(\"Ingrese el número que desea multiplicar: \"))\n",
    "        lim = int(input(\"Ingrese la cantidad de veces que desea multiplicarlo: \"))\n",
    "        \n",
    "        generar_tablas(num, lim)\n",
    "        \n",
    "        otra = input(\"¿Quiere calcular más tablas? (s/n):\")\n",
    "        if otra.lower() != \"s\":\n",
    "            break"
   ]
  },
  {
   "cell_type": "code",
   "execution_count": null,
   "id": "0311a22c",
   "metadata": {},
   "outputs": [],
   "source": [
    "inicio()"
   ]
  }
 ],
 "metadata": {
  "kernelspec": {
   "display_name": "Python 3 (ipykernel)",
   "language": "python",
   "name": "python3"
  },
  "language_info": {
   "codemirror_mode": {
    "name": "ipython",
    "version": 3
   },
   "file_extension": ".py",
   "mimetype": "text/x-python",
   "name": "python",
   "nbconvert_exporter": "python",
   "pygments_lexer": "ipython3",
   "version": "3.11.5"
  }
 },
 "nbformat": 4,
 "nbformat_minor": 5
}
