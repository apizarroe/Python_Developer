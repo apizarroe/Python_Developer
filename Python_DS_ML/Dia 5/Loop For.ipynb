{
 "cells": [
  {
   "attachments": {},
   "cell_type": "markdown",
   "id": "8296dea8",
   "metadata": {},
   "source": [
    "# Loop For\n",
    "\n",
    "### ¿Qué es un loop?\n",
    "\n",
    "Los loops son otro de esos conceptos en los que tu cabeza se tiene que preparar para algo completamente nuevo, y divertido.\n",
    "\n",
    "En inglés la palabra *loop* significa *bucle* o *rulo*, y hace referencia a algo que, **cuando termina, vuelve a comenzar una y otra vez**.\n",
    "\n",
    "Si llevamos este concepto a la programación, un loop es un **bloque de código que se ejecuta, y al finalizar, se vuelve a ejecutar otra vez, y otra vez, y otra vez, hasta que se active alguna condición que lo detenga**.\n",
    "\n",
    "La razón por la que existen los loops es para evitar que tengamos que escribir código repetido cuando necesitamos que una acción se ejecute más de una vez.\n",
    "\n",
    "En python existen distintos tipos de loops, y vamos a ver los dos más importantes: el **loop for**, y el **loop while**.\n",
    "\n",
    "### Loop For\n",
    "\n",
    "El **loop for** es un bucle que se va a repetir **tantas veces como elementos** encuentre dentro de una secuencia.\n",
    "\n",
    "Esta es la sintaxis del loop for:\n",
    "\n",
    "```\n",
    "for <elemento> in <secuencia>:\n",
    "\t<código a ejecutar>\n",
    "```\n",
    "\t\n",
    "Esta instrucción le está diciendo a python que tome una **colección de datos (o secuencia)**, como puede ser una lista, y le dice que **por cada** uno de sus **elementos**, ejecute el **código** que le pasemos.\n",
    "\n",
    "Entonces el loop no se va a repetir hasta el infinito, sino hasta que se agote la cantidad de elementos de la secuencia."
   ]
  },
  {
   "cell_type": "code",
   "execution_count": null,
   "id": "2ecd28d6",
   "metadata": {},
   "outputs": [],
   "source": [
    "for n in [0, 1, 2, 3, 4, 5]:\n",
    "    print(n)"
   ]
  },
  {
   "attachments": {},
   "cell_type": "markdown",
   "id": "9b4bf874",
   "metadata": {},
   "source": [
    "Podemos hacer esto con cualquier tipo de colección como listas, diccionarios, tuplas, e incluso strings, que son una colección de caracteres. A todos estos tipos de datos, también los llamamos **iterables**, porque los loops pueden iterar por cada uno de sus elementos.\n",
    "\n",
    "Veamos un ejemplo con un string:"
   ]
  },
  {
   "cell_type": "code",
   "execution_count": null,
   "id": "857311c5",
   "metadata": {},
   "outputs": [],
   "source": [
    "for letra in \"python\":\n",
    "    print(letra)"
   ]
  },
  {
   "attachments": {},
   "cell_type": "markdown",
   "id": "903f1d24",
   "metadata": {},
   "source": [
    "Hagamos algo más divertido:"
   ]
  },
  {
   "cell_type": "code",
   "execution_count": null,
   "id": "eec48cc2",
   "metadata": {},
   "outputs": [],
   "source": [
    "paises = [\"Argentina\", \"Colombia\", \"Perú\", \"México\"]\n",
    "\n",
    "for p in paises:\n",
    "    largo = len(p)\n",
    "    print(f\"{p} tiene {largo} letras\")"
   ]
  },
  {
   "attachments": {},
   "cell_type": "markdown",
   "id": "6077c639",
   "metadata": {},
   "source": [
    "Lo interesante de este ejercicio es que en cada ciclo del loop la variable *largo* se sobrescribe con el valor correspondiente al país que corresponda en cada iteración, y por eso puede devolver información distinta en cada impresión.\n",
    "\n",
    "Otro ejercicio interesante sería aplicar una **estructura de control** dentro del loop, para que haga comprobaciones en cada ciclo, y arroje resultados diferentes según el valor de cada iteración."
   ]
  },
  {
   "cell_type": "code",
   "execution_count": null,
   "id": "51684cc9",
   "metadata": {},
   "outputs": [],
   "source": [
    "for p in paises:\n",
    "    if len(p) > 6:\n",
    "        print(f\"{p} tiene nombre largo\")\n",
    "    else:\n",
    "        print(f\"{p} tiene nombre corto\")"
   ]
  },
  {
   "attachments": {},
   "cell_type": "markdown",
   "id": "b11f1f42",
   "metadata": {},
   "source": [
    "Y para terminar hagamos un pequeño juego extra. Vamos a **anidar loops**, es decir que vamos a poner un loop dentro de otro, e intentaremos comprender cómo se comportan estos artefactos.\n",
    "\n",
    "Voy a crear una estructura de dos loops anidados, para que se impriman todas las combinaciones posibles de los elementos que dispongo en dos listas diferentes:"
   ]
  },
  {
   "cell_type": "code",
   "execution_count": null,
   "id": "e98dc26d",
   "metadata": {},
   "outputs": [],
   "source": [
    "colores = [\"rojo\", \"azul\", \"verde\"]\n",
    "prendas = [\"sombrero\", \"pantalon\", \"zapato\"]\n",
    "\n",
    "for color in colores:\n",
    "    for prenda in prendas:\n",
    "        print(prenda, color)"
   ]
  },
  {
   "cell_type": "markdown",
   "id": "126592d7",
   "metadata": {},
   "source": [
    "por favor, tómate unps minutos para analizar lo que ha sucedido en cada iteración del loop. Piensa en el valor que tienen las variables **color** y **prenda** en cada iteración, y cómo eso determina lo que se imprime en cada línea.\n",
    "\n",
    "Esta comprensión es crucial para asimilar luego con facilidad el uso de los loops."
   ]
  }
 ],
 "metadata": {
  "kernelspec": {
   "display_name": "Python 3 (ipykernel)",
   "language": "python",
   "name": "python3"
  },
  "language_info": {
   "codemirror_mode": {
    "name": "ipython",
    "version": 3
   },
   "file_extension": ".py",
   "mimetype": "text/x-python",
   "name": "python",
   "nbconvert_exporter": "python",
   "pygments_lexer": "ipython3",
   "version": "3.11.5"
  }
 },
 "nbformat": 4,
 "nbformat_minor": 5
}
