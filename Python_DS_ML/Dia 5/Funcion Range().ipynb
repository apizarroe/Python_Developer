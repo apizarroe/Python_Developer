{
 "cells": [
  {
   "attachments": {},
   "cell_type": "markdown",
   "id": "c03b3f2a",
   "metadata": {},
   "source": [
    "# Función Range()\n",
    "\n",
    "En esta lección quiero explicarte la funcion **Range** (o Rango) y mostrarte cómo podemos usarla en los loops.\n",
    "\n",
    "La función range devuelve un **rango de números** ¿qué rango de números? El que especifiquemos en sus parámetros.\n",
    "\n",
    "Si le pedimos que nos pase hasta el 7, nos va a crear un rango de números que comienza en cero, y que llega hasta 6, porque al igual que con la segmentación, el número que pidamos como límite superior no va a ser inclusivo."
   ]
  },
  {
   "cell_type": "code",
   "execution_count": null,
   "id": "75d78d34",
   "metadata": {},
   "outputs": [],
   "source": [
    "miRango = range(7)"
   ]
  },
  {
   "attachments": {},
   "cell_type": "markdown",
   "id": "0d26c8a8",
   "metadata": {},
   "source": [
    "Para ver cada uno de los números que contiene mi rango, podemos iterar en el con un loop for"
   ]
  },
  {
   "cell_type": "code",
   "execution_count": null,
   "id": "e4627917",
   "metadata": {},
   "outputs": [],
   "source": [
    "for n in miRango:\n",
    "    print(n)"
   ]
  },
  {
   "attachments": {},
   "cell_type": "markdown",
   "id": "02c980f8",
   "metadata": {},
   "source": [
    "Entonces aquí ya estamos viendo un uso que podemos darle a los rangos. Cuando necesitamos que un **loop for** itere un determinado número de veces, pero no tenemos una colección con esa cantidad de elementos, simplemente creamos un **rango** con el solo fin de tener la cantidad de elementos necesarios para decirle al loop \"*quiero que iteres 5 veces*\", o las que sean necesarias.\n",
    "\n",
    "Entonces si ponemos **un solo número** en range vamos a obtener los números que van **desde cero hasta su inmediato anterior**, ascendiendo de **uno en uno**.\n",
    "\n",
    "Pero si escribimos **dos números**, separados por coma, nuestra serie de números ahora va a comenzar por el primer número y a terminar, como antes, en el inmediato anterior del segundo número."
   ]
  },
  {
   "cell_type": "code",
   "execution_count": null,
   "id": "5b5a4b54",
   "metadata": {},
   "outputs": [],
   "source": [
    "miRango = range(5, 10)\n",
    "\n",
    "for n in miRango:\n",
    "    print(n)"
   ]
  },
  {
   "attachments": {},
   "cell_type": "markdown",
   "id": "85b24240",
   "metadata": {},
   "source": [
    "Y si agrego un **tercer elemento**, le estaré indicando a range qué tan largo deben ser los **pasos que debe dar**. En este ejemplo, va a **crecer de 2 en 2**."
   ]
  },
  {
   "cell_type": "code",
   "execution_count": null,
   "id": "034bff1f",
   "metadata": {},
   "outputs": [],
   "source": [
    "miRango = range(5, 10, 2)\n",
    "\n",
    "for n in miRango:\n",
    "    print(n)"
   ]
  },
  {
   "attachments": {},
   "cell_type": "markdown",
   "id": "bc11f7df",
   "metadata": {},
   "source": [
    "Y por supuesto que podemos reemplazar los parámetros de range por variables, en el caso de que necesitemos que nuestros rangos sean de largo variable. Mira este ejemplo:"
   ]
  },
  {
   "cell_type": "code",
   "execution_count": null,
   "id": "5357e41f",
   "metadata": {},
   "outputs": [],
   "source": [
    "palabra = \"python\"\n",
    "\n",
    "for n in range(len(palabra)):\n",
    "    print(n)"
   ]
  }
 ],
 "metadata": {
  "kernelspec": {
   "display_name": "Python 3 (ipykernel)",
   "language": "python",
   "name": "python3"
  },
  "language_info": {
   "codemirror_mode": {
    "name": "ipython",
    "version": 3
   },
   "file_extension": ".py",
   "mimetype": "text/x-python",
   "name": "python",
   "nbconvert_exporter": "python",
   "pygments_lexer": "ipython3",
   "version": "3.11.5"
  }
 },
 "nbformat": 4,
 "nbformat_minor": 5
}
