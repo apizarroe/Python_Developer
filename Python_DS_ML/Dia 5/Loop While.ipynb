{
 "cells": [
  {
   "attachments": {},
   "cell_type": "markdown",
   "id": "055382cd",
   "metadata": {},
   "source": [
    "# Loop While\n",
    "\n",
    "La principal diferencia del **loop while** con el **loop for**, es que while *no se va a repetir un número predeterminado de veces*, sino que *se va a repetir constantemente*, y solo **se va a detener cuando una condición deje de cumplirse**.\n",
    "\n",
    "Por eso se llama loop *while*, porque en inglés *while* significa *mientras*. Entonces el loop while se va a seguir repitiendo *mientras* que la condición sea verdadera."
   ]
  },
  {
   "cell_type": "code",
   "execution_count": null,
   "id": "dab6a343",
   "metadata": {},
   "outputs": [],
   "source": [
    "contador = 0\n",
    "\n",
    "while contador < 5:\n",
    "    print(contador)\n",
    "    contador += 1"
   ]
  },
  {
   "attachments": {},
   "cell_type": "markdown",
   "id": "e02f1978",
   "metadata": {},
   "source": [
    "Debes ser muy cuidadoso al escribir loops while, porque si no has configurado adecuadamente la condición de corte, tu loop se va a repetir hasta el infinito (o mejor dicho, hasta que tu ordenador se quede sin recursos).\n",
    "\n",
    "Si por accidente o descuido llegas a ejecutar el siguiente loop while...\n",
    "\n",
    "```\n",
    "while contador < 5:\n",
    "    print(contador)\n",
    "```\n",
    "\n",
    "... la salida de la celda conezará a devolver numeros *0* sin parar. Si eso llega a suceder, la solución será ir a **Kernel** / **Restart & Clear Output**.\n",
    "\n",
    "### Break y Continue\n",
    "\n",
    "Hay dos palabras clave que puedes utilizar en los loops (tanto while como for), y son las palabras **break** y **continue**.\n",
    "\n",
    "**Continue**, como imaginarás, significa *continuar*, y lo que hace es interrumpir la iteración actual del loop y pasar a la siguiente.\n",
    "\n",
    "**Break** en cambio significa *cortar* o *interrumpir* en inglés, y se usa para cortar el loop definitivamente."
   ]
  },
  {
   "cell_type": "code",
   "execution_count": null,
   "id": "286f5c3d",
   "metadata": {},
   "outputs": [],
   "source": [
    "contador = 0\n",
    "\n",
    "while contador < 10:\n",
    "    contador += 1\n",
    "    if contador == 5:\n",
    "        continue\n",
    "    if contador == 8:\n",
    "        break\n",
    "    print(contador)"
   ]
  },
  {
   "cell_type": "markdown",
   "id": "55a478b1",
   "metadata": {},
   "source": [
    "En este ejemplo, el loop seguirá iterando una y otra vez mientras que *contador* sea menor a **10**, y en cada iteración imprimirá el valor de *contador*.\n",
    "\n",
    "Pero hay dos incidencias preparadas:\n",
    "* Cuando *contador* sea igual a **5**, se ejecutará la declaración **continue**, lo que provocará que se interrumpa la iteración actual y pase a la siguiente, sin llegar a imprimir el número **5**.\n",
    "* Cuando *contador* sea igual a **8**, se ejecutará la declaración **break**, haciendo que el loop se detenga completamente, por lo que no se imprimirán los números que van desde **8** en adelante, a pesar de que el loop estaba preparado para seguir ciclando hasta que *contador* tenga un valor de **10**."
   ]
  }
 ],
 "metadata": {
  "kernelspec": {
   "display_name": "Python 3 (ipykernel)",
   "language": "python",
   "name": "python3"
  },
  "language_info": {
   "codemirror_mode": {
    "name": "ipython",
    "version": 3
   },
   "file_extension": ".py",
   "mimetype": "text/x-python",
   "name": "python",
   "nbconvert_exporter": "python",
   "pygments_lexer": "ipython3",
   "version": "3.11.5"
  }
 },
 "nbformat": 4,
 "nbformat_minor": 5
}
