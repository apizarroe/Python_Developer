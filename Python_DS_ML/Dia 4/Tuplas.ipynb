{
 "cells": [
  {
   "attachments": {},
   "cell_type": "markdown",
   "id": "dcaaffc2",
   "metadata": {},
   "source": [
    "# Tuplas\n",
    "\n",
    "Las tuplas (o tuples, o tapls... no hay consenso sobre cómo pronunciar esto), también son una estructura de datos, es decir que son una **colección de objetos**, al igual que las listas.\n",
    "\n",
    "En pocas palabras una tupla es una **colección de elementos ordenados y no modificables**.\n",
    "\n",
    "Se parece a una lista, pero la diferencia principal es que la tupla, una vez creada, **no puede cambiar sus elementos ni su tamaño**.\n",
    "\n",
    "Entonces:\n",
    "    * las **listas** son colecciones **mutables**\n",
    "    * las **tuplas** son coleciones **inmutables**.\n",
    "\n",
    "Se pueden declarar de dos maneras diferentes"
   ]
  },
  {
   "cell_type": "code",
   "execution_count": 1,
   "id": "af323966",
   "metadata": {},
   "outputs": [
    {
     "data": {
      "text/plain": [
       "tuple"
      ]
     },
     "execution_count": 1,
     "metadata": {},
     "output_type": "execute_result"
    }
   ],
   "source": [
    "t = 1, 2\n",
    "type(t)"
   ]
  },
  {
   "cell_type": "code",
   "execution_count": 2,
   "id": "70b58302",
   "metadata": {},
   "outputs": [
    {
     "data": {
      "text/plain": [
       "tuple"
      ]
     },
     "execution_count": 2,
     "metadata": {},
     "output_type": "execute_result"
    }
   ],
   "source": [
    "tt = (1, 2)\n",
    "type(tt)"
   ]
  },
  {
   "attachments": {},
   "cell_type": "markdown",
   "id": "5136b185",
   "metadata": {},
   "source": [
    "En las tuplas sí tiene sentido agrupar elementos de diferentes tipos, ya que su principal uso suele ser el de agrupar información diversa sobre un mismo objeto."
   ]
  },
  {
   "cell_type": "code",
   "execution_count": 3,
   "id": "5308632c",
   "metadata": {},
   "outputs": [
    {
     "data": {
      "text/plain": [
       "tuple"
      ]
     },
     "execution_count": 3,
     "metadata": {},
     "output_type": "execute_result"
    }
   ],
   "source": [
    "tm = (\"fede\", \"garay\", 48)\n",
    "type(tm)"
   ]
  },
  {
   "attachments": {},
   "cell_type": "markdown",
   "id": "64a6a59f",
   "metadata": {},
   "source": [
    "Al igual que en las listas puedo acceder a sus objetos individuales con las reglas de indexación."
   ]
  },
  {
   "cell_type": "code",
   "execution_count": 4,
   "id": "f5e298a8",
   "metadata": {},
   "outputs": [
    {
     "data": {
      "text/plain": [
       "3"
      ]
     },
     "execution_count": 4,
     "metadata": {},
     "output_type": "execute_result"
    }
   ],
   "source": [
    "mi_tupla = (1, 2, 3, 2, 2, 4)\n",
    "elemento = mi_tupla[2]\n",
    "elemento"
   ]
  },
  {
   "cell_type": "markdown",
   "id": "77036f21",
   "metadata": {},
   "source": [
    "Y también puedo segmentarlas"
   ]
  },
  {
   "cell_type": "code",
   "execution_count": 5,
   "id": "1403bbda",
   "metadata": {},
   "outputs": [
    {
     "data": {
      "text/plain": [
       "(2, 3)"
      ]
     },
     "execution_count": 5,
     "metadata": {},
     "output_type": "execute_result"
    }
   ],
   "source": [
    "sub_tupla = mi_tupla[1:3]\n",
    "sub_tupla"
   ]
  },
  {
   "cell_type": "markdown",
   "id": "32e7c516",
   "metadata": {},
   "source": [
    "Como dijimos al comienzo, las tuplas no pueden modificarse (son inmutables), por lo tanto, si intento reasignarle un nuevo valor a alguno de sus componentes, voy a obtener un error de tipo (TypeError)"
   ]
  },
  {
   "cell_type": "code",
   "execution_count": 6,
   "id": "7d2c8479",
   "metadata": {},
   "outputs": [
    {
     "ename": "TypeError",
     "evalue": "'tuple' object does not support item assignment",
     "output_type": "error",
     "traceback": [
      "\u001b[1;31m---------------------------------------------------------------------------\u001b[0m",
      "\u001b[1;31mTypeError\u001b[0m                                 Traceback (most recent call last)",
      "Cell \u001b[1;32mIn[6], line 1\u001b[0m\n\u001b[1;32m----> 1\u001b[0m mi_tupla[\u001b[38;5;241m1\u001b[39m] \u001b[38;5;241m=\u001b[39m \u001b[38;5;241m8\u001b[39m\n",
      "\u001b[1;31mTypeError\u001b[0m: 'tuple' object does not support item assignment"
     ]
    }
   ],
   "source": [
    "mi_tupla[1] = 8"
   ]
  },
  {
   "attachments": {},
   "cell_type": "markdown",
   "id": "f1a158b1",
   "metadata": {},
   "source": [
    "¿Qué cosas sí puedo hacer con las tuplas? Bueno, todo lo que nos permitan hacer sus métodos."
   ]
  },
  {
   "cell_type": "code",
   "execution_count": 7,
   "id": "d2f9a8e0",
   "metadata": {},
   "outputs": [
    {
     "data": {
      "text/plain": [
       "['__add__',\n",
       " '__class__',\n",
       " '__class_getitem__',\n",
       " '__contains__',\n",
       " '__delattr__',\n",
       " '__dir__',\n",
       " '__doc__',\n",
       " '__eq__',\n",
       " '__format__',\n",
       " '__ge__',\n",
       " '__getattribute__',\n",
       " '__getitem__',\n",
       " '__getnewargs__',\n",
       " '__getstate__',\n",
       " '__gt__',\n",
       " '__hash__',\n",
       " '__init__',\n",
       " '__init_subclass__',\n",
       " '__iter__',\n",
       " '__le__',\n",
       " '__len__',\n",
       " '__lt__',\n",
       " '__mul__',\n",
       " '__ne__',\n",
       " '__new__',\n",
       " '__reduce__',\n",
       " '__reduce_ex__',\n",
       " '__repr__',\n",
       " '__rmul__',\n",
       " '__setattr__',\n",
       " '__sizeof__',\n",
       " '__str__',\n",
       " '__subclasshook__',\n",
       " 'count',\n",
       " 'index']"
      ]
     },
     "execution_count": 7,
     "metadata": {},
     "output_type": "execute_result"
    }
   ],
   "source": [
    "dir(mi_tupla)"
   ]
  },
  {
   "cell_type": "code",
   "execution_count": 8,
   "id": "3c9c6579",
   "metadata": {},
   "outputs": [
    {
     "data": {
      "text/plain": [
       "3"
      ]
     },
     "execution_count": 8,
     "metadata": {},
     "output_type": "execute_result"
    }
   ],
   "source": [
    "mi_tupla.count(2)"
   ]
  },
  {
   "cell_type": "code",
   "execution_count": 9,
   "id": "b71ba291",
   "metadata": {},
   "outputs": [
    {
     "data": {
      "text/plain": [
       "2"
      ]
     },
     "execution_count": 9,
     "metadata": {},
     "output_type": "execute_result"
    }
   ],
   "source": [
    "mi_tupla.index(3)"
   ]
  },
  {
   "cell_type": "markdown",
   "id": "2929346c",
   "metadata": {},
   "source": [
    "También puedo hacer desempaquetado de tuplas, para almacenar sus elementos en variables independientes."
   ]
  },
  {
   "cell_type": "code",
   "execution_count": 10,
   "id": "7c3f535f",
   "metadata": {},
   "outputs": [
    {
     "data": {
      "text/plain": [
       "3"
      ]
     },
     "execution_count": 10,
     "metadata": {},
     "output_type": "execute_result"
    }
   ],
   "source": [
    "tupla = (1, 2, 3)\n",
    "a, b, c = tupla\n",
    "c"
   ]
  },
  {
   "cell_type": "markdown",
   "id": "73083b43",
   "metadata": {},
   "source": [
    "Esto no te lo expliqué antes, pero también puedes hacerlo con las listas"
   ]
  },
  {
   "cell_type": "code",
   "execution_count": 11,
   "id": "768b6e44",
   "metadata": {},
   "outputs": [
    {
     "data": {
      "text/plain": [
       "3"
      ]
     },
     "execution_count": 11,
     "metadata": {},
     "output_type": "execute_result"
    }
   ],
   "source": [
    "miLista = [1, 2, 3]\n",
    "a, b, c = miLista\n",
    "c"
   ]
  },
  {
   "attachments": {},
   "cell_type": "markdown",
   "id": "f0f853a1",
   "metadata": {},
   "source": [
    "En este punto podrías estar pensando que si la única diferencia entre listas y tuplas es que las tuplas no pueden modificarse, entonces ¿para qué queremos las tuplas si son iguales a las listas pero más limitadas?\n",
    "\n",
    "Bueno, justamente esa limitación es lo que las hace ser muy útiles para ciertas circunstancias. Puntualmente para aquellas situaciones en las que quieres almacenar información de un **modo seguro y que no se modifique nunca**.\n",
    "\n",
    "Un ejemplo sencillo y cotidiano del uso de tuplas en Python podría ser representar una fecha en un formato de año, mes y día. Por ejemplo, si quieres almacenar la fecha de nacimiento de los usuarios de un servicio, podrías hacerlo en una tupla:"
   ]
  },
  {
   "cell_type": "code",
   "execution_count": 12,
   "id": "c757674c",
   "metadata": {},
   "outputs": [
    {
     "data": {
      "text/plain": [
       "(1985, 12, 10)"
      ]
     },
     "execution_count": 12,
     "metadata": {},
     "output_type": "execute_result"
    }
   ],
   "source": [
    "nacimiento = (1985, 12, 10)\n",
    "nacimiento"
   ]
  },
  {
   "attachments": {},
   "cell_type": "markdown",
   "id": "cfadc8e0",
   "metadata": {},
   "source": [
    "La tupla es perfecta para esto porque una vez que defines una fecha de cumpleaños, ya no necesitas cambiarla. La inmutabilidad de las tuplas asegura que los datos de la fecha permanezcan constantes.\n",
    "\n",
    "Al mismo tiempo, las tuplas pueden almacenar tuplas"
   ]
  },
  {
   "cell_type": "code",
   "execution_count": 13,
   "id": "4c80255f",
   "metadata": {},
   "outputs": [
    {
     "data": {
      "text/plain": [
       "(('Juan', 'Pérez'), (1985, 12, 10))"
      ]
     },
     "execution_count": 13,
     "metadata": {},
     "output_type": "execute_result"
    }
   ],
   "source": [
    "nombre = (\"Juan\", \"Pérez\")\n",
    "cliente1 = (nombre, nacimiento)\n",
    "\n",
    "cliente1"
   ]
  },
  {
   "attachments": {},
   "cell_type": "markdown",
   "id": "511a0c77",
   "metadata": {},
   "source": [
    "Y si quiero acceder al apellido de mi cliente1"
   ]
  },
  {
   "cell_type": "code",
   "execution_count": 14,
   "id": "fd962a83",
   "metadata": {},
   "outputs": [
    {
     "data": {
      "text/plain": [
       "'Pérez'"
      ]
     },
     "execution_count": 14,
     "metadata": {},
     "output_type": "execute_result"
    }
   ],
   "source": [
    "cliente1[0][1]"
   ]
  },
  {
   "attachments": {},
   "cell_type": "markdown",
   "id": "7efa34d4",
   "metadata": {},
   "source": [
    "Una ventaja de las tuplas es que son computacionalmente **más rápidas que las listas**, porque las tuplas se almacenan en un solo bloque de memoria, por lo que crear una nueva tupla implica, en el peor de los casos, una única llamada para asignar memoria. Y al ser inmutables significa que el intérprete de python puede usar una estructura de datos más ligera y rápida, en comparación con las listas.\n",
    "\n",
    "Quiero mostrarte una cosa más, y es que Python tiene una característica de asignación de tuplas muy poderosa que permite una tupla de variables."
   ]
  },
  {
   "cell_type": "code",
   "execution_count": 15,
   "id": "bc045e93",
   "metadata": {},
   "outputs": [
    {
     "data": {
      "text/plain": [
       "('Ford', 'fiesta', 'Rojo', 2021, 5, 1.6)"
      ]
     },
     "execution_count": 15,
     "metadata": {},
     "output_type": "execute_result"
    }
   ],
   "source": [
    "auto = (\"Ford\", \"fiesta\", \"Rojo\", 2021, 5, 1.6)\n",
    "auto"
   ]
  },
  {
   "cell_type": "code",
   "execution_count": 16,
   "id": "db2017ee",
   "metadata": {},
   "outputs": [
    {
     "data": {
      "text/plain": [
       "('Ford', 'fiesta', 'Rojo', 2021, 5, 1.6)"
      ]
     },
     "execution_count": 16,
     "metadata": {},
     "output_type": "execute_result"
    }
   ],
   "source": [
    "(Marca, Tipo, Color, Modelo, Puertas, Motor) = auto\n",
    "auto"
   ]
  },
  {
   "cell_type": "code",
   "execution_count": 17,
   "id": "90784ae2",
   "metadata": {},
   "outputs": [
    {
     "data": {
      "text/plain": [
       "('fiesta', 5)"
      ]
     },
     "execution_count": 17,
     "metadata": {},
     "output_type": "execute_result"
    }
   ],
   "source": [
    "Tipo, Puertas"
   ]
  },
  {
   "attachments": {},
   "cell_type": "markdown",
   "id": "ed7a7fbf",
   "metadata": {},
   "source": [
    "Obviamente, para que esto no de error, tiene que haber siempre la misma cantidad de variables que de elementos en el taple."
   ]
  }
 ],
 "metadata": {
  "kernelspec": {
   "display_name": "Python 3 (ipykernel)",
   "language": "python",
   "name": "python3"
  },
  "language_info": {
   "codemirror_mode": {
    "name": "ipython",
    "version": 3
   },
   "file_extension": ".py",
   "mimetype": "text/x-python",
   "name": "python",
   "nbconvert_exporter": "python",
   "pygments_lexer": "ipython3",
   "version": "3.11.5"
  }
 },
 "nbformat": 4,
 "nbformat_minor": 5
}
