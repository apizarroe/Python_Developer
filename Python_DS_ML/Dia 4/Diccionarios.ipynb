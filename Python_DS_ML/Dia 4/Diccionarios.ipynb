{
 "cells": [
  {
   "cell_type": "markdown",
   "id": "e2f8406f",
   "metadata": {},
   "source": [
    "# Diccionarios\n",
    "\n",
    "Los diccionarios son otros tipo de datos en Python, y también, al igual que las listas y las tuplas, son un tipo de datos que se caracteriza por ser una **colección de elementos**. Es decir que los diccionarios también son una secuencia de elementos. Ya veremos en qué se diferencia de las listas y las tuplas.\n",
    "\n",
    "Para declarar un diccionario usamos llaves curvas (o corchetes). Este es un diccionario vacío:"
   ]
  },
  {
   "cell_type": "code",
   "execution_count": 1,
   "id": "6e6c01e9",
   "metadata": {},
   "outputs": [
    {
     "data": {
      "text/plain": [
       "dict"
      ]
     },
     "execution_count": 1,
     "metadata": {},
     "output_type": "execute_result"
    }
   ],
   "source": [
    "dic = {}\n",
    "type(dic)"
   ]
  },
  {
   "cell_type": "markdown",
   "id": "b378caaf",
   "metadata": {},
   "source": [
    "Los diccionarios en python, al igual que los diccionarios en la vida real, tienen una serie de elementos que se componen, cada uno, de una **clave** y un **valor**.\n",
    "\n",
    "Así como los diccionarios de la vida real tienen elementos que se componen de una palabra y su definición, los elementos de los diccionarios de python tienen una clave, y un valor."
   ]
  },
  {
   "cell_type": "code",
   "execution_count": 2,
   "id": "79a10187",
   "metadata": {},
   "outputs": [
    {
     "data": {
      "text/plain": [
       "{'Juan': 25, 'María': 32}"
      ]
     },
     "execution_count": 2,
     "metadata": {},
     "output_type": "execute_result"
    }
   ],
   "source": [
    "edades = {\"Juan\": 25, \"María\": 32}\n",
    "edades"
   ]
  },
  {
   "cell_type": "markdown",
   "id": "2915b48c",
   "metadata": {},
   "source": [
    "Un tema importante sobre los diccionarios, es que las claves tienen que ser únicas. **No puedes repetir el nombre de las claves**, para que de ese modo luego sea posible buscar los elementos de los diccionarios a partir de sus claves.\n",
    "\n",
    "Este límite no aplica para los valores, ya que **los valores pueden repetirse** tantas veces como necesites.\n",
    "\n",
    "Al igual que a otras colecciones puedo aplicarle el método **len()** para conocer su tamaño."
   ]
  },
  {
   "cell_type": "code",
   "execution_count": 3,
   "id": "10e9f399",
   "metadata": {
    "scrolled": true
   },
   "outputs": [
    {
     "data": {
      "text/plain": [
       "2"
      ]
     },
     "execution_count": 3,
     "metadata": {},
     "output_type": "execute_result"
    }
   ],
   "source": [
    "len(edades)"
   ]
  },
  {
   "cell_type": "markdown",
   "id": "8207ddaa",
   "metadata": {},
   "source": [
    "Una cosa que podríamos sentirnos tentados de hacer, es indexarlos usando la sitaxis...\n",
    "\n",
    "```\n",
    "edades[0]\n",
    "\n",
    "```\n",
    "\n",
    "Pero este abordaje te devolvería un error, ya que **no podemos invocar al índice de los diccionarios**, simplemente porque los diccionarios **no son secuencias ordenadas de elementos**. Esto significa que sus elementos internos no tienen ningún orden específico. La idea de los diccionarios es que sus elementos sean hallados por su clave, y no de otra manera.\n",
    "\n",
    "Si yo quiero obtener la edad de Juan, en vez de llamar a edades[0] lo hago a través de su clave"
   ]
  },
  {
   "cell_type": "code",
   "execution_count": 4,
   "id": "2e47748f",
   "metadata": {},
   "outputs": [
    {
     "data": {
      "text/plain": [
       "25"
      ]
     },
     "execution_count": 4,
     "metadata": {},
     "output_type": "execute_result"
    }
   ],
   "source": [
    "edades[\"Juan\"]"
   ]
  },
  {
   "cell_type": "markdown",
   "id": "7170573b",
   "metadata": {},
   "source": [
    "Si quiero reasignar a Juan una nueva edad (es decir, un nuevo valor)"
   ]
  },
  {
   "cell_type": "code",
   "execution_count": 5,
   "id": "8806f97e",
   "metadata": {},
   "outputs": [
    {
     "data": {
      "text/plain": [
       "{'Juan': 26, 'María': 32}"
      ]
     },
     "execution_count": 5,
     "metadata": {},
     "output_type": "execute_result"
    }
   ],
   "source": [
    "edades[\"Juan\"] = 26\n",
    "edades"
   ]
  },
  {
   "cell_type": "markdown",
   "id": "f0f8a6c0",
   "metadata": {},
   "source": [
    "También puedo agregar nuevos elementos a mis diccionarios"
   ]
  },
  {
   "cell_type": "code",
   "execution_count": 6,
   "id": "7006795e",
   "metadata": {},
   "outputs": [
    {
     "data": {
      "text/plain": [
       "{'Juan': 26, 'María': 32, 'Laura': 28}"
      ]
     },
     "execution_count": 6,
     "metadata": {},
     "output_type": "execute_result"
    }
   ],
   "source": [
    "edades[\"Laura\"] = 28\n",
    "edades"
   ]
  },
  {
   "cell_type": "markdown",
   "id": "9f4dd320",
   "metadata": {},
   "source": [
    "Veamos qué métodos disponemos para hacer cosas con los diccionarios!"
   ]
  },
  {
   "cell_type": "code",
   "execution_count": 7,
   "id": "4b3b6f9b",
   "metadata": {},
   "outputs": [
    {
     "data": {
      "text/plain": [
       "['__class__',\n",
       " '__class_getitem__',\n",
       " '__contains__',\n",
       " '__delattr__',\n",
       " '__delitem__',\n",
       " '__dir__',\n",
       " '__doc__',\n",
       " '__eq__',\n",
       " '__format__',\n",
       " '__ge__',\n",
       " '__getattribute__',\n",
       " '__getitem__',\n",
       " '__getstate__',\n",
       " '__gt__',\n",
       " '__hash__',\n",
       " '__init__',\n",
       " '__init_subclass__',\n",
       " '__ior__',\n",
       " '__iter__',\n",
       " '__le__',\n",
       " '__len__',\n",
       " '__lt__',\n",
       " '__ne__',\n",
       " '__new__',\n",
       " '__or__',\n",
       " '__reduce__',\n",
       " '__reduce_ex__',\n",
       " '__repr__',\n",
       " '__reversed__',\n",
       " '__ror__',\n",
       " '__setattr__',\n",
       " '__setitem__',\n",
       " '__sizeof__',\n",
       " '__str__',\n",
       " '__subclasshook__',\n",
       " 'clear',\n",
       " 'copy',\n",
       " 'fromkeys',\n",
       " 'get',\n",
       " 'items',\n",
       " 'keys',\n",
       " 'pop',\n",
       " 'popitem',\n",
       " 'setdefault',\n",
       " 'update',\n",
       " 'values']"
      ]
     },
     "execution_count": 7,
     "metadata": {},
     "output_type": "execute_result"
    }
   ],
   "source": [
    "dir(edades)"
   ]
  },
  {
   "cell_type": "markdown",
   "id": "81757f5d",
   "metadata": {},
   "source": [
    "Puedes jugar con esa lista de métodos consultando la ayuda para cada uno. Estos son los más comunes:\n",
    "\n",
    "Consultar todas las claves de tu diccionario:"
   ]
  },
  {
   "cell_type": "code",
   "execution_count": 8,
   "id": "61a7a378",
   "metadata": {},
   "outputs": [
    {
     "data": {
      "text/plain": [
       "dict_keys(['Juan', 'María', 'Laura'])"
      ]
     },
     "execution_count": 8,
     "metadata": {},
     "output_type": "execute_result"
    }
   ],
   "source": [
    "edades.keys()"
   ]
  },
  {
   "cell_type": "markdown",
   "id": "db5e853d",
   "metadata": {},
   "source": [
    "Consultar todos los valores:"
   ]
  },
  {
   "cell_type": "code",
   "execution_count": 9,
   "id": "387e2037",
   "metadata": {},
   "outputs": [
    {
     "data": {
      "text/plain": [
       "dict_values([26, 32, 28])"
      ]
     },
     "execution_count": 9,
     "metadata": {},
     "output_type": "execute_result"
    }
   ],
   "source": [
    "edades.values()"
   ]
  },
  {
   "cell_type": "markdown",
   "id": "b5f99f72",
   "metadata": {},
   "source": [
    "Consultar todos los items:"
   ]
  },
  {
   "cell_type": "code",
   "execution_count": 10,
   "id": "b7c48626",
   "metadata": {
    "scrolled": true
   },
   "outputs": [
    {
     "data": {
      "text/plain": [
       "dict_items([('Juan', 26), ('María', 32), ('Laura', 28)])"
      ]
     },
     "execution_count": 10,
     "metadata": {},
     "output_type": "execute_result"
    }
   ],
   "source": [
    "edades.items()"
   ]
  },
  {
   "cell_type": "markdown",
   "id": "affc7876",
   "metadata": {},
   "source": [
    "Usar un mpetodo para obtener el valor correspondiente a una clave:"
   ]
  },
  {
   "cell_type": "code",
   "execution_count": 11,
   "id": "fa4859e5",
   "metadata": {
    "scrolled": true
   },
   "outputs": [
    {
     "data": {
      "text/plain": [
       "26"
      ]
     },
     "execution_count": 11,
     "metadata": {},
     "output_type": "execute_result"
    }
   ],
   "source": [
    "edades.get(\"Juan\")"
   ]
  },
  {
   "cell_type": "markdown",
   "id": "1531ca42",
   "metadata": {},
   "source": [
    "Utilizar un método para reemplazar el valor de un item existente:"
   ]
  },
  {
   "cell_type": "code",
   "execution_count": 12,
   "id": "cacc0460",
   "metadata": {},
   "outputs": [
    {
     "data": {
      "text/plain": [
       "{'Juan': 27, 'María': 32, 'Laura': 28}"
      ]
     },
     "execution_count": 12,
     "metadata": {},
     "output_type": "execute_result"
    }
   ],
   "source": [
    "edades.update({\"Juan\":27})\n",
    "edades"
   ]
  }
 ],
 "metadata": {
  "kernelspec": {
   "display_name": "Python 3 (ipykernel)",
   "language": "python",
   "name": "python3"
  },
  "language_info": {
   "codemirror_mode": {
    "name": "ipython",
    "version": 3
   },
   "file_extension": ".py",
   "mimetype": "text/x-python",
   "name": "python",
   "nbconvert_exporter": "python",
   "pygments_lexer": "ipython3",
   "version": "3.11.5"
  }
 },
 "nbformat": 4,
 "nbformat_minor": 5
}
