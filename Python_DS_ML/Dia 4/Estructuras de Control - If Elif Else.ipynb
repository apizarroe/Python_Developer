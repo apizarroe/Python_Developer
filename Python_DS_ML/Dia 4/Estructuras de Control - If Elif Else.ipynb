{
 "cells": [
  {
   "attachments": {},
   "cell_type": "markdown",
   "id": "48904ff1",
   "metadata": {},
   "source": [
    "# Estructuras de Control - If Elif Else\n",
    "\n",
    "La declaración if permite que un determinado código se ejecute o no.\n",
    "\n",
    "Pero también existen otras 2 declaraciones que se complementan con if, para determinar no sólo si un bloque de código se ejecuta o no, sino también para determinar qué hacer en caso de que la condición no se cumpla.\n",
    "\n",
    "Veamos la estructura de control **else**, que en inglés significa *si no*, y que utilizamos a para decir, \"si no se cumple la condición, haz lo siguiente\"."
   ]
  },
  {
   "cell_type": "code",
   "execution_count": null,
   "id": "349e165b",
   "metadata": {},
   "outputs": [],
   "source": [
    "edad = int(input(\"Dime tu edad:\"))\n",
    "\n",
    "if edad >= 18:\n",
    "    print(\"Adulto\")\n",
    "else:\n",
    "    print(\"Menor\")"
   ]
  },
  {
   "attachments": {},
   "cell_type": "markdown",
   "id": "4f6dbbc8",
   "metadata": {},
   "source": [
    "Y el otro elemento que agregamos a este trío de estructuras de control, es la palabra **elif**, que es una abreviatura de la expresión **else if**, y que significa *si no se cumple la condición anterior, verifica si se cumple la siguiente condición*:"
   ]
  },
  {
   "cell_type": "code",
   "execution_count": null,
   "id": "b06061a0",
   "metadata": {},
   "outputs": [],
   "source": [
    "edad = int(input(\"Dime tu edad:\"))\n",
    "\n",
    "if edad >= 18:\n",
    "    print(\"Adulto\")\n",
    "elif edad >= 13:\n",
    "    print(\"Adolescente\")\n",
    "else:\n",
    "    print(\"Niño\")"
   ]
  },
  {
   "attachments": {},
   "cell_type": "markdown",
   "id": "e85097b2",
   "metadata": {},
   "source": [
    "Tus estructuras de control pueden seguir complejizándose, ya que puedes seguir agregando tantos **elifs** como quieras.\n",
    "\n",
    "### Desafío\n",
    "Crea un código que le pida 3 números distintos al usuario (vamos a asumir que el usuario no ingresa números repetidos, para no hacerlo tan complicado).\n",
    "Luego aplica las estructuras de control para identificar cuál es el mayor de los 3.\n",
    "\n",
    "Te dejo la siguiente celda vacía para que hagas el intento"
   ]
  },
  {
   "cell_type": "code",
   "execution_count": null,
   "id": "a276c70c",
   "metadata": {},
   "outputs": [],
   "source": []
  },
  {
   "cell_type": "markdown",
   "id": "b0c1872a",
   "metadata": {},
   "source": [
    "Si lo has logrado, felicitaciones. Si no has podido, no te preocupes, es lo más normal a esta altura.\n",
    "\n",
    "A continuación te dejo una posible forma de resolverlo, que espero te ayude a pensar la lógica de las estructuras de control"
   ]
  },
  {
   "cell_type": "code",
   "execution_count": null,
   "id": "aa4a5a43",
   "metadata": {},
   "outputs": [],
   "source": [
    "x1, x2, x3 = int(input(\"Ingresa x1:\")), int(input(\"Ingresa x2:\")), int(input(\"Ingresa x3\"))\n",
    "\n",
    "if x1 > x2:\n",
    "    if x1 > x3:\n",
    "        maximo = x1\n",
    "    else:\n",
    "        maximo = x3\n",
    "elif x2 > x3:\n",
    "    maximo = x2\n",
    "else:\n",
    "    maximo = x3\n",
    "\n",
    "print(maximo)"
   ]
  }
 ],
 "metadata": {
  "kernelspec": {
   "display_name": "Python 3 (ipykernel)",
   "language": "python",
   "name": "python3"
  },
  "language_info": {
   "codemirror_mode": {
    "name": "ipython",
    "version": 3
   },
   "file_extension": ".py",
   "mimetype": "text/x-python",
   "name": "python",
   "nbconvert_exporter": "python",
   "pygments_lexer": "ipython3",
   "version": "3.11.5"
  }
 },
 "nbformat": 4,
 "nbformat_minor": 5
}
