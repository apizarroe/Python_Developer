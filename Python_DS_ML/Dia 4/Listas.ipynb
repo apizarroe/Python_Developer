{
 "cells": [
  {
   "attachments": {},
   "cell_type": "markdown",
   "id": "3b10672c",
   "metadata": {},
   "source": [
    "# Listas\n",
    "\n",
    "Las listas son otro tipo de datos propio de python.\n",
    "Lo primero que hay que saber sobre las listas es que una lista es una **colección de objetos**.\n",
    "Vamos a crear una lista vacía."
   ]
  },
  {
   "cell_type": "code",
   "execution_count": 1,
   "id": "2f63eb90",
   "metadata": {},
   "outputs": [],
   "source": [
    "frutas = []"
   ]
  },
  {
   "cell_type": "code",
   "execution_count": 2,
   "id": "5f6c3cd1",
   "metadata": {},
   "outputs": [
    {
     "data": {
      "text/plain": [
       "list"
      ]
     },
     "execution_count": 2,
     "metadata": {},
     "output_type": "execute_result"
    }
   ],
   "source": [
    "type(frutas)"
   ]
  },
  {
   "cell_type": "markdown",
   "id": "d9940928",
   "metadata": {},
   "source": [
    "Ahora reescribamos nuestra lista, para asignarle tres elementos de tipo string"
   ]
  },
  {
   "cell_type": "code",
   "execution_count": 3,
   "id": "602e98c5",
   "metadata": {},
   "outputs": [],
   "source": [
    "frutas = [\"banana\", \"manzana\", \"pera\"]"
   ]
  },
  {
   "cell_type": "code",
   "execution_count": 4,
   "id": "d23025a4",
   "metadata": {},
   "outputs": [
    {
     "data": {
      "text/plain": [
       "list"
      ]
     },
     "execution_count": 4,
     "metadata": {},
     "output_type": "execute_result"
    }
   ],
   "source": [
    "type(frutas)"
   ]
  },
  {
   "cell_type": "markdown",
   "id": "d7cbc507",
   "metadata": {},
   "source": [
    "También podemos crear listas que contengan números."
   ]
  },
  {
   "cell_type": "code",
   "execution_count": 5,
   "id": "646bee53",
   "metadata": {},
   "outputs": [
    {
     "data": {
      "text/plain": [
       "list"
      ]
     },
     "execution_count": 5,
     "metadata": {},
     "output_type": "execute_result"
    }
   ],
   "source": [
    "numeros = [10, 30, 85]\n",
    "type(numeros)"
   ]
  },
  {
   "cell_type": "markdown",
   "id": "f4c11def",
   "metadata": {},
   "source": [
    "Las listas pueden contener todo tipo de datos, incluso puedes crear listas que contengan... listas"
   ]
  },
  {
   "cell_type": "code",
   "execution_count": 6,
   "id": "f7bb57aa",
   "metadata": {},
   "outputs": [
    {
     "data": {
      "text/plain": [
       "list"
      ]
     },
     "execution_count": 6,
     "metadata": {},
     "output_type": "execute_result"
    }
   ],
   "source": [
    "misListas = [[10, 20, 30], [\"a\", \"b\", \"c\"], [\"Pablo\", \"Micaela\", \"Milena\"]]\n",
    "type(misListas)"
   ]
  },
  {
   "cell_type": "markdown",
   "id": "1d444d66",
   "metadata": {},
   "source": [
    "Adicionalmente, python te va a permitir crear listas mixtas"
   ]
  },
  {
   "cell_type": "code",
   "execution_count": 7,
   "id": "c4706257",
   "metadata": {},
   "outputs": [],
   "source": [
    "a = [\"Madrid\", 2, 6.3]"
   ]
  },
  {
   "cell_type": "code",
   "execution_count": 8,
   "id": "626909f7",
   "metadata": {
    "scrolled": true
   },
   "outputs": [
    {
     "data": {
      "text/plain": [
       "list"
      ]
     },
     "execution_count": 8,
     "metadata": {},
     "output_type": "execute_result"
    }
   ],
   "source": [
    "type(a)"
   ]
  },
  {
   "attachments": {},
   "cell_type": "markdown",
   "id": "4e958f98",
   "metadata": {},
   "source": [
    "Sin embargo, esta es una muy mala práctica que en casi ningún caso va a tener utilidad precisa, y que siempre es conveniente evitar. A medida que avancemos descubrirás por qué.\n",
    "\n",
    "Avancemos. Veamos cómo acceder a los elementos de una lista. Lo hacemos de la misma manera que accedemos a los índices de un string"
   ]
  },
  {
   "cell_type": "code",
   "execution_count": 9,
   "id": "7e42b00b",
   "metadata": {},
   "outputs": [
    {
     "data": {
      "text/plain": [
       "'banana'"
      ]
     },
     "execution_count": 9,
     "metadata": {},
     "output_type": "execute_result"
    }
   ],
   "source": [
    "frutas[0]"
   ]
  },
  {
   "cell_type": "markdown",
   "id": "cc88b960",
   "metadata": {},
   "source": [
    "¿Y en el caso de una lista de listas? ¿Como accedo a un elemento que se encuentra dentro de una lista que a su vez se encuentra dentro de otra lista?\n",
    "\n",
    "Primero creas un juego de llaves con el índice de la lista que contiene tu elemento buscado, e inmediatamente agregas otro juego de llaves con el índice del elemento buscado dentro de la lista que lo contiene directamente.\n",
    "\n",
    "Si dentro de **misListas** quieres buscar a \"Micaela\", que se encuentra en la lista de índice **2**, y dentro de ella, en el índice **1**, deberías escribirlo así..."
   ]
  },
  {
   "cell_type": "code",
   "execution_count": 10,
   "id": "4ddbb81a",
   "metadata": {
    "scrolled": true
   },
   "outputs": [
    {
     "data": {
      "text/plain": [
       "'Micaela'"
      ]
     },
     "execution_count": 10,
     "metadata": {},
     "output_type": "execute_result"
    }
   ],
   "source": [
    "misListas[2][1]"
   ]
  },
  {
   "cell_type": "markdown",
   "id": "0e519166",
   "metadata": {},
   "source": [
    "Para modicificar un elemento individual dentro de una lista, primero accedes a él con el índice, y le reasignas un contenido con el operador **=**, seguido del nuevo valor."
   ]
  },
  {
   "cell_type": "code",
   "execution_count": 11,
   "id": "86c1977c",
   "metadata": {},
   "outputs": [
    {
     "data": {
      "text/plain": [
       "['sandía', 'manzana', 'pera']"
      ]
     },
     "execution_count": 11,
     "metadata": {},
     "output_type": "execute_result"
    }
   ],
   "source": [
    "frutas[0] = \"sandía\"\n",
    "frutas"
   ]
  },
  {
   "cell_type": "markdown",
   "id": "9dd83b73",
   "metadata": {},
   "source": [
    "El método **append()** permite agregar un nuevo elemento al final de la lista."
   ]
  },
  {
   "cell_type": "code",
   "execution_count": 12,
   "id": "888ea53c",
   "metadata": {},
   "outputs": [
    {
     "data": {
      "text/plain": [
       "['sandía', 'manzana', 'pera', 'mango']"
      ]
     },
     "execution_count": 12,
     "metadata": {},
     "output_type": "execute_result"
    }
   ],
   "source": [
    "frutas.append(\"mango\")\n",
    "frutas"
   ]
  },
  {
   "cell_type": "markdown",
   "id": "f74e6078",
   "metadata": {},
   "source": [
    "El método **sort()** sirve para ordenar alfabéticamente (o en órden numérico ascendente) los elementos de tu lista."
   ]
  },
  {
   "cell_type": "code",
   "execution_count": 13,
   "id": "831db106",
   "metadata": {},
   "outputs": [
    {
     "data": {
      "text/plain": [
       "['mango', 'manzana', 'pera', 'sandía']"
      ]
     },
     "execution_count": 13,
     "metadata": {},
     "output_type": "execute_result"
    }
   ],
   "source": [
    "frutas.sort()\n",
    "frutas"
   ]
  },
  {
   "cell_type": "markdown",
   "id": "9c26c52e",
   "metadata": {},
   "source": [
    "Y si quieres que el orden alfabético (o numérico) sea descendente, puedes agregar el parámetro **reverse=True** dentro del paréntesis de **sort()**."
   ]
  },
  {
   "cell_type": "code",
   "execution_count": 14,
   "id": "0dfa9f2f",
   "metadata": {},
   "outputs": [
    {
     "data": {
      "text/plain": [
       "['sandía', 'pera', 'manzana', 'mango']"
      ]
     },
     "execution_count": 14,
     "metadata": {},
     "output_type": "execute_result"
    }
   ],
   "source": [
    "frutas.sort(reverse=True)\n",
    "frutas"
   ]
  },
  {
   "cell_type": "markdown",
   "id": "08db3fbb",
   "metadata": {},
   "source": [
    "El método **remove()** permite eliminar un objeto de la lista, en cuanto le pasemos como parámetro el nombre correcto del elemento."
   ]
  },
  {
   "cell_type": "code",
   "execution_count": 15,
   "id": "e9cc9ca7",
   "metadata": {},
   "outputs": [
    {
     "data": {
      "text/plain": [
       "['sandía', 'pera', 'mango']"
      ]
     },
     "execution_count": 15,
     "metadata": {},
     "output_type": "execute_result"
    }
   ],
   "source": [
    "frutas.remove(\"manzana\")\n",
    "frutas"
   ]
  },
  {
   "cell_type": "markdown",
   "id": "fbf39054",
   "metadata": {},
   "source": [
    "El método **reverse()** permite invertir el orden actual de la lista."
   ]
  },
  {
   "cell_type": "code",
   "execution_count": 16,
   "id": "771cde1c",
   "metadata": {},
   "outputs": [
    {
     "data": {
      "text/plain": [
       "['mango', 'pera', 'sandía']"
      ]
     },
     "execution_count": 16,
     "metadata": {},
     "output_type": "execute_result"
    }
   ],
   "source": [
    "frutas.reverse()\n",
    "frutas"
   ]
  },
  {
   "cell_type": "markdown",
   "id": "a8482936",
   "metadata": {},
   "source": [
    "El método **len()** permite conocer el largo de la lista (es decir: cuántos elementos contiene)."
   ]
  },
  {
   "cell_type": "code",
   "execution_count": 17,
   "id": "14eda8ee",
   "metadata": {},
   "outputs": [
    {
     "data": {
      "text/plain": [
       "3"
      ]
     },
     "execution_count": 17,
     "metadata": {},
     "output_type": "execute_result"
    }
   ],
   "source": [
    "len(frutas)"
   ]
  },
  {
   "cell_type": "markdown",
   "id": "299c4f88",
   "metadata": {},
   "source": [
    "Este es uno de los tantos mpetodos que no son exclusivos de las listas, sino que es aplicable a todos los objetos que contienen secuencias de elementos. Podemos aplicarlo, por ejemplo, con un string."
   ]
  },
  {
   "cell_type": "code",
   "execution_count": 18,
   "id": "e3629ef1",
   "metadata": {},
   "outputs": [
    {
     "data": {
      "text/plain": [
       "8"
      ]
     },
     "execution_count": 18,
     "metadata": {},
     "output_type": "execute_result"
    }
   ],
   "source": [
    "len(\"federico\")"
   ]
  },
  {
   "cell_type": "markdown",
   "id": "4dbb123e",
   "metadata": {},
   "source": [
    "Tambien podemos concatenar listas, usando el operador **+**."
   ]
  },
  {
   "cell_type": "code",
   "execution_count": 19,
   "id": "f7f16fff",
   "metadata": {},
   "outputs": [
    {
     "data": {
      "text/plain": [
       "[1, 2, 3, 4, 5, 6]"
      ]
     },
     "execution_count": 19,
     "metadata": {},
     "output_type": "execute_result"
    }
   ],
   "source": [
    "lista1 = [1, 2, 3]\n",
    "lista2 = [4, 5, 6]\n",
    "combinada = lista1 + lista2\n",
    "combinada"
   ]
  },
  {
   "cell_type": "code",
   "execution_count": 20,
   "id": "7beab2d6",
   "metadata": {},
   "outputs": [
    {
     "data": {
      "text/plain": [
       "list"
      ]
     },
     "execution_count": 20,
     "metadata": {},
     "output_type": "execute_result"
    }
   ],
   "source": [
    "type(combinada)"
   ]
  },
  {
   "cell_type": "markdown",
   "id": "00db7a99",
   "metadata": {},
   "source": [
    "Podemos multiplicar el contenido de una lista, haciendo que se repita tantas veces como necesitemos, con el operador *."
   ]
  },
  {
   "cell_type": "code",
   "execution_count": 21,
   "id": "9b660755",
   "metadata": {},
   "outputs": [
    {
     "data": {
      "text/plain": [
       "[1, 2, 3, 1, 2, 3, 1, 2, 3]"
      ]
     },
     "execution_count": 21,
     "metadata": {},
     "output_type": "execute_result"
    }
   ],
   "source": [
    "repetida = lista1 * 3\n",
    "repetida"
   ]
  },
  {
   "cell_type": "markdown",
   "id": "b81bd11a",
   "metadata": {},
   "source": [
    "Y finalmente podemos crear una nueva lista a partir de un segmento de otra lista."
   ]
  },
  {
   "cell_type": "code",
   "execution_count": 22,
   "id": "b695eb02",
   "metadata": {},
   "outputs": [
    {
     "data": {
      "text/plain": [
       "[2, 3, 4]"
      ]
     },
     "execution_count": 22,
     "metadata": {},
     "output_type": "execute_result"
    }
   ],
   "source": [
    "sublista = combinada[1:4]\n",
    "sublista"
   ]
  }
 ],
 "metadata": {
  "kernelspec": {
   "display_name": "Python 3 (ipykernel)",
   "language": "python",
   "name": "python3"
  },
  "language_info": {
   "codemirror_mode": {
    "name": "ipython",
    "version": 3
   },
   "file_extension": ".py",
   "mimetype": "text/x-python",
   "name": "python",
   "nbconvert_exporter": "python",
   "pygments_lexer": "ipython3",
   "version": "3.11.5"
  }
 },
 "nbformat": 4,
 "nbformat_minor": 5
}
