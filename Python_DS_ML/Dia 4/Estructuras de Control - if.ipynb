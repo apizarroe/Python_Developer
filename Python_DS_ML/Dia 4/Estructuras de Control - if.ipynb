{
 "cells": [
  {
   "attachments": {},
   "cell_type": "markdown",
   "id": "8de8f5c4",
   "metadata": {},
   "source": [
    "# Estructiras de Control: if\n",
    "\n",
    "Lo que vamos a aprender en esta lección va a modificar en gran parte tu comprensión de cómo funciona un código, porque las estructuras de control, permiten establecer un mecanismo que va a permitir que tu código **tome decisiones**.\n",
    "\n",
    "Básicamente las estructuras de control verifican si se cumple una **condición** o no, y dependiendo del resultado de esa verificación, implementan la ejecución de un código o de otro.\n",
    "\n",
    "Comencemos por el elemento esencial de las estructuras de control que es la palabra ***if*** (que en inglés significa *si*, pero no el *sí* afirmativo, sino el *si* condicional).\n",
    "\n",
    "La sintaxis de **if** es la siguiente:\n",
    "\n",
    "```\n",
    "if [condición]:\n",
    "    [código a ejecutar]\n",
    "```\n",
    "\n",
    "Lo veamos con un ejemplo:"
   ]
  },
  {
   "cell_type": "code",
   "execution_count": 1,
   "id": "7239e91c",
   "metadata": {
    "scrolled": true
   },
   "outputs": [
    {
     "name": "stdout",
     "output_type": "stream",
     "text": [
      "Hace calor\n"
     ]
    }
   ],
   "source": [
    "temperatura = 22\n",
    "\n",
    "if temperatura > 20:\n",
    "    print(\"Hace calor\")"
   ]
  },
  {
   "cell_type": "markdown",
   "id": "a75d158f",
   "metadata": {},
   "source": [
    "En el ejemplo anterior, la condición se cumple (es verdadera), y por eso se ejecuta la línea condicional.\n",
    "\n",
    "En el siguiente ejemplo, la condición no se va a cumplir (no será verdadera) y por lo tanto no va a haber ninguna impresión en el output:"
   ]
  },
  {
   "cell_type": "code",
   "execution_count": 2,
   "id": "e15d6f41",
   "metadata": {},
   "outputs": [],
   "source": [
    "temperatura = 15\n",
    "\n",
    "if temperatura > 20:\n",
    "    print(\"Hace calor\")"
   ]
  },
  {
   "attachments": {},
   "cell_type": "markdown",
   "id": "d427dcc8",
   "metadata": {},
   "source": [
    "¿Lo hacemos aún más interesante? También podemos aprovechar las estructuras de control para que el programa se comporte de acuerdo a la información que ingrese el usuario:"
   ]
  },
  {
   "cell_type": "code",
   "execution_count": 4,
   "id": "a9ce5223",
   "metadata": {},
   "outputs": [
    {
     "name": "stdout",
     "output_type": "stream",
     "text": [
      "Dime la temperatura:40\n",
      "Hace calor\n"
     ]
    }
   ],
   "source": [
    "temperatura = int(input(\"Dime la temperatura:\"))\n",
    "\n",
    "if temperatura > 20:\n",
    "    print(\"Hace calor\")"
   ]
  },
  {
   "attachments": {},
   "cell_type": "markdown",
   "id": "5fb66532",
   "metadata": {},
   "source": [
    "También podemos evaluar condiciones compuestas, con los operadores booleanos."
   ]
  },
  {
   "cell_type": "code",
   "execution_count": 8,
   "id": "27e2a5a4",
   "metadata": {},
   "outputs": [
    {
     "name": "stdout",
     "output_type": "stream",
     "text": [
      "Dime la temperatura:21\n",
      "El clima es agradable\n"
     ]
    }
   ],
   "source": [
    "temperatura = int(input(\"Dime la temperatura:\"))\n",
    "\n",
    "if temperatura > 16 and temperatura < 22:\n",
    "    print(\"El clima es agradable\")"
   ]
  },
  {
   "attachments": {},
   "cell_type": "markdown",
   "id": "a6a4d0ac",
   "metadata": {},
   "source": [
    "Otra opción es usar las estructuras de control para verificar si un determinado elemento se encuentra en una colección (como por ejemplo una lista), usando la declaración **in** que significa *en*."
   ]
  },
  {
   "cell_type": "code",
   "execution_count": 10,
   "id": "2d0ff791",
   "metadata": {},
   "outputs": [
    {
     "name": "stdout",
     "output_type": "stream",
     "text": [
      "Dime un nombre:Gabriel\n"
     ]
    }
   ],
   "source": [
    "amigos = [\"Juan\", \"Ana\", \"Laura\"]\n",
    "\n",
    "nombre = input(\"Dime un nombre:\")\n",
    "\n",
    "if nombre in amigos:\n",
    "    print(f\"{nombre} está en mi grupo de amigos\")"
   ]
  },
  {
   "attachments": {},
   "cell_type": "markdown",
   "id": "db08e651",
   "metadata": {},
   "source": [
    "Básicamente if verifica que una condición sea *verdadera*, por lo que si escribo el valor **True** (directa o indirectamente), no necesito hacer una comparación."
   ]
  },
  {
   "cell_type": "code",
   "execution_count": 11,
   "id": "87962cf8",
   "metadata": {},
   "outputs": [
    {
     "name": "stdout",
     "output_type": "stream",
     "text": [
      "Hace calor\n"
     ]
    }
   ],
   "source": [
    "hace_calor = True\n",
    "\n",
    "if temperatura:\n",
    "    print(\"Hace calor\")"
   ]
  },
  {
   "attachments": {},
   "cell_type": "markdown",
   "id": "83f8d6ce",
   "metadata": {},
   "source": [
    "Que es lo mismo que decir…"
   ]
  },
  {
   "cell_type": "code",
   "execution_count": 12,
   "id": "08134df1",
   "metadata": {},
   "outputs": [
    {
     "name": "stdout",
     "output_type": "stream",
     "text": [
      "Hace calor\n"
     ]
    }
   ],
   "source": [
    "if True:\n",
    "    print(\"Hace calor\")"
   ]
  },
  {
   "attachments": {},
   "cell_type": "markdown",
   "id": "10a5c7b3",
   "metadata": {},
   "source": [
    "No quiero terminar esta lección sin destacar la importancia de indentar adecuadamente las lineas de código. El espacio que ponemos en las lineas que estén luego de la declaración if, deben tener una sangría creada ya sea con el tabulador (tecla TAB) o con 4 espacios en blanco.\n",
    "\n",
    "```\n",
    "Linea IF:\n",
    "    Linea condicional 1\n",
    "    Linea condicional 2\n",
    "```\n",
    "\n",
    "Esta manera de estructurar la ubicación de las líneas genera una jerarquía de líneas, que permite que python sepa cuál es el código que debe ejecutarse si se cumple la condición.\n",
    "\n",
    "Observa este ejemplo:"
   ]
  },
  {
   "cell_type": "code",
   "execution_count": 13,
   "id": "a33d56bd",
   "metadata": {},
   "outputs": [
    {
     "name": "stdout",
     "output_type": "stream",
     "text": [
      "Esta linea está dentro del if\n",
      "Esta linea también está dentro del if\n",
      "Esta linea está fuera del if y se va a imprimir siempre\n"
     ]
    }
   ],
   "source": [
    "if 10 > 5:\n",
    "    print(\"Esta linea está dentro del if\")\n",
    "    print(\"Esta linea también está dentro del if\")\n",
    "print(\"Esta linea está fuera del if y se va a imprimir siempre\")"
   ]
  },
  {
   "cell_type": "markdown",
   "id": "906488b5",
   "metadata": {},
   "source": [
    "Se imprimieron todas las líneas porque la condición era verdadera. ¿Pero qué lineas se imprimirpian si la condicion fuera falsa?"
   ]
  },
  {
   "cell_type": "code",
   "execution_count": 14,
   "id": "c334bfb0",
   "metadata": {},
   "outputs": [
    {
     "name": "stdout",
     "output_type": "stream",
     "text": [
      "Esta linea está fuera del if y se va a imprimir siempre\n"
     ]
    }
   ],
   "source": [
    "if 10 > 20:\n",
    "    print(\"Esta linea está dentro del if\")\n",
    "    print(\"Esta linea también está dentro del if\")\n",
    "print(\"Esta linea está fuera del if y se va a imprimir siempre\")"
   ]
  }
 ],
 "metadata": {
  "kernelspec": {
   "display_name": "Python 3 (ipykernel)",
   "language": "python",
   "name": "python3"
  },
  "language_info": {
   "codemirror_mode": {
    "name": "ipython",
    "version": 3
   },
   "file_extension": ".py",
   "mimetype": "text/x-python",
   "name": "python",
   "nbconvert_exporter": "python",
   "pygments_lexer": "ipython3",
   "version": "3.11.5"
  }
 },
 "nbformat": 4,
 "nbformat_minor": 5
}
