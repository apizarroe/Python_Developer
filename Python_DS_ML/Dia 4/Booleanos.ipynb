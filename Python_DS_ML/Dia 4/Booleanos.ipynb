{
 "cells": [
  {
   "attachments": {},
   "cell_type": "markdown",
   "id": "3f77447a",
   "metadata": {},
   "source": [
    "# Booleanos\n",
    "\n",
    "Los booleanos son un tipo de dato muy particular, muy simple, y a su vez muy importantes.\n",
    "\n",
    "Cuando digo que son muy simples, es porque un dato de tipo booleano solo puede tener dos valores posibles: **Verdadero**, o **Falso**… pero en inglés (**True** o **False**).\n",
    "\n",
    "Podemos crear variables de tipo booleano asignandoles directamente los valores booleanos:"
   ]
  },
  {
   "cell_type": "code",
   "execution_count": 1,
   "id": "75ba1410",
   "metadata": {},
   "outputs": [
    {
     "data": {
      "text/plain": [
       "bool"
      ]
     },
     "execution_count": 1,
     "metadata": {},
     "output_type": "execute_result"
    }
   ],
   "source": [
    "a = True\n",
    "type(a)"
   ]
  },
  {
   "cell_type": "code",
   "execution_count": 2,
   "id": "e3326c74",
   "metadata": {},
   "outputs": [
    {
     "data": {
      "text/plain": [
       "bool"
      ]
     },
     "execution_count": 2,
     "metadata": {},
     "output_type": "execute_result"
    }
   ],
   "source": [
    "b = False\n",
    "type(b)"
   ]
  },
  {
   "cell_type": "markdown",
   "id": "59e1a6c7",
   "metadata": {},
   "source": [
    "Pero también podemos crear variables booleanas de manera indirecta, que consiste en asignarles como valor una comparación cuyo resultado solo pueda ser True o False:"
   ]
  },
  {
   "cell_type": "code",
   "execution_count": 3,
   "id": "03c9e05a",
   "metadata": {},
   "outputs": [
    {
     "data": {
      "text/plain": [
       "False"
      ]
     },
     "execution_count": 3,
     "metadata": {},
     "output_type": "execute_result"
    }
   ],
   "source": [
    "x = 2\n",
    "y = 5\n",
    "\n",
    "x == y"
   ]
  },
  {
   "cell_type": "code",
   "execution_count": 4,
   "id": "986adcce",
   "metadata": {},
   "outputs": [
    {
     "data": {
      "text/plain": [
       "False"
      ]
     },
     "execution_count": 4,
     "metadata": {},
     "output_type": "execute_result"
    }
   ],
   "source": [
    "comparar = x == y\n",
    "comparar"
   ]
  },
  {
   "cell_type": "code",
   "execution_count": 5,
   "id": "1267b9ae",
   "metadata": {},
   "outputs": [
    {
     "data": {
      "text/plain": [
       "bool"
      ]
     },
     "execution_count": 5,
     "metadata": {},
     "output_type": "execute_result"
    }
   ],
   "source": [
    "type(comparar)"
   ]
  },
  {
   "attachments": {},
   "cell_type": "markdown",
   "id": "eef59059",
   "metadata": {},
   "source": [
    "Los operadores que permiten realizar comparaciones son los siguientes:\n",
    "\n",
    "| Operador | Significado |\n",
    "|-----------|----------|\n",
    "| == | Igual |\n",
    "| < | Menor |\n",
    "| > | Mayor |\n",
    "| <= | Menor o Igual |\n",
    "| >= | Mayor o Igual |\n",
    "| != | Distinto |"
   ]
  },
  {
   "cell_type": "code",
   "execution_count": 6,
   "id": "7c8f689f",
   "metadata": {},
   "outputs": [
    {
     "data": {
      "text/plain": [
       "True"
      ]
     },
     "execution_count": 6,
     "metadata": {},
     "output_type": "execute_result"
    }
   ],
   "source": [
    "comparar = x < y\n",
    "comparar"
   ]
  },
  {
   "attachments": {},
   "cell_type": "markdown",
   "id": "e242ad4f",
   "metadata": {},
   "source": [
    "Además de poder hacer comparaciones con todos los operadores lógicos de la tabla anterior, también podemos hacer **comparaciones múltiples**.\n",
    "\n",
    "Puedes hacer comparaciones múltiples verificando más de una comparación a la vez, utilizando los operadores booleanos de la siguiente tabla.\n",
    "\n",
    "| Operador | Significado |\n",
    "|-----------|----------|\n",
    "| and | \"y\" |\n",
    "| or | \"ó\" |\n",
    "| not | \"no\" |"
   ]
  },
  {
   "cell_type": "markdown",
   "id": "723ecb34",
   "metadata": {},
   "source": [
    "Para ver estos operadores en acción, primero vamos a crear una variable adicional"
   ]
  },
  {
   "cell_type": "code",
   "execution_count": 7,
   "id": "00c4b29f",
   "metadata": {},
   "outputs": [],
   "source": [
    "z = 8"
   ]
  },
  {
   "cell_type": "markdown",
   "id": "8e35174a",
   "metadata": {},
   "source": [
    "Y ahora sí, verifiquemos dos comparaciones al mismo tiempo, con el operador **and** que nos permite verificar si la *comparación 1* **Y** la *comparación 2* son verdaderas."
   ]
  },
  {
   "cell_type": "code",
   "execution_count": 8,
   "id": "58efa026",
   "metadata": {},
   "outputs": [
    {
     "data": {
      "text/plain": [
       "True"
      ]
     },
     "execution_count": 8,
     "metadata": {},
     "output_type": "execute_result"
    }
   ],
   "source": [
    "comparar = x < y and y < z\n",
    "comparar"
   ]
  },
  {
   "cell_type": "markdown",
   "id": "043f66ce",
   "metadata": {},
   "source": [
    "Esta variable tiene valor **True** porque es verdadero que ambas comparaciones son verdaderas.\n",
    "\n",
    "Veamos el caso en el que la *comparación 1* es verdadera, pero la *comparación 2* no lo es."
   ]
  },
  {
   "cell_type": "code",
   "execution_count": 14,
   "id": "b813de26",
   "metadata": {},
   "outputs": [
    {
     "data": {
      "text/plain": [
       "False"
      ]
     },
     "execution_count": 14,
     "metadata": {},
     "output_type": "execute_result"
    }
   ],
   "source": [
    "comparar = x < y and y > z\n",
    "comparar"
   ]
  },
  {
   "cell_type": "markdown",
   "id": "257e0842",
   "metadata": {},
   "source": [
    "Ahora utilicemos el operador **or** que va a devolver **True** si al menos una de las comapraciones es verdadera, sin importar si alguna de las comparaciones es falsa."
   ]
  },
  {
   "cell_type": "code",
   "execution_count": 10,
   "id": "dad4897a",
   "metadata": {},
   "outputs": [
    {
     "data": {
      "text/plain": [
       "True"
      ]
     },
     "execution_count": 10,
     "metadata": {},
     "output_type": "execute_result"
    }
   ],
   "source": [
    "comparar = x < y or y > z\n",
    "comparar"
   ]
  },
  {
   "cell_type": "markdown",
   "id": "f827697f",
   "metadata": {},
   "source": [
    "En Python, el operador **not** se utiliza para negar una expresión booleana, pero debe ser aplicado directamente a una única expresión booleana, no entre dos variables como en x not z.\n",
    "\n",
    "Para netender su lógica, imagina que **not** está diciendo **no es verdadero**."
   ]
  },
  {
   "cell_type": "code",
   "execution_count": 11,
   "id": "0cc3bbb5",
   "metadata": {},
   "outputs": [
    {
     "data": {
      "text/plain": [
       "False"
      ]
     },
     "execution_count": 11,
     "metadata": {},
     "output_type": "execute_result"
    }
   ],
   "source": [
    "otra = not comparar\n",
    "otra"
   ]
  },
  {
   "cell_type": "code",
   "execution_count": 15,
   "id": "e5fef1d5",
   "metadata": {},
   "outputs": [
    {
     "data": {
      "text/plain": [
       "False"
      ]
     },
     "execution_count": 15,
     "metadata": {},
     "output_type": "execute_result"
    }
   ],
   "source": [
    "otra2 = not 1 == 1\n",
    "otra2"
   ]
  },
  {
   "attachments": {},
   "cell_type": "markdown",
   "id": "cd87b7b0",
   "metadata": {},
   "source": [
    "Si bien ya podemos apreciar la importancia de los booleanos para comprobar la veracidad o no de ciertas comparaciones, recién podremos comprobar la dimensión de su importancia cuando aprendamos a usar **estructuras de control** para hacer que nuestro código aprenda a tomar decisiones a partir de estas comparaciones."
   ]
  }
 ],
 "metadata": {
  "kernelspec": {
   "display_name": "Python 3 (ipykernel)",
   "language": "python",
   "name": "python3"
  },
  "language_info": {
   "codemirror_mode": {
    "name": "ipython",
    "version": 3
   },
   "file_extension": ".py",
   "mimetype": "text/x-python",
   "name": "python",
   "nbconvert_exporter": "python",
   "pygments_lexer": "ipython3",
   "version": "3.11.5"
  }
 },
 "nbformat": 4,
 "nbformat_minor": 5
}
