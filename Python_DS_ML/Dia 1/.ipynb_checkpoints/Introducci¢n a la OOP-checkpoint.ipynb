{
 "cells": [
  {
   "attachments": {},
   "cell_type": "markdown",
   "id": "1155ff41",
   "metadata": {},
   "source": [
    "## En Python todo es un objeto. \n",
    "\n",
    "**¿Por qué esto es importante?**\n",
    "\n",
    "Porque si pierdes de vista el concepto de que todo en Python es un objeto, por más avanzado que seas como programador, ahí es cuando vas a comenzar a tener dificultades para planificar tu código adecuadamente.\n",
    "\n",
    "si en Python todo es un objeto, entonces los números son objetos, y por lo tanto, el número 1 es un objeto: El objeto 1."
   ]
  },
  {
   "cell_type": "code",
   "execution_count": 2,
   "id": "f2d2c5e6",
   "metadata": {},
   "outputs": [
    {
     "data": {
      "text/plain": [
       "1"
      ]
     },
     "execution_count": 2,
     "metadata": {},
     "output_type": "execute_result"
    }
   ],
   "source": [
    "1"
   ]
  },
  {
   "cell_type": "markdown",
   "id": "aec53f57",
   "metadata": {},
   "source": [
    "Con el 1, al igual que con todos los objetos de tipo número, en Python, puedo realizar operaciones matemáticas. Entonces puedo decir que si tomo el objeto 1, y le sumo otro objeto numérico, como el número 2, lo que obtengo es otro objeto, que es el objeto 3."
   ]
  },
  {
   "cell_type": "code",
   "execution_count": 1,
   "id": "9384b65f",
   "metadata": {},
   "outputs": [
    {
     "data": {
      "text/plain": [
       "3"
      ]
     },
     "execution_count": 1,
     "metadata": {},
     "output_type": "execute_result"
    }
   ],
   "source": [
    "1 + 2"
   ]
  },
  {
   "cell_type": "markdown",
   "id": "5a5eb7e0",
   "metadata": {},
   "source": [
    "Entonces en este pequeño código, ya tengo 3 objetos: el número 1, el número 2, y el número 3.\n",
    "\n",
    "\n",
    "### Tipos de Objetos\n",
    "\n",
    "Ya vamos a ver más adelante que los números son solamente uno de los tantos TIPOS de objetos que existen en Python: el TIPO de objetos numérico.\n",
    "\n",
    "Python trabaja con objetos, y por lo tanto es uno de los tantos lenguajes de programación que están estructurados según el paradigma llamado **Programación Orientada a Objetos**, que en inglés se abrevia como **OOP**.\n",
    "\n",
    "Si bien aún es temprano para explicar este concepto en profundidad, quiero que sepas que Python se corresponde a ese paradigma, porque básicamente todo lo que haremos cuando escribamos código Python será construir, manipular, interactuar y eliminar objetos.\n",
    "\n",
    "La razón por la que te cuento esto antes de comenzar a trabajar con Python, es porque si bien vamos a explicar este concepto mucho más en profundidad en su debido momento, te prometo que si mantienes estos conceptos siempre a la vista desde el inicio, le podrás sacar aún más provecho de este intuitivo y poderoso lenguaje de programación:\n",
    "* \"En Python todo es un Objeto\"\n",
    "* \"Python es un lenguaje de Programación Orientada a Objetos\""
   ]
  },
  {
   "cell_type": "code",
   "execution_count": null,
   "id": "4e0925be",
   "metadata": {},
   "outputs": [],
   "source": []
  }
 ],
 "metadata": {
  "kernelspec": {
   "display_name": "Python 3 (ipykernel)",
   "language": "python",
   "name": "python3"
  },
  "language_info": {
   "codemirror_mode": {
    "name": "ipython",
    "version": 3
   },
   "file_extension": ".py",
   "mimetype": "text/x-python",
   "name": "python",
   "nbconvert_exporter": "python",
   "pygments_lexer": "ipython3",
   "version": "3.11.5"
  }
 },
 "nbformat": 4,
 "nbformat_minor": 5
}
