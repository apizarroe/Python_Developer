{
 "cells": [
  {
   "attachments": {},
   "cell_type": "markdown",
   "id": "f4302a40",
   "metadata": {},
   "source": [
    "# Variables de Texto\n",
    "\n",
    "En la mayoría de los lenguajes de programación, al dato de tipo texto, se lo denomina como **string**.\n",
    "\n",
    "String en inglés significa **cadena**, y es por eso que al texto se lo llama string, porque es interpretado por el código como una **cadena de texto**. Es decir, como una secuencia de caracteres que forman un texto, y esto es muy importante porque luego vamos a ver que se pueden hacer muchas cosas con los objetos de tipo texto, y que esas cosas se pueden hacer gracias a que el texto no es interpretado por el código como un bloque homogéneo, sino como una cadena de unidades de texto, llamadas caracteres.\n",
    "\n",
    "Por empezar, los strings deben escribirse siempre entre comillas (dobles o simples):"
   ]
  },
  {
   "cell_type": "code",
   "execution_count": 1,
   "id": "823b54d9",
   "metadata": {},
   "outputs": [
    {
     "data": {
      "text/plain": [
       "'Hola Mundo'"
      ]
     },
     "execution_count": 1,
     "metadata": {},
     "output_type": "execute_result"
    }
   ],
   "source": [
    "\"Hola Mundo\""
   ]
  },
  {
   "cell_type": "code",
   "execution_count": 2,
   "id": "2538bea4",
   "metadata": {},
   "outputs": [
    {
     "data": {
      "text/plain": [
       "'Hola Mundo'"
      ]
     },
     "execution_count": 2,
     "metadata": {},
     "output_type": "execute_result"
    }
   ],
   "source": [
    "'Hola Mundo'"
   ]
  },
  {
   "cell_type": "markdown",
   "id": "016ca8a8",
   "metadata": {},
   "source": [
    "Si quieres que tus strings contengan comillas internas, ya que forman parte del texto, debes usar el tipo de comillas diferente al que usaste para encerrar el string."
   ]
  },
  {
   "cell_type": "code",
   "execution_count": 3,
   "id": "185ca3b1",
   "metadata": {},
   "outputs": [
    {
     "data": {
      "text/plain": [
       "\"El libro 'El Principito' es emocionante\""
      ]
     },
     "execution_count": 3,
     "metadata": {},
     "output_type": "execute_result"
    }
   ],
   "source": [
    "\"El libro 'El Principito' es emocionante\""
   ]
  },
  {
   "cell_type": "code",
   "execution_count": 4,
   "id": "cabc5c5b",
   "metadata": {},
   "outputs": [
    {
     "data": {
      "text/plain": [
       "'El libro \"El Principito\" es emocionante'"
      ]
     },
     "execution_count": 4,
     "metadata": {},
     "output_type": "execute_result"
    }
   ],
   "source": [
    "'El libro \"El Principito\" es emocionante'"
   ]
  },
  {
   "cell_type": "markdown",
   "id": "744f626d",
   "metadata": {},
   "source": [
    "También podemos almacenar strings en variables."
   ]
  },
  {
   "cell_type": "code",
   "execution_count": 5,
   "id": "b5665d8c",
   "metadata": {},
   "outputs": [],
   "source": [
    "miFrase = \"Hola Mundo\""
   ]
  },
  {
   "cell_type": "code",
   "execution_count": 6,
   "id": "7c492a53",
   "metadata": {},
   "outputs": [
    {
     "name": "stdout",
     "output_type": "stream",
     "text": [
      "Hola Mundo\n"
     ]
    }
   ],
   "source": [
    "print(miFrase)"
   ]
  },
  {
   "cell_type": "markdown",
   "id": "05a0e50d",
   "metadata": {},
   "source": [
    "A través de la siguiente demostración, vamos comprobar que el uso de comillas dobles o simples, es indistinto para determinar el valor del contenido del string."
   ]
  },
  {
   "cell_type": "code",
   "execution_count": 7,
   "id": "46c27308",
   "metadata": {},
   "outputs": [],
   "source": [
    "miFrase2 = 'Hola Mundo'"
   ]
  },
  {
   "cell_type": "code",
   "execution_count": 8,
   "id": "f649774b",
   "metadata": {},
   "outputs": [
    {
     "data": {
      "text/plain": [
       "True"
      ]
     },
     "execution_count": 8,
     "metadata": {},
     "output_type": "execute_result"
    }
   ],
   "source": [
    "miFrase == miFrase2"
   ]
  }
 ],
 "metadata": {
  "kernelspec": {
   "display_name": "Python 3 (ipykernel)",
   "language": "python",
   "name": "python3"
  },
  "language_info": {
   "codemirror_mode": {
    "name": "ipython",
    "version": 3
   },
   "file_extension": ".py",
   "mimetype": "text/x-python",
   "name": "python",
   "nbconvert_exporter": "python",
   "pygments_lexer": "ipython3",
   "version": "3.11.5"
  }
 },
 "nbformat": 4,
 "nbformat_minor": 5
}
