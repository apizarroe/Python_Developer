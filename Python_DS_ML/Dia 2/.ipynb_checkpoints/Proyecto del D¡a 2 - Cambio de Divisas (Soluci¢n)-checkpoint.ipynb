{
 "cells": [
  {
   "cell_type": "markdown",
   "id": "5bc32480",
   "metadata": {},
   "source": [
    "# Proyecto del Día 2: Cambio de Divisas (Solución)\n",
    "\n",
    "\n",
    "## Consigna\n",
    "Vas a crear un código que simule el funcionamiento de una **máquina de cambio de divisas**. Por el momento nuestra máquina sólo recibe **dólares** y devuelve **euros** ¡No es poco para ser tu primer programa!\n",
    "\n",
    "Tu máquina va a necesitar disponer de variables que le brinden la siguiente información:\n",
    "- Nombre del usuario\n",
    "- Fecha en que se realiza la operación\n",
    "- Momento del día (día, tarde o noche)\n",
    "- Cantidad de dólares a cambiar\n",
    "\n",
    "Con todo eso, la máquina va a imprimir en pantalla (en diferentes líneas por supuesto) un mensaje que incluya los siguientes requisitos:\n",
    "\n",
    "- Un saludo de bienvenida\n",
    "- Información de la cantidad de dolares que va a entregar el usuario\n",
    "- Información de la cantidad de euros que va a recibir\n",
    "- Detalle específico de cuántos billetes de €10, de €1, y el saldo en monedas que le serán entregados\n",
    "- Un saludo de despedida\n",
    "<br>\n",
    "<br>\n",
    "<br>"
   ]
  },
  {
   "cell_type": "markdown",
   "id": "03b0570d",
   "metadata": {},
   "source": [
    "## Instrucciones paso a paso\n",
    "\n",
    "1. Escribe el código necesario para saludar al usuario, antes de comenzar sus operaciones. Vas a crear tres variables que contengan, respectivamente, el **nombre** del usuario, la **fecha** del día en que está haciendo la operación, y un **saludo** que puede ser *Buenos días*, *Buenas tardes* o *Buenas noches*."
   ]
  },
  {
   "cell_type": "code",
   "execution_count": 1,
   "id": "1d831394",
   "metadata": {},
   "outputs": [],
   "source": [
    "nombre = \"Fede\"\n",
    "fecha = \"12/10/2025\"\n",
    "saludo = \"Buenos días\""
   ]
  },
  {
   "cell_type": "markdown",
   "id": "0107668a",
   "metadata": {},
   "source": [
    "2. Crea una variable llamada **bienvenida** que concatene toda la información anterior en un solo mensaje que salude al usuario  que va a usar el servicio de cambio de divisas. Puedes poner la creatividad que gustes en este mensaje.\n",
    "\n",
    "**Pista**: Recuerda que en la lección operaciones vimos cómo puedes concatenar strings para formar una sola cadena de texto."
   ]
  },
  {
   "cell_type": "code",
   "execution_count": 6,
   "id": "eb011cf0",
   "metadata": {},
   "outputs": [
    {
     "data": {
      "text/plain": [
       "'Buenos días Fede! Hoy es 12/10/2025. Bienvenido al servicio de divisas!'"
      ]
     },
     "execution_count": 6,
     "metadata": {},
     "output_type": "execute_result"
    }
   ],
   "source": [
    "bienvenida = saludo + \" \" + nombre + \"! Hoy es \" + fecha + \". Bienvenido al servicio de divisas!\"\n",
    "bienvenida"
   ]
  },
  {
   "cell_type": "markdown",
   "id": "11ebd166",
   "metadata": {},
   "source": [
    "3. Crea una variable numérica llamada **dolares** que almacene la cantidad de dólares que quieres cambiar por euros. Ten en cuenta que los valores en *moneda* suelen expresarse con números decimales, por lo que sería ideal utilizar un valor de tipo **float**."
   ]
  },
  {
   "cell_type": "code",
   "execution_count": 7,
   "id": "4a65fdf7",
   "metadata": {},
   "outputs": [
    {
     "data": {
      "text/plain": [
       "210.0"
      ]
     },
     "execution_count": 7,
     "metadata": {},
     "output_type": "execute_result"
    }
   ],
   "source": [
    "dolares = 210.0\n",
    "dolares"
   ]
  },
  {
   "cell_type": "markdown",
   "id": "8fc42727",
   "metadata": {},
   "source": [
    "4. Crea una variable llamada **euros_a_recibir** que guarde el resultado de calcular cuántos euros corresponden para la cantidad de dolares ingresada en la variable **dolares**. El tipo de cambio que usaremos es de *0.88*."
   ]
  },
  {
   "cell_type": "code",
   "execution_count": 8,
   "id": "cada2ca6",
   "metadata": {},
   "outputs": [
    {
     "data": {
      "text/plain": [
       "184.8"
      ]
     },
     "execution_count": 8,
     "metadata": {},
     "output_type": "execute_result"
    }
   ],
   "source": [
    "euros_a_recibir = dolares * 0.88\n",
    "euros_a_recibir"
   ]
  },
  {
   "cell_type": "markdown",
   "id": "66eabb60",
   "metadata": {},
   "source": [
    "5. Nuestra máquina (imaginaria), solo entrega billetes de €10, y de €1 (los decimales los entregará en monedas). Crea 3 variables para cada uno de esos valores (**billetes_10**, **billetes_1** y **monedas**), que contengan los cálculos necesarios para saber cuánto valor en monedas, y cuántos billetes de cada tipo recibirá el usuario."
   ]
  },
  {
   "cell_type": "code",
   "execution_count": 10,
   "id": "e464555d",
   "metadata": {},
   "outputs": [
    {
     "data": {
      "text/plain": [
       "18.0"
      ]
     },
     "execution_count": 10,
     "metadata": {},
     "output_type": "execute_result"
    }
   ],
   "source": [
    "billetes_10 = euros_a_recibir // 10\n",
    "billetes_10"
   ]
  },
  {
   "cell_type": "code",
   "execution_count": 12,
   "id": "0f6c8ae9",
   "metadata": {},
   "outputs": [
    {
     "data": {
      "text/plain": [
       "4.0"
      ]
     },
     "execution_count": 12,
     "metadata": {},
     "output_type": "execute_result"
    }
   ],
   "source": [
    "billetes_1 = (euros_a_recibir - (billetes_10 * 10)) // 1\n",
    "billetes_1"
   ]
  },
  {
   "cell_type": "code",
   "execution_count": 13,
   "id": "0f20c4dc",
   "metadata": {},
   "outputs": [
    {
     "data": {
      "text/plain": [
       "0.8000000000000114"
      ]
     },
     "execution_count": 13,
     "metadata": {},
     "output_type": "execute_result"
    }
   ],
   "source": [
    "monedas = euros_a_recibir % 1\n",
    "monedas"
   ]
  },
  {
   "cell_type": "markdown",
   "id": "a04f72df",
   "metadata": {},
   "source": [
    "6. Finalmente escribe una serie de declaraciones **print()** que expresen el mensaje completo, mostrando los siguientes elementos:\n",
    "- Mensaje de bienvenida\n",
    "- Información sobre los dólares que entregará\n",
    "- Información sobre los euros que recibirá\n",
    "- Detalle de billetes y monedas que le serán entregados\n",
    "- Saludo de despedida\n",
    "\n",
    "**Importante**: Cómo aún no hemos aprendido a concatenar números y texto en la misma línea de impresión, en muchas ocaciones deberás crear líneas separadas para que el mensaje se muestre como en el siguiente ejemplo:\n",
    "\n",
    "```\n",
    "Dolares a entregar:\n",
    "150.45\n",
    "```\n"
   ]
  },
  {
   "cell_type": "code",
   "execution_count": 14,
   "id": "23786052",
   "metadata": {},
   "outputs": [
    {
     "name": "stdout",
     "output_type": "stream",
     "text": [
      "Buenos días Fede! Hoy es 12/10/2025. Bienvenido al servicio de divisas!\n",
      "\n",
      "Cantidad de dolares a cambiar:\n",
      "210.0\n",
      "\n",
      "Euros que va a recibir:\n",
      "184.8\n",
      "\n",
      "Usted va a recibir el dinero de la siguiente manera:\n",
      "Billetes de 10 euros:\n",
      "18.0\n",
      "\n",
      "Billetes de 1 euro\n",
      "4.0\n",
      "\n",
      "Monedas:\n",
      "0.8000000000000114\n",
      "\n",
      "Gracias por utilizar nuestro servicio Fede.\n"
     ]
    }
   ],
   "source": [
    "print(bienvenida)\n",
    "print(\"\")\n",
    "print(\"Cantidad de dolares a cambiar:\")\n",
    "print(dolares)\n",
    "print(\"\")\n",
    "print(\"Euros que va a recibir:\")\n",
    "print(euros_a_recibir)\n",
    "print(\"\")\n",
    "print(\"Usted va a recibir el dinero de la siguiente manera:\")\n",
    "print(\"Billetes de 10 euros:\")\n",
    "print(billetes_10)\n",
    "print(\"\")\n",
    "print(\"Billetes de 1 euro\")\n",
    "print(billetes_1)\n",
    "print(\"\")\n",
    "print(\"Monedas:\")\n",
    "print(monedas)\n",
    "print(\"\")\n",
    "print(\"Gracias por utilizar nuestro servicio \" + nombre + \".\")"
   ]
  }
 ],
 "metadata": {
  "kernelspec": {
   "display_name": "Python 3 (ipykernel)",
   "language": "python",
   "name": "python3"
  },
  "language_info": {
   "codemirror_mode": {
    "name": "ipython",
    "version": 3
   },
   "file_extension": ".py",
   "mimetype": "text/x-python",
   "name": "python",
   "nbconvert_exporter": "python",
   "pygments_lexer": "ipython3",
   "version": "3.11.5"
  }
 },
 "nbformat": 4,
 "nbformat_minor": 5
}
