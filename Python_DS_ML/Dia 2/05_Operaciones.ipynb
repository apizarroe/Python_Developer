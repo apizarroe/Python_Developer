{
 "cells": [
  {
   "cell_type": "markdown",
   "id": "76f5791b",
   "metadata": {},
   "source": [
    "# Operaciones\n",
    "\n",
    "Con todos los tipos de datos numéricos (integers, floats o complejos), puedes realizar operaciones, usando los siguientes operadores matemáticos:\n",
    "\n",
    "| Símbolo | Operación |\n",
    "|---------|--------------|\n",
    "| + | Suma |\n",
    "| - | Resta |\n",
    "| * | Multiplicación |\n",
    "| / | División |\n",
    "| // | División al piso |\n",
    "| % | Módulo |\n",
    "| ** | Potencia, Raíz cuadrada |"
   ]
  },
  {
   "cell_type": "markdown",
   "id": "cb86cb07",
   "metadata": {},
   "source": [
    "### 1. Suma"
   ]
  },
  {
   "cell_type": "code",
   "execution_count": 1,
   "id": "27c973bc",
   "metadata": {},
   "outputs": [
    {
     "data": {
      "text/plain": [
       "4"
      ]
     },
     "execution_count": 1,
     "metadata": {},
     "output_type": "execute_result"
    }
   ],
   "source": [
    "2 + 2"
   ]
  },
  {
   "cell_type": "markdown",
   "id": "abfebd6a",
   "metadata": {},
   "source": [
    "### 2. Resta"
   ]
  },
  {
   "cell_type": "code",
   "execution_count": 2,
   "id": "f43c57e3",
   "metadata": {},
   "outputs": [
    {
     "data": {
      "text/plain": [
       "7.0"
      ]
     },
     "execution_count": 2,
     "metadata": {},
     "output_type": "execute_result"
    }
   ],
   "source": [
    "8.5 - 1.5"
   ]
  },
  {
   "cell_type": "markdown",
   "id": "466b9363",
   "metadata": {},
   "source": [
    "### 3. Multiplicación"
   ]
  },
  {
   "cell_type": "code",
   "execution_count": 3,
   "id": "e9f68176",
   "metadata": {},
   "outputs": [
    {
     "data": {
      "text/plain": [
       "7.0"
      ]
     },
     "execution_count": 3,
     "metadata": {},
     "output_type": "execute_result"
    }
   ],
   "source": [
    "2 * 3.5"
   ]
  },
  {
   "cell_type": "markdown",
   "id": "c0132c48",
   "metadata": {},
   "source": [
    "### 4. División"
   ]
  },
  {
   "cell_type": "code",
   "execution_count": 4,
   "id": "3347ec30",
   "metadata": {},
   "outputs": [
    {
     "data": {
      "text/plain": [
       "3.3333333333333335"
      ]
     },
     "execution_count": 4,
     "metadata": {},
     "output_type": "execute_result"
    }
   ],
   "source": [
    "10 / 3"
   ]
  },
  {
   "cell_type": "markdown",
   "id": "e4cb07c8",
   "metadata": {},
   "source": [
    "### 5. División al Piso"
   ]
  },
  {
   "cell_type": "code",
   "execution_count": 5,
   "id": "d80b4ccb",
   "metadata": {},
   "outputs": [
    {
     "data": {
      "text/plain": [
       "3"
      ]
     },
     "execution_count": 5,
     "metadata": {},
     "output_type": "execute_result"
    }
   ],
   "source": [
    "10 // 3"
   ]
  },
  {
   "cell_type": "markdown",
   "id": "c3cd7b24",
   "metadata": {},
   "source": [
    "### 6. Módulo"
   ]
  },
  {
   "cell_type": "code",
   "execution_count": 6,
   "id": "6b6a901e",
   "metadata": {},
   "outputs": [
    {
     "data": {
      "text/plain": [
       "1"
      ]
     },
     "execution_count": 6,
     "metadata": {},
     "output_type": "execute_result"
    }
   ],
   "source": [
    "10 % 3"
   ]
  },
  {
   "cell_type": "markdown",
   "id": "c964330f",
   "metadata": {},
   "source": [
    "### 7. Potencia"
   ]
  },
  {
   "cell_type": "code",
   "execution_count": 7,
   "id": "6809e063",
   "metadata": {},
   "outputs": [
    {
     "data": {
      "text/plain": [
       "25"
      ]
     },
     "execution_count": 7,
     "metadata": {},
     "output_type": "execute_result"
    }
   ],
   "source": [
    "5 ** 2"
   ]
  },
  {
   "cell_type": "markdown",
   "id": "ac3d0cb7",
   "metadata": {},
   "source": [
    "### 8. Raíz Cuadrada"
   ]
  },
  {
   "cell_type": "code",
   "execution_count": 8,
   "id": "90417021",
   "metadata": {},
   "outputs": [
    {
     "data": {
      "text/plain": [
       "5.0"
      ]
     },
     "execution_count": 8,
     "metadata": {},
     "output_type": "execute_result"
    }
   ],
   "source": [
    "25 ** 0.5"
   ]
  },
  {
   "cell_type": "markdown",
   "id": "8ceec934",
   "metadata": {},
   "source": [
    "### 9. Raíz Cúbica"
   ]
  },
  {
   "cell_type": "code",
   "execution_count": 9,
   "id": "c772f985",
   "metadata": {
    "scrolled": true
   },
   "outputs": [
    {
     "data": {
      "text/plain": [
       "2.924017738212866"
      ]
     },
     "execution_count": 9,
     "metadata": {},
     "output_type": "execute_result"
    }
   ],
   "source": [
    "25 ** (1/3)"
   ]
  },
  {
   "cell_type": "markdown",
   "id": "8013f3f8",
   "metadata": {},
   "source": [
    "### Operaciones con números complejos"
   ]
  },
  {
   "cell_type": "code",
   "execution_count": 10,
   "id": "e4cf2216",
   "metadata": {},
   "outputs": [],
   "source": [
    "a = 3 + 5J\n",
    "b = 2 + 2J"
   ]
  },
  {
   "cell_type": "code",
   "execution_count": 11,
   "id": "acb819fa",
   "metadata": {},
   "outputs": [
    {
     "data": {
      "text/plain": [
       "(5+7j)"
      ]
     },
     "execution_count": 11,
     "metadata": {},
     "output_type": "execute_result"
    }
   ],
   "source": [
    "a + b"
   ]
  },
  {
   "cell_type": "markdown",
   "id": "a83b1137",
   "metadata": {},
   "source": [
    "### Operaciones con strings\n",
    "\n",
    "Aunque el string tenga caracteres numéricos, no es posible hacer operaciones con ellos. Si utilizas el operados **+** con strings, en vez de sumarlos, los va a concatenar."
   ]
  },
  {
   "cell_type": "code",
   "execution_count": 12,
   "id": "7be8a64f",
   "metadata": {},
   "outputs": [],
   "source": [
    "num = \"1\""
   ]
  },
  {
   "cell_type": "code",
   "execution_count": 13,
   "id": "440d7180",
   "metadata": {},
   "outputs": [
    {
     "data": {
      "text/plain": [
       "'11'"
      ]
     },
     "execution_count": 13,
     "metadata": {},
     "output_type": "execute_result"
    }
   ],
   "source": [
    "num + num"
   ]
  },
  {
   "cell_type": "code",
   "execution_count": 14,
   "id": "26bd020c",
   "metadata": {},
   "outputs": [
    {
     "data": {
      "text/plain": [
       "'federico'"
      ]
     },
     "execution_count": 14,
     "metadata": {},
     "output_type": "execute_result"
    }
   ],
   "source": [
    "\"fede\" + \"rico\""
   ]
  },
  {
   "cell_type": "markdown",
   "id": "ccf04abf",
   "metadata": {},
   "source": [
    "Sin embargo, es posible realizar operaciones con strings que contienen solo caracteres numéricos, si usas la función **int()** para transformarlos en integers."
   ]
  },
  {
   "cell_type": "code",
   "execution_count": 15,
   "id": "62a4e8ea",
   "metadata": {},
   "outputs": [
    {
     "data": {
      "text/plain": [
       "2"
      ]
     },
     "execution_count": 15,
     "metadata": {},
     "output_type": "execute_result"
    }
   ],
   "source": [
    "1 + int(num)"
   ]
  }
 ],
 "metadata": {
  "kernelspec": {
   "display_name": "Python 3 (ipykernel)",
   "language": "python",
   "name": "python3"
  },
  "language_info": {
   "codemirror_mode": {
    "name": "ipython",
    "version": 3
   },
   "file_extension": ".py",
   "mimetype": "text/x-python",
   "name": "python",
   "nbconvert_exporter": "python",
   "pygments_lexer": "ipython3",
   "version": "3.11.5"
  }
 },
 "nbformat": 4,
 "nbformat_minor": 5
}
