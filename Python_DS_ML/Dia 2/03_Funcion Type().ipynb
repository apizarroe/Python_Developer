{
 "cells": [
  {
   "attachments": {},
   "cell_type": "markdown",
   "id": "60039f37",
   "metadata": {},
   "source": [
    "# Función Type()\n",
    "\n",
    "En esta lección te voy a enseñar una función incorporada en Python, a la que la mayoría de los instructores no le dan la gran importancia que tiene, y es la función **type()**.\n",
    "\n",
    "Las funciones son métodos que python tiene definidos para trabajar con los objetos. Podríamos decir que las funciones sirven para que los objetos de Python hagan cosas.\n",
    "\n",
    "¿Y qué cosas hace la función type? La función type hace que los objetos nos digan qué tipo de datos son."
   ]
  },
  {
   "cell_type": "code",
   "execution_count": 1,
   "id": "4edd023b",
   "metadata": {},
   "outputs": [],
   "source": [
    "a = 1\n",
    "b = \"1\""
   ]
  },
  {
   "cell_type": "code",
   "execution_count": 2,
   "id": "2f36d1db",
   "metadata": {},
   "outputs": [
    {
     "data": {
      "text/plain": [
       "1"
      ]
     },
     "execution_count": 2,
     "metadata": {},
     "output_type": "execute_result"
    }
   ],
   "source": [
    "a"
   ]
  },
  {
   "cell_type": "code",
   "execution_count": 3,
   "id": "9111f85f",
   "metadata": {},
   "outputs": [
    {
     "data": {
      "text/plain": [
       "'1'"
      ]
     },
     "execution_count": 3,
     "metadata": {},
     "output_type": "execute_result"
    }
   ],
   "source": [
    "b"
   ]
  },
  {
   "cell_type": "code",
   "execution_count": 4,
   "id": "8c3f192b",
   "metadata": {},
   "outputs": [
    {
     "name": "stdout",
     "output_type": "stream",
     "text": [
      "1\n"
     ]
    }
   ],
   "source": [
    "print(b)"
   ]
  },
  {
   "cell_type": "code",
   "execution_count": 5,
   "id": "b8220fe9",
   "metadata": {},
   "outputs": [
    {
     "data": {
      "text/plain": [
       "int"
      ]
     },
     "execution_count": 5,
     "metadata": {},
     "output_type": "execute_result"
    }
   ],
   "source": [
    "type(a)"
   ]
  },
  {
   "cell_type": "code",
   "execution_count": 6,
   "id": "1de7c444",
   "metadata": {},
   "outputs": [
    {
     "data": {
      "text/plain": [
       "str"
      ]
     },
     "execution_count": 6,
     "metadata": {},
     "output_type": "execute_result"
    }
   ],
   "source": [
    "type(b)"
   ]
  },
  {
   "cell_type": "markdown",
   "id": "5696055f",
   "metadata": {},
   "source": [
    "Puede que en este momento estés diciendo, *****\"Bueno Fede, parece que Type es una función muy simpática, pero no parece que fuera tan importante como dices\"*****. Y la verdad es que entiendo si piensas eso, y de hecho es la razón por la que muchas personas menosprecian a esta función.\n",
    "\n",
    "Pero ten en cuenta que hasta ahora solo hemos conocido dos tipos de datos: los **numeros enteros (int)**, y el **texto (strings)**. Pero a medida que avancemos con el curso vas a ver que hay muchísimos tipos de datos:\n",
    "    * los que python ya trae incorporados\n",
    "    * los que provienen de las herramientas que usaremos más adelante para hacer data science, como pandas o matplotlib, que también tienen sus propios tipos de datos\n",
    "    * y a eso agrégale los que vas a ir creando tu mismo cuando programes\n",
    "\n",
    "Esto hace que la cantidad de tipos de datos existente sea infinita. Y encima de todo eso, los tipos de datos pueden llegar a transformarse en otro tipo de datos durante la ejecución de tu código, por diversas razones.\n",
    "\n",
    "Pero eso no es todo. La verdadera razón por la creo que type es tan importante, y casi te diría esencial, es que cada tipo de datos tiene sus propios **métodos**, es decir que con cada tipos de datos puedes hacer ciertas cosas, y ciertas cosas no. Y ahí es cuando los errores suceden, o cuando tu capacidad de programar se ve bloqueada: cuando no puedes identificar rápidamente con qué objetos estás trabajando, y qué puedes o no puede shacer con ellos. Confía en mí: es fácil distinguir entre números y palabras, pero cuando tengas que trabajar con elementos como listas, diccionarios y tuplas, que son muy similares pero diferentes, vas a agradecer que Fede te haya enseñado a usar type todo el tiempo.\n",
    "\n",
    "De hecho, uno de mis maestros me hizo pensar esto: *****todos creen que la programación se trata de funciones fantásticas. No, me dijo él, la programación se trata de tipos de datos*****.\n",
    "\n",
    "En ese momento pensé que estaba exagerando. Pero créeme que la experiencia me hizo darle la razón.\n",
    "\n",
    "Antes de terminar esta lección, quiero que sepas que hay 3 palabras mágicas en python, que quiero que siempre tengas presente cuando programes. Una de ellas es TYPE. Las otras dos te las voy a decir a lo largo del curso.\n",
    "\n",
    "Estas tres palabras van a ser tus salvavidas, y cada vez que te sientas atascado, si las usas sabiamente, podras resolver cualquier atolladero.\n"
   ]
  },
  {
   "cell_type": "code",
   "execution_count": null,
   "id": "4b32c1de",
   "metadata": {},
   "outputs": [],
   "source": []
  }
 ],
 "metadata": {
  "kernelspec": {
   "display_name": "Python 3 (ipykernel)",
   "language": "python",
   "name": "python3"
  },
  "language_info": {
   "codemirror_mode": {
    "name": "ipython",
    "version": 3
   },
   "file_extension": ".py",
   "mimetype": "text/x-python",
   "name": "python",
   "nbconvert_exporter": "python",
   "pygments_lexer": "ipython3",
   "version": "3.11.5"
  }
 },
 "nbformat": 4,
 "nbformat_minor": 5
}
