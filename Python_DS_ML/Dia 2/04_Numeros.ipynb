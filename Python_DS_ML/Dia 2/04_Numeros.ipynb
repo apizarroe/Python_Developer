{
 "cells": [
  {
   "attachments": {},
   "cell_type": "markdown",
   "id": "d68f85a8",
   "metadata": {},
   "source": [
    "# Números\n",
    "\n",
    "En python existen **3 tipos de datos numéricos**:\n",
    "    * Enteros (int)\n",
    "    * Decimales (float)\n",
    "    * Complejos (complex)\n",
    "    \n",
    "Los números que hemos usado hasta ahora, son los **números enteros**. A este tipo de datos en python se lo denomina **int**, y este tipo de datos incluye a todos los números enteros, ya sean positivos o negativos, y también al cero."
   ]
  },
  {
   "cell_type": "code",
   "execution_count": 1,
   "id": "beb3609f",
   "metadata": {},
   "outputs": [
    {
     "data": {
      "text/plain": [
       "int"
      ]
     },
     "execution_count": 1,
     "metadata": {},
     "output_type": "execute_result"
    }
   ],
   "source": [
    "type(23)"
   ]
  },
  {
   "cell_type": "code",
   "execution_count": 2,
   "id": "a27535eb",
   "metadata": {},
   "outputs": [
    {
     "data": {
      "text/plain": [
       "int"
      ]
     },
     "execution_count": 2,
     "metadata": {},
     "output_type": "execute_result"
    }
   ],
   "source": [
    "type(-6)"
   ]
  },
  {
   "cell_type": "code",
   "execution_count": 3,
   "id": "af2e484d",
   "metadata": {},
   "outputs": [
    {
     "data": {
      "text/plain": [
       "int"
      ]
     },
     "execution_count": 3,
     "metadata": {},
     "output_type": "execute_result"
    }
   ],
   "source": [
    "type(0)"
   ]
  },
  {
   "cell_type": "markdown",
   "id": "677c0080",
   "metadata": {},
   "source": [
    "Los **números decimales** en python son conocidos como **float**, e incluyen a todos los números decimales tanto positivos como negativos."
   ]
  },
  {
   "cell_type": "code",
   "execution_count": 4,
   "id": "5d1ec57d",
   "metadata": {},
   "outputs": [
    {
     "data": {
      "text/plain": [
       "float"
      ]
     },
     "execution_count": 4,
     "metadata": {},
     "output_type": "execute_result"
    }
   ],
   "source": [
    "type(3.12)"
   ]
  },
  {
   "cell_type": "code",
   "execution_count": 5,
   "id": "0e5bf248",
   "metadata": {},
   "outputs": [
    {
     "name": "stdout",
     "output_type": "stream",
     "text": [
      "<class 'float'>\n",
      "<class 'float'>\n",
      "<class 'float'>\n"
     ]
    }
   ],
   "source": [
    "print(type(-2.5))\n",
    "print(type(0.0000001))\n",
    "print(type(246.598745215))"
   ]
  },
  {
   "attachments": {},
   "cell_type": "markdown",
   "id": "c4a600ed",
   "metadata": {},
   "source": [
    "El tercer tipo de datos, son los **números complejos**, a los que en python se denimina como **complex**. Este tipo de datos numéricos tienen dos dimensiones: una parte real y una parte imaginaria."
   ]
  },
  {
   "cell_type": "code",
   "execution_count": 6,
   "id": "74740dd0",
   "metadata": {},
   "outputs": [
    {
     "data": {
      "text/plain": [
       "(3+4j)"
      ]
     },
     "execution_count": 6,
     "metadata": {},
     "output_type": "execute_result"
    }
   ],
   "source": [
    "3 + 4J"
   ]
  },
  {
   "cell_type": "code",
   "execution_count": 7,
   "id": "b246b64d",
   "metadata": {},
   "outputs": [
    {
     "data": {
      "text/plain": [
       "(-5.2-5j)"
      ]
     },
     "execution_count": 7,
     "metadata": {},
     "output_type": "execute_result"
    }
   ],
   "source": [
    "-5.2 - 5J"
   ]
  },
  {
   "cell_type": "code",
   "execution_count": 8,
   "id": "ea27d0fa",
   "metadata": {},
   "outputs": [
    {
     "data": {
      "text/plain": [
       "complex"
      ]
     },
     "execution_count": 8,
     "metadata": {},
     "output_type": "execute_result"
    }
   ],
   "source": [
    "type(3 + 4J)"
   ]
  },
  {
   "attachments": {},
   "cell_type": "markdown",
   "id": "b3af1f66",
   "metadata": {},
   "source": [
    "En python podemos crear números complejos de dos formas, una es la forma directa a través de la notación como hemos hecho antes, y la otra es usando la función complex."
   ]
  },
  {
   "cell_type": "code",
   "execution_count": 9,
   "id": "d81cc327",
   "metadata": {},
   "outputs": [
    {
     "data": {
      "text/plain": [
       "(3+2j)"
      ]
     },
     "execution_count": 9,
     "metadata": {},
     "output_type": "execute_result"
    }
   ],
   "source": [
    "complex(3, 2)"
   ]
  },
  {
   "cell_type": "markdown",
   "id": "282f338b",
   "metadata": {},
   "source": [
    "Y por supuesto, también podemos almacenarlos en variables."
   ]
  },
  {
   "cell_type": "code",
   "execution_count": 10,
   "id": "16a1fb1b",
   "metadata": {},
   "outputs": [],
   "source": [
    "a = complex(3, 2)"
   ]
  },
  {
   "cell_type": "code",
   "execution_count": 11,
   "id": "4d182a6a",
   "metadata": {},
   "outputs": [
    {
     "data": {
      "text/plain": [
       "(3+2j)"
      ]
     },
     "execution_count": 11,
     "metadata": {},
     "output_type": "execute_result"
    }
   ],
   "source": [
    "a"
   ]
  },
  {
   "cell_type": "code",
   "execution_count": 12,
   "id": "b105c49d",
   "metadata": {},
   "outputs": [
    {
     "data": {
      "text/plain": [
       "complex"
      ]
     },
     "execution_count": 12,
     "metadata": {},
     "output_type": "execute_result"
    }
   ],
   "source": [
    "type(a)"
   ]
  },
  {
   "cell_type": "markdown",
   "id": "4084526a",
   "metadata": {},
   "source": [
    "Muy raramente veremos números complejos en el curso, pero según tu actividad principal, es posible que te los encuentres a lo largo de tu trabajo, y por eso te los muestro."
   ]
  }
 ],
 "metadata": {
  "kernelspec": {
   "display_name": "Python 3 (ipykernel)",
   "language": "python",
   "name": "python3"
  },
  "language_info": {
   "codemirror_mode": {
    "name": "ipython",
    "version": 3
   },
   "file_extension": ".py",
   "mimetype": "text/x-python",
   "name": "python",
   "nbconvert_exporter": "python",
   "pygments_lexer": "ipython3",
   "version": "3.11.5"
  }
 },
 "nbformat": 4,
 "nbformat_minor": 5
}
