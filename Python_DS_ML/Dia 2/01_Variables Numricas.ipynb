{
 "cells": [
  {
   "cell_type": "markdown",
   "id": "f67dddfc",
   "metadata": {},
   "source": [
    "# Variables Numéricas\n",
    "\n",
    "En una lección anterior te explicaba que en python tenemos objetos numéricos, como el 1. Entonces si necesitamos usar un número 1 en nuestro código, solo tenemos que escribirlo."
   ]
  },
  {
   "cell_type": "code",
   "execution_count": 1,
   "id": "da171110",
   "metadata": {},
   "outputs": [
    {
     "data": {
      "text/plain": [
       "1"
      ]
     },
     "execution_count": 1,
     "metadata": {},
     "output_type": "execute_result"
    }
   ],
   "source": [
    "1"
   ]
  },
  {
   "cell_type": "markdown",
   "id": "d3f19e1d",
   "metadata": {},
   "source": [
    "Pero también tenemos la posibilidad de ponerle una etiqueta a ese objeto, y de referirnos a ese objeto de ahora en más no por su nombre original (1), sino por el nombre que le pongamos a la etiqueta."
   ]
  },
  {
   "cell_type": "code",
   "execution_count": 2,
   "id": "0ce8d619",
   "metadata": {},
   "outputs": [],
   "source": [
    "miNumero = 1"
   ]
  },
  {
   "cell_type": "code",
   "execution_count": 3,
   "id": "4ef77617",
   "metadata": {},
   "outputs": [
    {
     "data": {
      "text/plain": [
       "1"
      ]
     },
     "execution_count": 3,
     "metadata": {},
     "output_type": "execute_result"
    }
   ],
   "source": [
    "miNumero"
   ]
  },
  {
   "cell_type": "markdown",
   "id": "c5390168",
   "metadata": {},
   "source": [
    "Entonces hasta el momento, Python ha creado dos objetos en nuestro entorno: el objeto 1, y el objeto \"miNumero\". Y al mismo tiempo ha usado el operador \"=\" para relacionar ambos objetos en la memoria.\n",
    "\n",
    "La palabra miNumero a partir de ahora es una **variable**. Es decir: es una etiqueta que podemos usar para decir \"1\"."
   ]
  },
  {
   "cell_type": "code",
   "execution_count": 4,
   "id": "de804a95",
   "metadata": {},
   "outputs": [
    {
     "data": {
      "text/plain": [
       "3"
      ]
     },
     "execution_count": 4,
     "metadata": {},
     "output_type": "execute_result"
    }
   ],
   "source": [
    "miNumero + 2"
   ]
  },
  {
   "cell_type": "markdown",
   "id": "76667a0b",
   "metadata": {},
   "source": [
    "Ahora vamos a crear una segunda variable y le asignaremos el valor **2**."
   ]
  },
  {
   "cell_type": "code",
   "execution_count": 5,
   "id": "cc19868f",
   "metadata": {},
   "outputs": [],
   "source": [
    "otroNumero = 2"
   ]
  },
  {
   "cell_type": "code",
   "execution_count": 6,
   "id": "efff5281",
   "metadata": {},
   "outputs": [
    {
     "data": {
      "text/plain": [
       "2"
      ]
     },
     "execution_count": 6,
     "metadata": {},
     "output_type": "execute_result"
    }
   ],
   "source": [
    "otroNumero"
   ]
  },
  {
   "cell_type": "markdown",
   "id": "5f93cb71",
   "metadata": {},
   "source": [
    "Ahora puedo hacer una operación llamando a estas dos variables, en lugar de a los valores que representan."
   ]
  },
  {
   "cell_type": "code",
   "execution_count": 7,
   "id": "53867af8",
   "metadata": {},
   "outputs": [
    {
     "data": {
      "text/plain": [
       "3"
      ]
     },
     "execution_count": 7,
     "metadata": {},
     "output_type": "execute_result"
    }
   ],
   "source": [
    "miNumero + otroNumero"
   ]
  },
  {
   "cell_type": "markdown",
   "id": "11de246d",
   "metadata": {},
   "source": [
    "Si usas la misma variable (es decir: la misma etiqueta) para asignarle un valor distinto, ahora esa variable será asignada a un nuevo valor."
   ]
  },
  {
   "cell_type": "code",
   "execution_count": 8,
   "id": "6541fe48",
   "metadata": {},
   "outputs": [],
   "source": [
    "miNumero = 3"
   ]
  },
  {
   "cell_type": "markdown",
   "id": "b370ddb6",
   "metadata": {},
   "source": [
    "De ahora en más cuando escribas **miNumero** ya no estarás diciendo **1**, sino que estarás diciendo **3**. Por eso se llaman \"variables\": porque los valores que representan… pueden variar. Su valor es variable.\n",
    "\n",
    "Si en python digo 1, siempre estaré diciendo 1. Pero si digo miNumero, lo que estoy diciendo depende del estado de la memoria en ese momento. Antes valía 1 y ahora vale 3. miNumero tiene un valor variable."
   ]
  },
  {
   "cell_type": "code",
   "execution_count": 9,
   "id": "b9635fa1",
   "metadata": {},
   "outputs": [
    {
     "data": {
      "text/plain": [
       "3"
      ]
     },
     "execution_count": 9,
     "metadata": {},
     "output_type": "execute_result"
    }
   ],
   "source": [
    "miNumero"
   ]
  },
  {
   "cell_type": "markdown",
   "id": "502e41cb",
   "metadata": {},
   "source": [
    "Ahora veamos que sucede si creo una nueva variable, pero le asigno un valor que ya ha sido asignado a otra variable."
   ]
  },
  {
   "cell_type": "code",
   "execution_count": 10,
   "id": "4ae71541",
   "metadata": {},
   "outputs": [],
   "source": [
    "nuevoNumero = 3"
   ]
  },
  {
   "cell_type": "markdown",
   "id": "0b58ebfb",
   "metadata": {},
   "source": [
    "A partir de ahora tenemos dos variables con el mismo valor ¿esto significa que python ha creado dos objetos **3** en mi entorno?\n",
    "\n",
    "En realidad no. No se crea un nuevo objeto **3**, sino que es el mismo objeto (el mismo número 3), al que se le han adherido 2 etiquetas: miNumero y nuevoNumero.\n",
    "\n",
    "Veamos qué sucede si llamamos a ese mismo objeto en una sola operación, usando sus dos etiquetas:"
   ]
  },
  {
   "cell_type": "code",
   "execution_count": 11,
   "id": "0715b3d6",
   "metadata": {},
   "outputs": [
    {
     "data": {
      "text/plain": [
       "6"
      ]
     },
     "execution_count": 11,
     "metadata": {},
     "output_type": "execute_result"
    }
   ],
   "source": [
    "miNumero + nuevoNumero"
   ]
  },
  {
   "cell_type": "markdown",
   "id": "f7c28d44",
   "metadata": {},
   "source": [
    "Si bien en mi entorno existe un solo numero **3**, lo puedo invocar de dos maneras distintas.\n",
    "\n",
    "Por otro lado, las variables tambien pueden reasignarse dinámicamente. Mira esto:"
   ]
  },
  {
   "cell_type": "code",
   "execution_count": 12,
   "id": "0a247abd",
   "metadata": {},
   "outputs": [],
   "source": [
    "miNumero = miNumero + 1"
   ]
  },
  {
   "cell_type": "code",
   "execution_count": 13,
   "id": "b4fb4d30",
   "metadata": {},
   "outputs": [
    {
     "data": {
      "text/plain": [
       "4"
      ]
     },
     "execution_count": 13,
     "metadata": {},
     "output_type": "execute_result"
    }
   ],
   "source": [
    "miNumero"
   ]
  }
 ],
 "metadata": {
  "kernelspec": {
   "display_name": "Python 3 (ipykernel)",
   "language": "python",
   "name": "python3"
  },
  "language_info": {
   "codemirror_mode": {
    "name": "ipython",
    "version": 3
   },
   "file_extension": ".py",
   "mimetype": "text/x-python",
   "name": "python",
   "nbconvert_exporter": "python",
   "pygments_lexer": "ipython3",
   "version": "3.11.5"
  }
 },
 "nbformat": 4,
 "nbformat_minor": 5
}
