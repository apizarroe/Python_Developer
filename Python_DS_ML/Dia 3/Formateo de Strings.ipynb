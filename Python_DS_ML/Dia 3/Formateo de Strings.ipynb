{
 "cells": [
  {
   "attachments": {},
   "cell_type": "markdown",
   "id": "2af91c3e",
   "metadata": {},
   "source": [
    "# Formateo de Strings\n",
    " \n",
    " Hasta ahora hemos visto que para concatenar strings, y así construir frases dinámicamente, usamos el signo **+**"
   ]
  },
  {
   "cell_type": "code",
   "execution_count": 1,
   "id": "e97913f0",
   "metadata": {},
   "outputs": [
    {
     "data": {
      "text/plain": [
       "'Hola Ana'"
      ]
     },
     "execution_count": 1,
     "metadata": {},
     "output_type": "execute_result"
    }
   ],
   "source": [
    "saludo = \"Hola\"\n",
    "nombre = \"Ana\"\n",
    "frase = saludo + \" \" + nombre\n",
    "frase"
   ]
  },
  {
   "cell_type": "markdown",
   "id": "424823b1",
   "metadata": {},
   "source": [
    "También vimos que si queremos mostrar valores numéricos en nuestros strings, primero debemos cambiar su tipo de dato"
   ]
  },
  {
   "cell_type": "code",
   "execution_count": 2,
   "id": "f04cd22d",
   "metadata": {},
   "outputs": [],
   "source": [
    "edad = 30"
   ]
  },
  {
   "cell_type": "code",
   "execution_count": 3,
   "id": "d225f141",
   "metadata": {},
   "outputs": [
    {
     "data": {
      "text/plain": [
       "'Hola Ana, tienes 30 años'"
      ]
     },
     "execution_count": 3,
     "metadata": {},
     "output_type": "execute_result"
    }
   ],
   "source": [
    "frase = saludo + \" \" + nombre + \", tienes \" + str(edad) + \" años\"\n",
    "frase"
   ]
  },
  {
   "cell_type": "markdown",
   "id": "3541c922",
   "metadata": {},
   "source": [
    "Pero existe un método que hace que este trabajo sea aún más sencillo y fácil de leer: el método **format()**, que consiste en dejar llaves curvas en los lugares donde deberían ir determinados valores clave, y luego colocar esos valores (en orden) dentro de los parámetros de format."
   ]
  },
  {
   "cell_type": "code",
   "execution_count": 4,
   "id": "a0d189bd",
   "metadata": {},
   "outputs": [
    {
     "data": {
      "text/plain": [
       "'Hola Ana, tienes 30 años'"
      ]
     },
     "execution_count": 4,
     "metadata": {},
     "output_type": "execute_result"
    }
   ],
   "source": [
    "frase = \"Hola {}, tienes {} años\".format(nombre, edad)\n",
    "frase"
   ]
  },
  {
   "cell_type": "markdown",
   "id": "d0a92e7c",
   "metadata": {},
   "source": [
    "A pesar de que esta es una forma mucho más sencilla de formatear cadenas, python ha desarrollado una versión reducida de **format()** que hace que los strings compuestos sean aún más fáciles de leer.\n",
    "\n",
    "Consiste en colocar la letra **f** (de format) antes del string, y luego colocar los valores clave directamente dentro de las llaves curvas."
   ]
  },
  {
   "cell_type": "markdown",
   "id": "68c06456",
   "metadata": {},
   "source": [
    "frase = f\"Hola {nombre}, tienes {edad} años\"\n",
    "frase"
   ]
  },
  {
   "cell_type": "markdown",
   "id": "2cfc161f",
   "metadata": {},
   "source": [
    "Observa que con ambos abordajes de **format()** no es necesario modificar los valores numéricos para integrarlos a nuestros strings."
   ]
  }
 ],
 "metadata": {
  "kernelspec": {
   "display_name": "Python 3 (ipykernel)",
   "language": "python",
   "name": "python3"
  },
  "language_info": {
   "codemirror_mode": {
    "name": "ipython",
    "version": 3
   },
   "file_extension": ".py",
   "mimetype": "text/x-python",
   "name": "python",
   "nbconvert_exporter": "python",
   "pygments_lexer": "ipython3",
   "version": "3.11.5"
  }
 },
 "nbformat": 4,
 "nbformat_minor": 5
}
