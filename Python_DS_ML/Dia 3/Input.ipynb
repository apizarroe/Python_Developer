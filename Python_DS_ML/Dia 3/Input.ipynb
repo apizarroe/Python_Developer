{
 "cells": [
  {
   "attachments": {},
   "cell_type": "markdown",
   "id": "f98e02d5",
   "metadata": {},
   "source": [
    "## Input\n",
    "\n",
    "En ocasiones vas a querer que tu código reciba información del usuario, para poder procesarla, almacenarla o mostrarla.\n",
    "\n",
    "Para eso existe la función **input**"
   ]
  },
  {
   "cell_type": "code",
   "execution_count": 1,
   "id": "82a7f322",
   "metadata": {},
   "outputs": [
    {
     "name": "stdout",
     "output_type": "stream",
     "text": [
      "Hola Mundo\n"
     ]
    },
    {
     "data": {
      "text/plain": [
       "'Hola Mundo'"
      ]
     },
     "execution_count": 1,
     "metadata": {},
     "output_type": "execute_result"
    }
   ],
   "source": [
    "input()"
   ]
  },
  {
   "cell_type": "markdown",
   "id": "1a2f2b95",
   "metadata": {},
   "source": [
    "Si escribes una instrucción dentro de los paréntesis, el usuario recibirá ese mensaje antes de ingresar su información"
   ]
  },
  {
   "cell_type": "code",
   "execution_count": 2,
   "id": "4182f699",
   "metadata": {},
   "outputs": [
    {
     "name": "stdout",
     "output_type": "stream",
     "text": [
      "Dime tu edad:48\n"
     ]
    },
    {
     "data": {
      "text/plain": [
       "'48'"
      ]
     },
     "execution_count": 2,
     "metadata": {},
     "output_type": "execute_result"
    }
   ],
   "source": [
    "input(\"Dime tu edad:\")"
   ]
  },
  {
   "cell_type": "markdown",
   "id": "2470fe6d",
   "metadata": {},
   "source": [
    "Para poder almacenar el ingreso del usuario (lo que te permitirá luego poder manipular esa información), debes guardar el input dentro de una variable:"
   ]
  },
  {
   "cell_type": "code",
   "execution_count": 3,
   "id": "098f44ca",
   "metadata": {},
   "outputs": [
    {
     "name": "stdout",
     "output_type": "stream",
     "text": [
      "Por favor, dime tu nombre:Fede\n",
      "Hola Fede!\n"
     ]
    }
   ],
   "source": [
    "nombre = input(\"Por favor, dime tu nombre:\")\n",
    "print(\"Hola \" + nombre + \"!\")"
   ]
  },
  {
   "cell_type": "markdown",
   "id": "12a8cd41",
   "metadata": {},
   "source": [
    "Los ingresos de usuario siempre serán almacenados como strings, aunque el usuario ingrese números"
   ]
  },
  {
   "cell_type": "code",
   "execution_count": 4,
   "id": "47405781",
   "metadata": {},
   "outputs": [
    {
     "name": "stdout",
     "output_type": "stream",
     "text": [
      "Dime tu edad:48\n"
     ]
    }
   ],
   "source": [
    "edad = input(\"Dime tu edad:\")"
   ]
  },
  {
   "cell_type": "code",
   "execution_count": 5,
   "id": "ff7110f9",
   "metadata": {},
   "outputs": [
    {
     "data": {
      "text/plain": [
       "str"
      ]
     },
     "execution_count": 5,
     "metadata": {},
     "output_type": "execute_result"
    }
   ],
   "source": [
    "type(edad)"
   ]
  },
  {
   "cell_type": "markdown",
   "id": "ce179520",
   "metadata": {},
   "source": [
    "Si necesitas que ese ingreso sea tratado como número para poder operaciones con él, recuerda que cuentas con el método **int()**"
   ]
  },
  {
   "cell_type": "code",
   "execution_count": 6,
   "id": "8ce29b3d",
   "metadata": {},
   "outputs": [
    {
     "name": "stdout",
     "output_type": "stream",
     "text": [
      "Dime tu edad:48\n"
     ]
    }
   ],
   "source": [
    "edad = int(input(\"Dime tu edad:\"))"
   ]
  },
  {
   "cell_type": "code",
   "execution_count": 7,
   "id": "5232c959",
   "metadata": {},
   "outputs": [
    {
     "data": {
      "text/plain": [
       "int"
      ]
     },
     "execution_count": 7,
     "metadata": {},
     "output_type": "execute_result"
    }
   ],
   "source": [
    "type(edad)"
   ]
  },
  {
   "cell_type": "markdown",
   "id": "74c780c5",
   "metadata": {},
   "source": [
    "Una manera alternativa de hacer lo mismo (más extensa pero más legible), sería la siguiente:"
   ]
  },
  {
   "cell_type": "code",
   "execution_count": 8,
   "id": "d2063e83",
   "metadata": {},
   "outputs": [
    {
     "name": "stdout",
     "output_type": "stream",
     "text": [
      "Dime tu edad:48\n"
     ]
    }
   ],
   "source": [
    "edad = input(\"Dime tu edad:\")\n",
    "edad = int(edad)"
   ]
  },
  {
   "cell_type": "code",
   "execution_count": 9,
   "id": "feaed700",
   "metadata": {},
   "outputs": [
    {
     "data": {
      "text/plain": [
       "int"
      ]
     },
     "execution_count": 9,
     "metadata": {},
     "output_type": "execute_result"
    }
   ],
   "source": [
    "type(edad)"
   ]
  },
  {
   "cell_type": "markdown",
   "id": "265e48b7",
   "metadata": {},
   "source": [
    "Y ahora le demos una aplicación práctica a lo que hemos aprendido. Vamos a crear un pequeño código que le pida dos números al usuario, y le devuelva la suma de esos números."
   ]
  },
  {
   "cell_type": "code",
   "execution_count": 10,
   "id": "e66b4e61",
   "metadata": {},
   "outputs": [
    {
     "name": "stdout",
     "output_type": "stream",
     "text": [
      "Dime el primero número:4\n",
      "Dime el segundo número:6\n",
      "La suma es 10\n"
     ]
    }
   ],
   "source": [
    "a = int(input(\"Dime el primero número:\"))\n",
    "b = int(input(\"Dime el segundo número:\"))\n",
    "suma = a + b\n",
    "print(\"La suma es \" + str(suma))"
   ]
  }
 ],
 "metadata": {
  "kernelspec": {
   "display_name": "Python 3 (ipykernel)",
   "language": "python",
   "name": "python3"
  },
  "language_info": {
   "codemirror_mode": {
    "name": "ipython",
    "version": 3
   },
   "file_extension": ".py",
   "mimetype": "text/x-python",
   "name": "python",
   "nbconvert_exporter": "python",
   "pygments_lexer": "ipython3",
   "version": "3.11.5"
  }
 },
 "nbformat": 4,
 "nbformat_minor": 5
}
