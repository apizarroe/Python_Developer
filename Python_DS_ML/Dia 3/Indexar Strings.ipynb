{
 "cells": [
  {
   "cell_type": "markdown",
   "id": "2732cebd",
   "metadata": {},
   "source": [
    "## Indexar Strings\n",
    "\n",
    "Otra cosa que podemos hacer con los strings, es indexarlos.\n",
    "\n",
    "### ¿Pero qué es indexar?\n",
    "\n",
    "Dijimos que los strings son secuencias de caracteres, es decir una colección de caracteres puestos uno después del otro. Esto significa que cada caracter tiene un lugar específico en la cadena, y por lo tanto podemos numerar esos lugares (comenzando por el índice 0)\n",
    "\n",
    "Tomemos un ejemplo:"
   ]
  },
  {
   "cell_type": "code",
   "execution_count": 1,
   "id": "e462dfad",
   "metadata": {},
   "outputs": [],
   "source": [
    "palabra = \"manzana\""
   ]
  },
  {
   "cell_type": "markdown",
   "id": "00e5d464",
   "metadata": {},
   "source": [
    "En este caso, los índices de **palabra** son:\n",
    "\n",
    "| ÍNDICE | CARACTER |\n",
    "|--------|----------|\n",
    "| 0 | m |\n",
    "| 1 | a |\n",
    "| 2 | n |\n",
    "| 3 | z |\n",
    "| 4 | a |\n",
    "| 5 | n |\n",
    "| 6 | a |\n",
    "\n",
    "Para consultar qué caracter se encuentra en un determinado índice, puedo llamar a la variable, y entre llaves cuadradas colocar el número de índice que quiero consultar."
   ]
  },
  {
   "cell_type": "code",
   "execution_count": 2,
   "id": "7d5e6526",
   "metadata": {},
   "outputs": [
    {
     "data": {
      "text/plain": [
       "'m'"
      ]
     },
     "execution_count": 2,
     "metadata": {},
     "output_type": "execute_result"
    }
   ],
   "source": [
    "palabra[0]"
   ]
  },
  {
   "cell_type": "code",
   "execution_count": 3,
   "id": "aaaa8e6a",
   "metadata": {},
   "outputs": [
    {
     "data": {
      "text/plain": [
       "'a'"
      ]
     },
     "execution_count": 3,
     "metadata": {},
     "output_type": "execute_result"
    }
   ],
   "source": [
    "palabra[1]"
   ]
  },
  {
   "cell_type": "markdown",
   "id": "7ad97f55",
   "metadata": {},
   "source": [
    "Si reasigno el valor de la variable, al volver a consultar los mismos índices voy a recibir valores diferentes."
   ]
  },
  {
   "cell_type": "code",
   "execution_count": 4,
   "id": "b7ce5339",
   "metadata": {},
   "outputs": [
    {
     "name": "stdout",
     "output_type": "stream",
     "text": [
      "p\n",
      "o\n"
     ]
    }
   ],
   "source": [
    "palabra = \"pomelo\"\n",
    "print(palabra[0])\n",
    "print(palabra[1])"
   ]
  },
  {
   "cell_type": "code",
   "execution_count": 5,
   "id": "1a544c4f",
   "metadata": {},
   "outputs": [
    {
     "name": "stdout",
     "output_type": "stream",
     "text": [
      "c\n",
      "i\n"
     ]
    }
   ],
   "source": [
    "palabra = \"ciruela\"\n",
    "print(palabra[0])\n",
    "print(palabra[1])"
   ]
  },
  {
   "cell_type": "markdown",
   "id": "26c95b35",
   "metadata": {},
   "source": [
    "Si dentro de las llaves coloco números negativos, la consulta se realizará de derecha a izquierda, pero esta vez comenzando desde -1 (y no desde 0)"
   ]
  },
  {
   "cell_type": "code",
   "execution_count": 6,
   "id": "973af5c2",
   "metadata": {},
   "outputs": [
    {
     "data": {
      "text/plain": [
       "'a'"
      ]
     },
     "execution_count": 6,
     "metadata": {},
     "output_type": "execute_result"
    }
   ],
   "source": [
    "palabra[-1]"
   ]
  },
  {
   "cell_type": "code",
   "execution_count": 7,
   "id": "361d9d40",
   "metadata": {},
   "outputs": [
    {
     "data": {
      "text/plain": [
       "'l'"
      ]
     },
     "execution_count": 7,
     "metadata": {},
     "output_type": "execute_result"
    }
   ],
   "source": [
    "palabra[-2]"
   ]
  },
  {
   "cell_type": "markdown",
   "id": "7e45c29b",
   "metadata": {},
   "source": [
    "También puedo usar la indexación para recibir segmentos del string en lugar de caracteres únicos.\n",
    "Para esto, dentro de las llaves debo proveer dos índices separados por dos puntos (**:**).\n",
    "\n",
    "    * índice de inicio del segmento\n",
    "    * índice inmediato posterior al del final del segmento"
   ]
  },
  {
   "cell_type": "code",
   "execution_count": 8,
   "id": "eac45258",
   "metadata": {},
   "outputs": [
    {
     "data": {
      "text/plain": [
       "'ciru'"
      ]
     },
     "execution_count": 8,
     "metadata": {},
     "output_type": "execute_result"
    }
   ],
   "source": [
    "palabra[0:4]"
   ]
  },
  {
   "cell_type": "markdown",
   "id": "cc3154fe",
   "metadata": {},
   "source": [
    "Si vas a comenzar por el índice 0, puedes obviarlo, ya que ese es el valor que viene por defecto"
   ]
  },
  {
   "cell_type": "code",
   "execution_count": 9,
   "id": "3773a667",
   "metadata": {},
   "outputs": [
    {
     "data": {
      "text/plain": [
       "'ciru'"
      ]
     },
     "execution_count": 9,
     "metadata": {},
     "output_type": "execute_result"
    }
   ],
   "source": [
    "palabra[:4]"
   ]
  },
  {
   "cell_type": "markdown",
   "id": "59bcae0f",
   "metadata": {},
   "source": [
    "Si quiero obtener el segmento 'ela' de la palabra 'ciruela'..."
   ]
  },
  {
   "cell_type": "code",
   "execution_count": 10,
   "id": "1c658851",
   "metadata": {},
   "outputs": [
    {
     "data": {
      "text/plain": [
       "'ela'"
      ]
     },
     "execution_count": 10,
     "metadata": {},
     "output_type": "execute_result"
    }
   ],
   "source": [
    "palabra[4:7]"
   ]
  },
  {
   "cell_type": "markdown",
   "id": "e8eb54c6",
   "metadata": {},
   "source": [
    "Observa que si bien 'ciruela' llega hasta el índice 6, tuve que poner el número posterior (7) aunque ese índice no existe en mi string, pero de otro modo hubiese llegado hasta el caracter anterior.\n",
    "\n",
    "De hecho, puedes excederte todo lo que quieras, y aún así no va a dar error"
   ]
  },
  {
   "cell_type": "code",
   "execution_count": 11,
   "id": "b8660eba",
   "metadata": {},
   "outputs": [
    {
     "data": {
      "text/plain": [
       "'ela'"
      ]
     },
     "execution_count": 11,
     "metadata": {},
     "output_type": "execute_result"
    }
   ],
   "source": [
    "palabra[4:30]"
   ]
  },
  {
   "cell_type": "markdown",
   "id": "9c466e0f",
   "metadata": {},
   "source": [
    "Otra manera de incluir los caracteres finales, es no colocar nada en ese lugar, ya que por defecto python indexará hasta el último caracter del string."
   ]
  },
  {
   "cell_type": "code",
   "execution_count": 12,
   "id": "f765f472",
   "metadata": {},
   "outputs": [
    {
     "data": {
      "text/plain": [
       "'ela'"
      ]
     },
     "execution_count": 12,
     "metadata": {},
     "output_type": "execute_result"
    }
   ],
   "source": [
    "palabra[4:]"
   ]
  },
  {
   "cell_type": "markdown",
   "id": "3002b288",
   "metadata": {},
   "source": [
    "También puedo tomar un segmento que vaya saltando tantos lugares como le indique, si agrego un tercer parámetro dentro de las llaves:"
   ]
  },
  {
   "cell_type": "code",
   "execution_count": 13,
   "id": "eb5dddf0",
   "metadata": {},
   "outputs": [
    {
     "data": {
      "text/plain": [
       "'cre'"
      ]
     },
     "execution_count": 13,
     "metadata": {},
     "output_type": "execute_result"
    }
   ],
   "source": [
    "palabra[0:5:2]"
   ]
  },
  {
   "cell_type": "code",
   "execution_count": 14,
   "id": "b84c5749",
   "metadata": {},
   "outputs": [
    {
     "data": {
      "text/plain": [
       "'cua'"
      ]
     },
     "execution_count": 14,
     "metadata": {},
     "output_type": "execute_result"
    }
   ],
   "source": [
    "palabra[::3]"
   ]
  },
  {
   "cell_type": "markdown",
   "id": "dee9eece",
   "metadata": {},
   "source": [
    "Finalmente, ten en cuenta que sin importar cuanto indexes o segmentes tu string, siempre podrás aplicar todos los métodos de string a los resultados que obtengas."
   ]
  },
  {
   "cell_type": "code",
   "execution_count": 15,
   "id": "62206cb8",
   "metadata": {},
   "outputs": [
    {
     "data": {
      "text/plain": [
       "'CIRU'"
      ]
     },
     "execution_count": 15,
     "metadata": {},
     "output_type": "execute_result"
    }
   ],
   "source": [
    "palabra[0:4].upper()"
   ]
  }
 ],
 "metadata": {
  "kernelspec": {
   "display_name": "Python 3 (ipykernel)",
   "language": "python",
   "name": "python3"
  },
  "language_info": {
   "codemirror_mode": {
    "name": "ipython",
    "version": 3
   },
   "file_extension": ".py",
   "mimetype": "text/x-python",
   "name": "python",
   "nbconvert_exporter": "python",
   "pygments_lexer": "ipython3",
   "version": "3.11.5"
  }
 },
 "nbformat": 4,
 "nbformat_minor": 5
}
