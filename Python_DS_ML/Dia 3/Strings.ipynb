{
 "cells": [
  {
   "attachments": {},
   "cell_type": "markdown",
   "id": "76741b7c",
   "metadata": {},
   "source": [
    "## Strings\n",
    "\n",
    "Ya vimos que los strings son un tipo de dato, y que son tratados por python como una **secuencia de caracteres**."
   ]
  },
  {
   "cell_type": "code",
   "execution_count": 1,
   "id": "c225e243",
   "metadata": {},
   "outputs": [],
   "source": [
    "palabra = \"manzana\""
   ]
  },
  {
   "cell_type": "code",
   "execution_count": 2,
   "id": "e7c12095",
   "metadata": {},
   "outputs": [
    {
     "data": {
      "text/plain": [
       "str"
      ]
     },
     "execution_count": 2,
     "metadata": {},
     "output_type": "execute_result"
    }
   ],
   "source": [
    "type(palabra)"
   ]
  },
  {
   "cell_type": "code",
   "execution_count": 3,
   "id": "8cf9a074",
   "metadata": {},
   "outputs": [
    {
     "data": {
      "text/plain": [
       "'manzana'"
      ]
     },
     "execution_count": 3,
     "metadata": {},
     "output_type": "execute_result"
    }
   ],
   "source": [
    "palabra"
   ]
  },
  {
   "attachments": {},
   "cell_type": "markdown",
   "id": "c9b94b1a",
   "metadata": {},
   "source": [
    "Recuerda que python puede decir \"manzana\", pero python no tiene idea qué es una manzana. Para python esto es solamente una secuencia de caracteres que comienza con \"m\", sigue con \"a\" y así sucesivamente. Esto, lejos de ser un límite, nos brinda la oportunidad de hacer muchas cosas con los strings.\n",
    "\n",
    "Podemos hacer muchas cosas con los strings, y esto es porque en python todos los objetos tienen sus propios métodos. Recuerda que antes te dije que los métodos sirven para hacer que los objetos hagan cosas. ¿Y qué métodos tenemos para los strings?\n",
    "\n",
    "Uno de ellos es **upper()** que sirve para pasar todos los caracteres alfabéticos del string a mayúsculas."
   ]
  },
  {
   "cell_type": "code",
   "execution_count": 4,
   "id": "113aacc5",
   "metadata": {},
   "outputs": [
    {
     "data": {
      "text/plain": [
       "'MANZANA'"
      ]
     },
     "execution_count": 4,
     "metadata": {},
     "output_type": "execute_result"
    }
   ],
   "source": [
    "palabra.upper()"
   ]
  },
  {
   "cell_type": "markdown",
   "id": "b1433413",
   "metadata": {},
   "source": [
    "Pero es importante tener en cuenta que los strings son inmutables, es decir que no los puedes modificar.\n",
    "\n",
    "- ¿Cómo que no puedo modificarlos? ¡Acabo de transformar mi **manzana** en **MANZANA**!\n",
    "\n",
    "¿Ah, si? Veamos. Vuelve a consultar el contenido de **palabra**"
   ]
  },
  {
   "cell_type": "code",
   "execution_count": 5,
   "id": "c421e035",
   "metadata": {},
   "outputs": [
    {
     "data": {
      "text/plain": [
       "'manzana'"
      ]
     },
     "execution_count": 5,
     "metadata": {},
     "output_type": "execute_result"
    }
   ],
   "source": [
    "palabra"
   ]
  },
  {
   "cell_type": "markdown",
   "id": "7b6f0b4e",
   "metadata": {},
   "source": [
    "¿Pero qué ha pasado aquí? ¡Si antes yo he aplicado **upper()** y juro que se mostró en mayúsculas!\n",
    "\n",
    "Efectivamente. Pero es fundamental recordar que los strings son inmutables SIEMPRE, por lo tanto, cuando aplicamos un método para modificarlos, en realidad estamos creando una **copia modificada**, mientras que el string original permanece intacto.\n",
    "\n",
    "Si queremos conservar la copia modificada, entonces debemos aplicar el método al guardar la copia en una nueva variable."
   ]
  },
  {
   "cell_type": "code",
   "execution_count": 6,
   "id": "faf28ebd",
   "metadata": {},
   "outputs": [],
   "source": [
    "palabraMay = palabra.upper()"
   ]
  },
  {
   "cell_type": "code",
   "execution_count": 7,
   "id": "a421332e",
   "metadata": {},
   "outputs": [
    {
     "data": {
      "text/plain": [
       "'manzana'"
      ]
     },
     "execution_count": 7,
     "metadata": {},
     "output_type": "execute_result"
    }
   ],
   "source": [
    "palabra"
   ]
  },
  {
   "cell_type": "code",
   "execution_count": 8,
   "id": "aafc439c",
   "metadata": {},
   "outputs": [
    {
     "data": {
      "text/plain": [
       "'MANZANA'"
      ]
     },
     "execution_count": 8,
     "metadata": {},
     "output_type": "execute_result"
    }
   ],
   "source": [
    "palabraMay"
   ]
  },
  {
   "cell_type": "markdown",
   "id": "70de398c",
   "metadata": {},
   "source": [
    "Si quieres conocer todos los métodos disponibles en un determinado objeto, puedes consultarlos ya sea escribiendo un punto (**.**) y presionando **TAB**, o bien ejecutar la función **dir()** con el objeto a consultar dentro de los paréntesis."
   ]
  },
  {
   "cell_type": "code",
   "execution_count": 9,
   "id": "0138dd5c",
   "metadata": {},
   "outputs": [
    {
     "data": {
      "text/plain": [
       "['__add__',\n",
       " '__class__',\n",
       " '__contains__',\n",
       " '__delattr__',\n",
       " '__dir__',\n",
       " '__doc__',\n",
       " '__eq__',\n",
       " '__format__',\n",
       " '__ge__',\n",
       " '__getattribute__',\n",
       " '__getitem__',\n",
       " '__getnewargs__',\n",
       " '__getstate__',\n",
       " '__gt__',\n",
       " '__hash__',\n",
       " '__init__',\n",
       " '__init_subclass__',\n",
       " '__iter__',\n",
       " '__le__',\n",
       " '__len__',\n",
       " '__lt__',\n",
       " '__mod__',\n",
       " '__mul__',\n",
       " '__ne__',\n",
       " '__new__',\n",
       " '__reduce__',\n",
       " '__reduce_ex__',\n",
       " '__repr__',\n",
       " '__rmod__',\n",
       " '__rmul__',\n",
       " '__setattr__',\n",
       " '__sizeof__',\n",
       " '__str__',\n",
       " '__subclasshook__',\n",
       " 'capitalize',\n",
       " 'casefold',\n",
       " 'center',\n",
       " 'count',\n",
       " 'encode',\n",
       " 'endswith',\n",
       " 'expandtabs',\n",
       " 'find',\n",
       " 'format',\n",
       " 'format_map',\n",
       " 'index',\n",
       " 'isalnum',\n",
       " 'isalpha',\n",
       " 'isascii',\n",
       " 'isdecimal',\n",
       " 'isdigit',\n",
       " 'isidentifier',\n",
       " 'islower',\n",
       " 'isnumeric',\n",
       " 'isprintable',\n",
       " 'isspace',\n",
       " 'istitle',\n",
       " 'isupper',\n",
       " 'join',\n",
       " 'ljust',\n",
       " 'lower',\n",
       " 'lstrip',\n",
       " 'maketrans',\n",
       " 'partition',\n",
       " 'removeprefix',\n",
       " 'removesuffix',\n",
       " 'replace',\n",
       " 'rfind',\n",
       " 'rindex',\n",
       " 'rjust',\n",
       " 'rpartition',\n",
       " 'rsplit',\n",
       " 'rstrip',\n",
       " 'split',\n",
       " 'splitlines',\n",
       " 'startswith',\n",
       " 'strip',\n",
       " 'swapcase',\n",
       " 'title',\n",
       " 'translate',\n",
       " 'upper',\n",
       " 'zfill']"
      ]
     },
     "execution_count": 9,
     "metadata": {},
     "output_type": "execute_result"
    }
   ],
   "source": [
    "dir(palabra)"
   ]
  },
  {
   "cell_type": "markdown",
   "id": "68b6774b",
   "metadata": {},
   "source": [
    "Por ejemplo, tomemos de la lista el método **capitalize()** y veamos qué hace."
   ]
  },
  {
   "cell_type": "code",
   "execution_count": 10,
   "id": "14561f6c",
   "metadata": {},
   "outputs": [
    {
     "data": {
      "text/plain": [
       "'Manzana'"
      ]
     },
     "execution_count": 10,
     "metadata": {},
     "output_type": "execute_result"
    }
   ],
   "source": [
    "palabra.capitalize()"
   ]
  },
  {
   "cell_type": "markdown",
   "id": "c3cddfdd",
   "metadata": {},
   "source": [
    "Y si no quieres estar adivinando, puedes consultar la ayuda de cada método (qué hace, y su sintaxis), de dos maneras:\n",
    "    * Escribiendo el método y presionando **Shift + TAB**\n",
    "    * Usando la función **help()** con el método dentro de los paréntesis"
   ]
  },
  {
   "cell_type": "code",
   "execution_count": 11,
   "id": "be107d94",
   "metadata": {},
   "outputs": [
    {
     "name": "stdout",
     "output_type": "stream",
     "text": [
      "Help on built-in function capitalize:\n",
      "\n",
      "capitalize() method of builtins.str instance\n",
      "    Return a capitalized version of the string.\n",
      "    \n",
      "    More specifically, make the first character have upper case and the rest lower\n",
      "    case.\n",
      "\n"
     ]
    }
   ],
   "source": [
    "help(palabra.capitalize)"
   ]
  },
  {
   "cell_type": "markdown",
   "id": "20afe735",
   "metadata": {},
   "source": [
    "Una manera diferente de implementar los métodos:\n",
    "\n",
    "    [tipo de dato].[método]([objeto])"
   ]
  },
  {
   "cell_type": "code",
   "execution_count": 12,
   "id": "610e3ac6",
   "metadata": {},
   "outputs": [
    {
     "data": {
      "text/plain": [
       "'Manzana'"
      ]
     },
     "execution_count": 12,
     "metadata": {},
     "output_type": "execute_result"
    }
   ],
   "source": [
    "str.capitalize(palabra)"
   ]
  }
 ],
 "metadata": {
  "kernelspec": {
   "display_name": "Python 3 (ipykernel)",
   "language": "python",
   "name": "python3"
  },
  "language_info": {
   "codemirror_mode": {
    "name": "ipython",
    "version": 3
   },
   "file_extension": ".py",
   "mimetype": "text/x-python",
   "name": "python",
   "nbconvert_exporter": "python",
   "pygments_lexer": "ipython3",
   "version": "3.11.5"
  }
 },
 "nbformat": 4,
 "nbformat_minor": 5
}
