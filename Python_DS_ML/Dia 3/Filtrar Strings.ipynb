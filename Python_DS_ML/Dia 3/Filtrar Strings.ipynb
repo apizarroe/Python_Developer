{
 "cells": [
  {
   "cell_type": "markdown",
   "id": "dabe91e2",
   "metadata": {},
   "source": [
    "## Filtrar Strings"
   ]
  },
  {
   "cell_type": "markdown",
   "id": "c12956be",
   "metadata": {},
   "source": [
    "Supongamos que quiero conocer cuantas veces aparece la letra \"a\" en mi string.\n",
    "Te presento al método **count()**:"
   ]
  },
  {
   "cell_type": "code",
   "execution_count": 1,
   "id": "a08d9619",
   "metadata": {},
   "outputs": [
    {
     "data": {
      "text/plain": [
       "3"
      ]
     },
     "execution_count": 1,
     "metadata": {},
     "output_type": "execute_result"
    }
   ],
   "source": [
    "palabra = \"banana\"\n",
    "palabra.count(\"a\")"
   ]
  },
  {
   "cell_type": "markdown",
   "id": "5fb6eb63",
   "metadata": {},
   "source": [
    "También puedo usar el mismo método para contar los espacios en blanco de un string."
   ]
  },
  {
   "cell_type": "code",
   "execution_count": 2,
   "id": "055ee362",
   "metadata": {},
   "outputs": [
    {
     "data": {
      "text/plain": [
       "5"
      ]
     },
     "execution_count": 2,
     "metadata": {},
     "output_type": "execute_result"
    }
   ],
   "source": [
    "frase = \"estudiar python es una gran decisión\"\n",
    "frase.count(\" \")"
   ]
  },
  {
   "cell_type": "markdown",
   "id": "534da830",
   "metadata": {},
   "source": [
    "Genial. Entonces también puedo aprovechar este método para contar la cantidad de palabras que hay en un string, siempre y cuando agregue una unidad al final para contar la palabra que aparece luego del último espacio."
   ]
  },
  {
   "cell_type": "code",
   "execution_count": 3,
   "id": "7ae59824",
   "metadata": {},
   "outputs": [
    {
     "name": "stdout",
     "output_type": "stream",
     "text": [
      "6\n"
     ]
    }
   ],
   "source": [
    "print(frase.count(\" \") + 1)"
   ]
  },
  {
   "cell_type": "markdown",
   "id": "0e2b28e2",
   "metadata": {},
   "source": [
    "El problema se presentaría si por error mi string tuviese espacios extra ya sea al comienzo o al final, ya que eso desvirtuaría la cuenta, y no representaría la cantidad de palabras.\n",
    "\n",
    "Esto se puede resolver con el método **strip()** que sirve para eliminar los espacios vacíos al comienzo o al final de un string."
   ]
  },
  {
   "cell_type": "code",
   "execution_count": 4,
   "id": "238d9058",
   "metadata": {},
   "outputs": [],
   "source": [
    "frase2 = \" estudiar python es una gran decisión \""
   ]
  },
  {
   "cell_type": "code",
   "execution_count": 5,
   "id": "73a9413e",
   "metadata": {},
   "outputs": [
    {
     "name": "stdout",
     "output_type": "stream",
     "text": [
      "6\n"
     ]
    }
   ],
   "source": [
    "print(frase.strip().count(\" \") + 1)"
   ]
  },
  {
   "cell_type": "markdown",
   "id": "e7ef9a35",
   "metadata": {},
   "source": [
    "¿Y si lo que quiero no es saber cuantas palabras hay en un string, sino conocer cuáles son las palabras que contiene?\n",
    "La solución es utilizar el método **split()** que se encarga de separar al string en múltiples substrings, tomando como separador al caracter que tu elijas. Entonces si le pedimos que lo separe en base a los espacios vacíos, recibiremos la lista de substrings que corresponde a las palabras completas."
   ]
  },
  {
   "cell_type": "code",
   "execution_count": 6,
   "id": "8ff90447",
   "metadata": {},
   "outputs": [
    {
     "data": {
      "text/plain": [
       "['estudiar', 'python', 'es', 'una', 'gran', 'decisión']"
      ]
     },
     "execution_count": 6,
     "metadata": {},
     "output_type": "execute_result"
    }
   ],
   "source": [
    "frase.split(\" \")"
   ]
  }
 ],
 "metadata": {
  "kernelspec": {
   "display_name": "Python 3 (ipykernel)",
   "language": "python",
   "name": "python3"
  },
  "language_info": {
   "codemirror_mode": {
    "name": "ipython",
    "version": 3
   },
   "file_extension": ".py",
   "mimetype": "text/x-python",
   "name": "python",
   "nbconvert_exporter": "python",
   "pygments_lexer": "ipython3",
   "version": "3.11.5"
  }
 },
 "nbformat": 4,
 "nbformat_minor": 5
}
