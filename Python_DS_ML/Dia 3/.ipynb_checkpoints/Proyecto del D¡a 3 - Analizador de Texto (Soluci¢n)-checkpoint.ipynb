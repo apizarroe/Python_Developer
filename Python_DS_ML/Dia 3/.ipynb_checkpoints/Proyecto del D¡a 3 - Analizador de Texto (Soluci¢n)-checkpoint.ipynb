{
 "cells": [
  {
   "cell_type": "markdown",
   "id": "9572445f",
   "metadata": {},
   "source": [
    "# Proyecto del Día 3: Analizador de Texto (Solución)\n",
    "\n",
    "\n",
    "## Consigna\n",
    "Vas a crear un programa que le pida al usuario que ingrese un texto de al menos 10 palabras. Tu programa va a procesar ese texto, lo va a procesar, y le va a devolver un análisis detallado, que incluya:\n",
    "1. Contar el número total de caracteres en el texto\n",
    "2. Contar el número de caracteres sin incluir los espacios\n",
    "3. Contar la cantidad de vocales que hay en el texto\n",
    "4. Contar el número total de palabras en el texto ingresado\n",
    "\n",
    "**nota**: para resolver los siguientes items, deberás investigar otros métodos de strings que no hemos visto. Recuerda valerte de *type*, *dir* y *help*\n",
    "\n",
    "5. Eliminar la primera palabra\n",
    "6. Reemplazar todos los espacios por guiones medios (-)\n",
    "8. Cambia las mayúsculas a minúsculas y las minúsculas a mayúsculas \n",
    "\n",
    "Al finalizar el procesamiento, se imprimirán 8 cadenas literales mostrando los resultados del análisis (una cadena por cada resultado).\n",
    "<br>\n",
    "<br>\n",
    "<br>"
   ]
  },
  {
   "cell_type": "markdown",
   "id": "816303bb",
   "metadata": {},
   "source": [
    "### Resolución\n",
    "\n",
    "Ingreso del usuario:"
   ]
  },
  {
   "cell_type": "code",
   "execution_count": 1,
   "id": "685e56f9",
   "metadata": {},
   "outputs": [
    {
     "name": "stdout",
     "output_type": "stream",
     "text": [
      "Ingresa un texto de al menos 10 palabras:Este curso de Python para Data Science te va a llevar a lo máximo\n"
     ]
    }
   ],
   "source": [
    "texto = input(\"Ingresa un texto de al menos 10 palabras:\")"
   ]
  },
  {
   "cell_type": "markdown",
   "id": "eb145d5b",
   "metadata": {},
   "source": [
    "1. Contar el número total de caracteres en el texto"
   ]
  },
  {
   "cell_type": "code",
   "execution_count": 2,
   "id": "75860144",
   "metadata": {},
   "outputs": [
    {
     "data": {
      "text/plain": [
       "65"
      ]
     },
     "execution_count": 2,
     "metadata": {},
     "output_type": "execute_result"
    }
   ],
   "source": [
    "num_caracteres = len(texto)\n",
    "num_caracteres"
   ]
  },
  {
   "cell_type": "markdown",
   "id": "111c63fe",
   "metadata": {},
   "source": [
    "2. Contar el número de caracteres sin incluir los espacios"
   ]
  },
  {
   "cell_type": "code",
   "execution_count": 4,
   "id": "5687bf50",
   "metadata": {},
   "outputs": [
    {
     "data": {
      "text/plain": [
       "52"
      ]
     },
     "execution_count": 4,
     "metadata": {},
     "output_type": "execute_result"
    }
   ],
   "source": [
    "num_espacios = texto.count(\" \")\n",
    "num_caracteres_sin_espacio = num_caracteres - num_espacios\n",
    "num_caracteres_sin_espacio"
   ]
  },
  {
   "cell_type": "markdown",
   "id": "4634db77",
   "metadata": {},
   "source": [
    "3. Contar la cantidad de vocales que hay en el texto"
   ]
  },
  {
   "cell_type": "code",
   "execution_count": 5,
   "id": "3c0643ab",
   "metadata": {},
   "outputs": [
    {
     "data": {
      "text/plain": [
       "21"
      ]
     },
     "execution_count": 5,
     "metadata": {},
     "output_type": "execute_result"
    }
   ],
   "source": [
    "num_a = texto.count(\"a\")\n",
    "num_e = texto.count(\"e\")\n",
    "num_i = texto.count(\"i\")\n",
    "num_o = texto.count(\"o\")\n",
    "num_u = texto.count(\"u\")\n",
    "num_vocales = num_a + num_e + num_i + num_o + num_u\n",
    "num_vocales"
   ]
  },
  {
   "cell_type": "markdown",
   "id": "bb2b92ed",
   "metadata": {},
   "source": [
    "4. Contar el número total de palabras en el texto ingresado"
   ]
  },
  {
   "cell_type": "code",
   "execution_count": 6,
   "id": "2869666a",
   "metadata": {},
   "outputs": [
    {
     "data": {
      "text/plain": [
       "14"
      ]
     },
     "execution_count": 6,
     "metadata": {},
     "output_type": "execute_result"
    }
   ],
   "source": [
    "num_palabras = num_espacios + 1\n",
    "num_palabras"
   ]
  },
  {
   "cell_type": "markdown",
   "id": "e3a1b482",
   "metadata": {},
   "source": [
    "5. Eliminar la primera palabra"
   ]
  },
  {
   "cell_type": "code",
   "execution_count": 8,
   "id": "57f89a11",
   "metadata": {},
   "outputs": [
    {
     "data": {
      "text/plain": [
       "'curso de Python para Data Science te va a llevar a lo máximo'"
      ]
     },
     "execution_count": 8,
     "metadata": {},
     "output_type": "execute_result"
    }
   ],
   "source": [
    "primer_espacio = texto.find(\" \")\n",
    "sin_primera_palabra = texto[primer_espacio + 1:]\n",
    "sin_primera_palabra"
   ]
  },
  {
   "cell_type": "markdown",
   "id": "8df2028e",
   "metadata": {},
   "source": [
    "6. Reemplazar todos los espacios por guiones medios (-)"
   ]
  },
  {
   "cell_type": "code",
   "execution_count": 9,
   "id": "401de85e",
   "metadata": {},
   "outputs": [
    {
     "data": {
      "text/plain": [
       "'Este-curso-de-Python-para-Data-Science-te-va-a-llevar-a-lo-máximo'"
      ]
     },
     "execution_count": 9,
     "metadata": {},
     "output_type": "execute_result"
    }
   ],
   "source": [
    "guiones = texto.replace(\" \", \"-\")\n",
    "guiones"
   ]
  },
  {
   "cell_type": "markdown",
   "id": "f8db7286",
   "metadata": {},
   "source": [
    "7. Cambia las mayúsculas a minúsculas y las minúsculas a mayúsculas"
   ]
  },
  {
   "cell_type": "code",
   "execution_count": 10,
   "id": "06a9bb6d",
   "metadata": {},
   "outputs": [
    {
     "data": {
      "text/plain": [
       "'eSTE CURSO DE pYTHON PARA dATA sCIENCE TE VA A LLEVAR A LO MÁXIMO'"
      ]
     },
     "execution_count": 10,
     "metadata": {},
     "output_type": "execute_result"
    }
   ],
   "source": [
    "viceversa = texto.swapcase()\n",
    "viceversa"
   ]
  },
  {
   "cell_type": "markdown",
   "id": "e11a6b35",
   "metadata": {},
   "source": [
    "Muéstrale al usuario los resultado"
   ]
  },
  {
   "cell_type": "code",
   "execution_count": 12,
   "id": "3b1d9065",
   "metadata": {},
   "outputs": [
    {
     "name": "stdout",
     "output_type": "stream",
     "text": [
      "El número de caracteres es 65\n",
      "Y si no contamos los espacios tienes 52 caracteres\n",
      "De los caracteres de texto, hay 21 que son vocales\n",
      "Si contamos las palabras, tu texto tiene 14 palabras\n",
      "Eliminando la primera palabra, queda así: curso de Python para Data Science te va a llevar a lo máximo\n",
      "Si cambiamos espacios por guiones, se ve así: Este-curso-de-Python-para-Data-Science-te-va-a-llevar-a-lo-máximo\n",
      "Cambiando mayusculas por minusculas, queda: eSTE CURSO DE pYTHON PARA dATA sCIENCE TE VA A LLEVAR A LO MÁXIMO\n"
     ]
    }
   ],
   "source": [
    "print(f\"El número de caracteres es {num_caracteres}\")\n",
    "print(f\"Y si no contamos los espacios tienes {num_caracteres_sin_espacio} caracteres\")\n",
    "print(f\"De los caracteres de texto, hay {num_vocales} que son vocales\")\n",
    "print(f\"Si contamos las palabras, tu texto tiene {num_palabras} palabras\")\n",
    "print(f\"Eliminando la primera palabra, queda así: {sin_primera_palabra}\")\n",
    "print(f\"Si cambiamos espacios por guiones, se ve así: {guiones}\")\n",
    "print(f\"Cambiando mayusculas por minusculas, queda: {viceversa}\")"
   ]
  },
  {
   "cell_type": "code",
   "execution_count": null,
   "id": "2f0533e2",
   "metadata": {},
   "outputs": [],
   "source": []
  }
 ],
 "metadata": {
  "kernelspec": {
   "display_name": "Python 3 (ipykernel)",
   "language": "python",
   "name": "python3"
  },
  "language_info": {
   "codemirror_mode": {
    "name": "ipython",
    "version": 3
   },
   "file_extension": ".py",
   "mimetype": "text/x-python",
   "name": "python",
   "nbconvert_exporter": "python",
   "pygments_lexer": "ipython3",
   "version": "3.11.5"
  }
 },
 "nbformat": 4,
 "nbformat_minor": 5
}
